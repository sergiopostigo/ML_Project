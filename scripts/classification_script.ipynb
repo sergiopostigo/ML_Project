{
 "cells": [
  {
   "cell_type": "markdown",
   "metadata": {},
   "source": [
    "# **Agricultural Exports Categories Analysis**\n",
    "*by Sergio Postigo and Víctor Diví*"
   ]
  },
  {
   "cell_type": "markdown",
   "metadata": {},
   "source": [
    "## **1. Introduction**\n",
    "Many countries base a big portion of their economies in foreign trade. Therefore, the customs agencies around the world collect data about every imported/exported good that passed across their ports, airports, borders, etc. In some countries, this data is open, and anyone can access to it to analyze it and make more informed decisions while importing or exporting goods. However, this data demands some challenges before its use. One of them is the labelling. For example, in Peru every time a good is imported/exported, a customs agent fills a form with the information of the product(s), where they include descriptions about it. Nonetheless, there isn´t a proper labelling, for instance in case we wanted to aggregate amounts imported/exported by category.\n",
    "\n",
    "The labelling for goods is done manually mainly by consultancy agencies, who get this data to generate analytics reports for companies and institutions interested in foreign trade information of specific products. They usually use MS Excel spreadsheets to perform the labeling, which is not efficient and takes much time. We want to address this pain by automatizing the labelling process using Machine Learning."
   ]
  },
  {
   "cell_type": "markdown",
   "metadata": {},
   "source": [
    "## **2. Data Wrangling**\n",
    "The data was provided from a consultancy company in Peru called RTM. They were hired by an agricultural exports company who were interested in knowing which categories of products were exported from Peru from 2017 till 2021. RTM adquired the data from the company Veritrade, who consolidate foreign trade databases from many conuntries in South America. \n",
    "\n",
    "RTM provided us the data in .xlsx format. We converted it into CSV (using Excel) and then proceed to import it into this notebook as DataFrame with the Pandas library. "
   ]
  },
  {
   "cell_type": "code",
   "execution_count": 1,
   "metadata": {},
   "outputs": [],
   "source": [
    "# Import Pandas library\n",
    "import pandas as pd"
   ]
  },
  {
   "cell_type": "code",
   "execution_count": 2,
   "metadata": {},
   "outputs": [
    {
     "name": "stderr",
     "output_type": "stream",
     "text": [
      "C:\\Users\\spost\\AppData\\Local\\Temp\\ipykernel_22248\\2959501331.py:2: DtypeWarning: Columns (6,22,33,34) have mixed types. Specify dtype option on import or set low_memory=False.\n",
      "  data =  pd.read_csv(\"../data/data.csv\")\n"
     ]
    },
    {
     "data": {
      "text/html": [
       "<div>\n",
       "<style scoped>\n",
       "    .dataframe tbody tr th:only-of-type {\n",
       "        vertical-align: middle;\n",
       "    }\n",
       "\n",
       "    .dataframe tbody tr th {\n",
       "        vertical-align: top;\n",
       "    }\n",
       "\n",
       "    .dataframe thead th {\n",
       "        text-align: right;\n",
       "    }\n",
       "</style>\n",
       "<table border=\"1\" class=\"dataframe\">\n",
       "  <thead>\n",
       "    <tr style=\"text-align: right;\">\n",
       "      <th></th>\n",
       "      <th>Partida Aduanera</th>\n",
       "      <th>Descripcion de la Partida Aduanera</th>\n",
       "      <th>Aduana</th>\n",
       "      <th>DUA</th>\n",
       "      <th>Fecha</th>\n",
       "      <th>Año</th>\n",
       "      <th>Cod. Tributario</th>\n",
       "      <th>Exportador en Perú</th>\n",
       "      <th>Importador Extranjero</th>\n",
       "      <th>Kg Bruto</th>\n",
       "      <th>...</th>\n",
       "      <th>Descripcion5</th>\n",
       "      <th>Naviera</th>\n",
       "      <th>Agente Carga(Origen)</th>\n",
       "      <th>Agente Carga(Destino)</th>\n",
       "      <th>Canal</th>\n",
       "      <th>Concatenar</th>\n",
       "      <th>Categoría macro Aurum</th>\n",
       "      <th>Subcategoría inicial</th>\n",
       "      <th>Subcategoría Consolidada Aurum</th>\n",
       "      <th>Categoría Consolidada Aurum</th>\n",
       "    </tr>\n",
       "  </thead>\n",
       "  <tbody>\n",
       "    <tr>\n",
       "      <th>0</th>\n",
       "      <td>711200000</td>\n",
       "      <td>ACEITUNA CONSERVADAS PROVISIONALMENTE,TODAVIA ...</td>\n",
       "      <td>MARITIMA DEL CALLAO</td>\n",
       "      <td>114358 | 1</td>\n",
       "      <td>11/19/2019</td>\n",
       "      <td>2019</td>\n",
       "      <td>20505580291</td>\n",
       "      <td>Cultivares Sac</td>\n",
       "      <td>Comercial Agricola Montoliva Ltda.</td>\n",
       "      <td>14302.53</td>\n",
       "      <td>...</td>\n",
       "      <td>RESTITUCION DERECHOS ARANC. (COD 13)</td>\n",
       "      <td>NaN</td>\n",
       "      <td>NaN</td>\n",
       "      <td>NaN</td>\n",
       "      <td>NaN</td>\n",
       "      <td>ACEITUNAS ARAUCO PRESENTACION EN BIDONES RESTI...</td>\n",
       "      <td>Aceituna</td>\n",
       "      <td>Aceitunas Arauco</td>\n",
       "      <td>Otras Variedades De Aceituna</td>\n",
       "      <td>Aceituna</td>\n",
       "    </tr>\n",
       "    <tr>\n",
       "      <th>1</th>\n",
       "      <td>711200000</td>\n",
       "      <td>ACEITUNA CONSERVADAS PROVISIONALMENTE,TODAVIA ...</td>\n",
       "      <td>MARITIMA DEL CALLAO</td>\n",
       "      <td>017611 | 1</td>\n",
       "      <td>2/21/2019</td>\n",
       "      <td>2019</td>\n",
       "      <td>20505580291</td>\n",
       "      <td>Cultivares Sac</td>\n",
       "      <td>Comercial Agricola Montoliva Ltda.</td>\n",
       "      <td>10686.93</td>\n",
       "      <td>...</td>\n",
       "      <td>RESTITUCION DERECHOS ARANC. (COD 13)</td>\n",
       "      <td>YANGMING MARINE TRANSPORT CORP</td>\n",
       "      <td>NEW FORWARDING SOCIEDAD ANONIMA CERRADA</td>\n",
       "      <td>MAC-KAY CARGO LTDA RUT: 76.242.137-</td>\n",
       "      <td>NaN</td>\n",
       "      <td>ACEITUNAS ARAUCO PRESENTACION EN BIDONES VERDE...</td>\n",
       "      <td>Aceituna</td>\n",
       "      <td>Aceitunas Arauco</td>\n",
       "      <td>Otras Variedades De Aceituna</td>\n",
       "      <td>Aceituna</td>\n",
       "    </tr>\n",
       "    <tr>\n",
       "      <th>2</th>\n",
       "      <td>711200000</td>\n",
       "      <td>ACEITUNA CONSERVADAS PROVISIONALMENTE,TODAVIA ...</td>\n",
       "      <td>MARITIMA DEL CALLAO</td>\n",
       "      <td>102610 | 11</td>\n",
       "      <td>10/16/2018</td>\n",
       "      <td>2018</td>\n",
       "      <td>20514935328</td>\n",
       "      <td>Oasis Olives S.A.C.</td>\n",
       "      <td>Oasis Fine Foods Pty Ltd</td>\n",
       "      <td>584.16</td>\n",
       "      <td>...</td>\n",
       "      <td>NaN</td>\n",
       "      <td>PACIFIC INTERNATIONAL LINES</td>\n",
       "      <td>NaN</td>\n",
       "      <td>NaN</td>\n",
       "      <td>NaN</td>\n",
       "      <td>4 BIDONES ACEITUNA DE MESA ASCOLANA VERDE DESH...</td>\n",
       "      <td>Aceituna</td>\n",
       "      <td>Aceitunas Ascolana</td>\n",
       "      <td>Otras Variedades De Aceituna</td>\n",
       "      <td>Aceituna</td>\n",
       "    </tr>\n",
       "    <tr>\n",
       "      <th>3</th>\n",
       "      <td>709920000</td>\n",
       "      <td>ACEITUNAS</td>\n",
       "      <td>MARITIMA DEL CALLAO</td>\n",
       "      <td>059623 | 3</td>\n",
       "      <td>7/5/2018</td>\n",
       "      <td>2018</td>\n",
       "      <td>20342015108</td>\n",
       "      <td>Agroindustrias Nobex S.A.</td>\n",
       "      <td>Chains Trading Company Ltd.</td>\n",
       "      <td>2696.51</td>\n",
       "      <td>...</td>\n",
       "      <td>SE ACOGE A RESTITUCION DE DERECHOS ARANCELARIO...</td>\n",
       "      <td>HAPAG-LLOYD A G</td>\n",
       "      <td>NaN</td>\n",
       "      <td>NaN</td>\n",
       "      <td>NaN</td>\n",
       "      <td>ACEITUNA ASCOLANA ENTERA 07-09 BID80L 58KG C/B...</td>\n",
       "      <td>Aceituna</td>\n",
       "      <td>Aceitunas Ascolana</td>\n",
       "      <td>Otras Variedades De Aceituna</td>\n",
       "      <td>Aceituna</td>\n",
       "    </tr>\n",
       "    <tr>\n",
       "      <th>4</th>\n",
       "      <td>711200000</td>\n",
       "      <td>ACEITUNA CONSERVADAS PROVISIONALMENTE,TODAVIA ...</td>\n",
       "      <td>MARITIMA DEL CALLAO</td>\n",
       "      <td>114358 | 2</td>\n",
       "      <td>11/19/2019</td>\n",
       "      <td>2019</td>\n",
       "      <td>20505580291</td>\n",
       "      <td>Cultivares Sac</td>\n",
       "      <td>Comercial Agricola Montoliva Ltda.</td>\n",
       "      <td>3558.25</td>\n",
       "      <td>...</td>\n",
       "      <td>RESTITUCION DERECHOS ARANC. (COD 13)</td>\n",
       "      <td>NaN</td>\n",
       "      <td>NaN</td>\n",
       "      <td>NaN</td>\n",
       "      <td>NaN</td>\n",
       "      <td>ACEITUNA ASCOLANO PRESENTACION EN BIDONES REST...</td>\n",
       "      <td>Aceituna</td>\n",
       "      <td>Aceitunas Ascolana</td>\n",
       "      <td>Otras Variedades De Aceituna</td>\n",
       "      <td>Aceituna</td>\n",
       "    </tr>\n",
       "  </tbody>\n",
       "</table>\n",
       "<p>5 rows × 41 columns</p>\n",
       "</div>"
      ],
      "text/plain": [
       "   Partida Aduanera                 Descripcion de la Partida Aduanera  \\\n",
       "0         711200000  ACEITUNA CONSERVADAS PROVISIONALMENTE,TODAVIA ...   \n",
       "1         711200000  ACEITUNA CONSERVADAS PROVISIONALMENTE,TODAVIA ...   \n",
       "2         711200000  ACEITUNA CONSERVADAS PROVISIONALMENTE,TODAVIA ...   \n",
       "3         709920000                                          ACEITUNAS   \n",
       "4         711200000  ACEITUNA CONSERVADAS PROVISIONALMENTE,TODAVIA ...   \n",
       "\n",
       "                Aduana          DUA       Fecha   Año Cod. Tributario  \\\n",
       "0  MARITIMA DEL CALLAO   114358 | 1  11/19/2019  2019     20505580291   \n",
       "1  MARITIMA DEL CALLAO   017611 | 1   2/21/2019  2019     20505580291   \n",
       "2  MARITIMA DEL CALLAO  102610 | 11  10/16/2018  2018     20514935328   \n",
       "3  MARITIMA DEL CALLAO   059623 | 3    7/5/2018  2018     20342015108   \n",
       "4  MARITIMA DEL CALLAO   114358 | 2  11/19/2019  2019     20505580291   \n",
       "\n",
       "          Exportador en Perú               Importador Extranjero  Kg Bruto  \\\n",
       "0             Cultivares Sac  Comercial Agricola Montoliva Ltda.  14302.53   \n",
       "1             Cultivares Sac  Comercial Agricola Montoliva Ltda.  10686.93   \n",
       "2        Oasis Olives S.A.C.            Oasis Fine Foods Pty Ltd    584.16   \n",
       "3  Agroindustrias Nobex S.A.         Chains Trading Company Ltd.   2696.51   \n",
       "4             Cultivares Sac  Comercial Agricola Montoliva Ltda.   3558.25   \n",
       "\n",
       "   ...                                       Descripcion5  \\\n",
       "0  ...               RESTITUCION DERECHOS ARANC. (COD 13)   \n",
       "1  ...               RESTITUCION DERECHOS ARANC. (COD 13)   \n",
       "2  ...                                                NaN   \n",
       "3  ...  SE ACOGE A RESTITUCION DE DERECHOS ARANCELARIO...   \n",
       "4  ...               RESTITUCION DERECHOS ARANC. (COD 13)   \n",
       "\n",
       "                          Naviera                     Agente Carga(Origen)  \\\n",
       "0                             NaN                                      NaN   \n",
       "1  YANGMING MARINE TRANSPORT CORP  NEW FORWARDING SOCIEDAD ANONIMA CERRADA   \n",
       "2     PACIFIC INTERNATIONAL LINES                                      NaN   \n",
       "3                 HAPAG-LLOYD A G                                      NaN   \n",
       "4                             NaN                                      NaN   \n",
       "\n",
       "                 Agente Carga(Destino)  Canal  \\\n",
       "0                                  NaN    NaN   \n",
       "1  MAC-KAY CARGO LTDA RUT: 76.242.137-    NaN   \n",
       "2                                  NaN    NaN   \n",
       "3                                  NaN    NaN   \n",
       "4                                  NaN    NaN   \n",
       "\n",
       "                                          Concatenar  Categoría macro Aurum  \\\n",
       "0  ACEITUNAS ARAUCO PRESENTACION EN BIDONES RESTI...               Aceituna   \n",
       "1  ACEITUNAS ARAUCO PRESENTACION EN BIDONES VERDE...               Aceituna   \n",
       "2  4 BIDONES ACEITUNA DE MESA ASCOLANA VERDE DESH...               Aceituna   \n",
       "3  ACEITUNA ASCOLANA ENTERA 07-09 BID80L 58KG C/B...               Aceituna   \n",
       "4  ACEITUNA ASCOLANO PRESENTACION EN BIDONES REST...               Aceituna   \n",
       "\n",
       "   Subcategoría inicial  Subcategoría Consolidada Aurum  \\\n",
       "0      Aceitunas Arauco    Otras Variedades De Aceituna   \n",
       "1      Aceitunas Arauco    Otras Variedades De Aceituna   \n",
       "2    Aceitunas Ascolana    Otras Variedades De Aceituna   \n",
       "3    Aceitunas Ascolana    Otras Variedades De Aceituna   \n",
       "4    Aceitunas Ascolana    Otras Variedades De Aceituna   \n",
       "\n",
       "   Categoría Consolidada Aurum  \n",
       "0                     Aceituna  \n",
       "1                     Aceituna  \n",
       "2                     Aceituna  \n",
       "3                     Aceituna  \n",
       "4                     Aceituna  \n",
       "\n",
       "[5 rows x 41 columns]"
      ]
     },
     "execution_count": 2,
     "metadata": {},
     "output_type": "execute_result"
    }
   ],
   "source": [
    "# Convert the CSV data into Dataframe\n",
    "data =  pd.read_csv(\"../data/data.csv\")\n",
    "data.head()"
   ]
  },
  {
   "cell_type": "markdown",
   "metadata": {},
   "source": [
    "Since we don't have a separated training data source, we will split the data available into training and testing data"
   ]
  },
  {
   "cell_type": "code",
   "execution_count": 3,
   "metadata": {},
   "outputs": [],
   "source": [
    "from sklearn.model_selection import train_test_split\n",
    "\n",
    "# We use 20% of the data to test and 80% to train\n",
    "train, test = train_test_split(data, test_size=0.2, random_state=5)"
   ]
  },
  {
   "cell_type": "markdown",
   "metadata": {},
   "source": [
    "## **3. Exploratory Data Analysis**"
   ]
  },
  {
   "cell_type": "markdown",
   "metadata": {},
   "source": [
    "Let's first describe the columns of the table"
   ]
  },
  {
   "cell_type": "code",
   "execution_count": 4,
   "metadata": {},
   "outputs": [
    {
     "data": {
      "text/plain": [
       "Index(['Partida Aduanera', 'Descripcion de la Partida Aduanera', 'Aduana',\n",
       "       'DUA', 'Fecha', 'Año', 'Cod. Tributario', 'Exportador en Perú',\n",
       "       'Importador Extranjero', 'Kg Bruto', 'Kg Neto', 'Toneladas Netas',\n",
       "       'Qty 1', 'Und 1', 'Qty 2', 'Und 2', 'U$ FOB Tot',\n",
       "       'Miles de USD Fob TOTAL', 'U$ FOB Und 1', 'U$ FOB Und 2',\n",
       "       'Pais de Destino', 'Puerto de destino', 'Último Puerto Embarque', 'Via',\n",
       "       'Agente Portuario', 'Agente de Aduana', 'Descripcion Comercial',\n",
       "       'Descripcion1', 'Descripcion2', 'Descripcion3', 'Descripcion4',\n",
       "       'Descripcion5', 'Naviera', 'Agente Carga(Origen)',\n",
       "       'Agente Carga(Destino)', 'Canal', 'Concatenar', 'Categoría macro Aurum',\n",
       "       'Subcategoría inicial', 'Subcategoría Consolidada Aurum',\n",
       "       'Categoría Consolidada Aurum'],\n",
       "      dtype='object')"
      ]
     },
     "execution_count": 4,
     "metadata": {},
     "output_type": "execute_result"
    }
   ],
   "source": [
    "# Get all the columns\n",
    "train.columns"
   ]
  },
  {
   "cell_type": "markdown",
   "metadata": {},
   "source": [
    "1. Partida Aduanera: Specific code of a product included in the Harmonized System of the World Customs Organization (WCO)\n",
    "\n",
    "2. Descripcion de la Partida Aduanera: Description about the product associated with the customs code\n",
    "\n",
    "3. Aduana: Customs office from which the export was performed\n",
    "\n",
    "4. DUA:  Single Administrative Document, it is a document that gathers information about the shipping\n",
    "\n",
    "5. Fecha: Shipping date\n",
    "\n",
    "6. Año: Shipping year\n",
    "\n",
    "7. Cod. Tributario: Tax code of the company exporting the good\n",
    "\n",
    "8. Exportador en Perú: Company or entity exporting the good\n",
    "\n",
    "9. Importador Extranjero: Company or entity importing the good\n",
    "\n",
    "10. Kg Bruto: Weight of the good in kg, including the weight of the container or box\n",
    "\n",
    "11. Kg Neto: Weight of good in kg, excluding the weight of the container or box\n",
    "\n",
    "12. Toneladas Netas: Weight of good in tons, excluding the weight of the container or box\n",
    "\n",
    "13. Qty 1: Quantity of the good in terms of a specific measurement unit (1)\n",
    "\n",
    "14. Und 1: Unit of measurement (1)\n",
    "\n",
    "15. Qty 2: Quantity of the good in terms of a specific measurement unit (2)\n",
    "\n",
    "16. Und 2:  Unit of measurement (2)\n",
    "\n",
    "17. U$ FOB Tot: The value of the goods at the exporter's customs frontier in USD\n",
    "\n",
    "18. Miles de USD Fob TOTAL: The value of the goods at the exporter's customs frontier in thousands of USD\n",
    "\n",
    "19. U$ FOB Und 1: The value of the goods by unity (1)\n",
    "\n",
    "20. U$ FOB Und 2: The value of the goods by unity (2)\n",
    "\n",
    "21. Pais de Destino: Country of destiny\n",
    "\n",
    "22. Puerto de destino: Port of destiny\n",
    "\n",
    "23. Último Puerto Embarque: Last port of shipment\n",
    "\n",
    "24. Via: Via (air, see, maritime)\n",
    "\n",
    "25. Agente Portuario: Port agent\n",
    "\n",
    "26. Agente de Aduana: Customs agent\n",
    "\n",
    "27. Descripcion Comercial: Commercial description of the good\n",
    "\n",
    "28. Descripcion1: Commercial description portion 1\n",
    "\n",
    "29. Descripcion2: Commercial description portion 2\n",
    "\n",
    "30. Descripcion3: Commercial description portion 3\n",
    "\n",
    "31. Descripcion4: Commercial description portion 4\n",
    "\n",
    "32. Descripcion5: Commercial description portion 5\n",
    "\n",
    "33. Naviera: Shipping company\n",
    "\n",
    "34. Agente Carga(Origen): Load Agent (origin)\n",
    "\n",
    "35. Agente Carga(Destino): Load Agent (destiny)\n",
    "\n",
    "36. Canal: Selectivity channe. Type of control that the Customs Service will carry out on the merchandise to be exported. There are three channels: Green, Orange and Red\n",
    "\n",
    "37. Concatenar: Column that concatenates 27, 28, 29, 30, 31, 32\n",
    "\n",
    "38. Categoría macro Aurum: Designated category/label\n",
    "\n",
    "39. Subcategoría inicial: Designated subcategories/sub-lables\n",
    "\n",
    "40. Subcategoría Consolidada Aurum:  Designated subcategories/sub-lables (with less granularity, it groups some sub-categories in \"others\")\n",
    "\n",
    "41. Categoría Consolidada Aurum: Designated category/label (with less granularity, it groups some categories in \"others\")"
   ]
  },
  {
   "cell_type": "markdown",
   "metadata": {},
   "source": [
    "#### **Remark 1:**"
   ]
  },
  {
   "cell_type": "markdown",
   "metadata": {},
   "source": [
    " *Descripcion1*, *Descripcion2*, *Descripcion3*, *Descripcion4* and *Descripcion5* concatenaded build *Descripcion Comercial*"
   ]
  },
  {
   "cell_type": "code",
   "execution_count": 5,
   "metadata": {},
   "outputs": [
    {
     "data": {
      "text/html": [
       "<div>\n",
       "<style scoped>\n",
       "    .dataframe tbody tr th:only-of-type {\n",
       "        vertical-align: middle;\n",
       "    }\n",
       "\n",
       "    .dataframe tbody tr th {\n",
       "        vertical-align: top;\n",
       "    }\n",
       "\n",
       "    .dataframe thead th {\n",
       "        text-align: right;\n",
       "    }\n",
       "</style>\n",
       "<table border=\"1\" class=\"dataframe\">\n",
       "  <thead>\n",
       "    <tr style=\"text-align: right;\">\n",
       "      <th></th>\n",
       "      <th>Descripcion Comercial</th>\n",
       "      <th>Concatenated_Descriptions</th>\n",
       "      <th>Equal?</th>\n",
       "    </tr>\n",
       "  </thead>\n",
       "  <tbody>\n",
       "    <tr>\n",
       "      <th>541490</th>\n",
       "      <td>UVAS FRESCAS EN CAJAS VARIEDAD: IFG ELEVEN COL...</td>\n",
       "      <td>UVAS FRESCAS EN CAJAS VARIEDAD: IFG ELEVEN COL...</td>\n",
       "      <td>True</td>\n",
       "    </tr>\n",
       "    <tr>\n",
       "      <th>102488</th>\n",
       "      <td>CEBOLLAS FRESCASEN SACOS DE 46 KGPARA SU COMER...</td>\n",
       "      <td>CEBOLLAS FRESCASEN SACOS DE 46 KGPARA SU COMER...</td>\n",
       "      <td>True</td>\n",
       "    </tr>\n",
       "    <tr>\n",
       "      <th>201853</th>\n",
       "      <td>ESPARRAGOS  FRESCOS    CODIGO Nº13 RESTITUCION...</td>\n",
       "      <td>ESPARRAGOS  FRESCOS    CODIGO Nº13 RESTITUCION...</td>\n",
       "      <td>True</td>\n",
       "    </tr>\n",
       "    <tr>\n",
       "      <th>215653</th>\n",
       "      <td>ESPARRAGOS   FRESCOS EN CAJAS DRAWBACK ESPARRA...</td>\n",
       "      <td>ESPARRAGOS   FRESCOS EN CAJAS DRAWBACK ESPARRA...</td>\n",
       "      <td>False</td>\n",
       "    </tr>\n",
       "    <tr>\n",
       "      <th>312016</th>\n",
       "      <td>MANDARINAS FRESCAS TANGO  COLD TREATMENT EXPOR...</td>\n",
       "      <td>MANDARINAS FRESCAS TANGO  COLD TREATMENT EXPOR...</td>\n",
       "      <td>True</td>\n",
       "    </tr>\n",
       "    <tr>\n",
       "      <th>...</th>\n",
       "      <td>...</td>\n",
       "      <td>...</td>\n",
       "      <td>...</td>\n",
       "    </tr>\n",
       "    <tr>\n",
       "      <th>558088</th>\n",
       "      <td>UVAS FRESCAS,VARIEDAD: SWEET GLOBE,CONDICION: ...</td>\n",
       "      <td>UVAS FRESCAS,VARIEDAD: SWEET GLOBE,CONDICION: ...</td>\n",
       "      <td>True</td>\n",
       "    </tr>\n",
       "    <tr>\n",
       "      <th>124605</th>\n",
       "      <td>CEBOLLA FRESCA ROJAEMBALADA EN SACOS(653 SACOS...</td>\n",
       "      <td>CEBOLLA FRESCA ROJAEMBALADA EN SACOS(653 SACOS...</td>\n",
       "      <td>True</td>\n",
       "    </tr>\n",
       "    <tr>\n",
       "      <th>544751</th>\n",
       "      <td>UVAS FRESCAS EN CAJAS VARIEDAD SUGRAONE COLD T...</td>\n",
       "      <td>UVAS FRESCAS EN CAJAS VARIEDAD SUGRAONE COLD T...</td>\n",
       "      <td>True</td>\n",
       "    </tr>\n",
       "    <tr>\n",
       "      <th>18638</th>\n",
       "      <td>ARANDANO FRESCO   EN CAJAS SE ACOGE AL DRAWBACK</td>\n",
       "      <td>ARANDANO FRESCO   EN CAJAS SE ACOGE AL DRAWBACK</td>\n",
       "      <td>True</td>\n",
       "    </tr>\n",
       "    <tr>\n",
       "      <th>297827</th>\n",
       "      <td>MANDARINA FRESCA VARIEDAD: SATSUMA EN CAJAS DE...</td>\n",
       "      <td>MANDARINA FRESCA VARIEDAD: SATSUMA EN CAJAS DE...</td>\n",
       "      <td>True</td>\n",
       "    </tr>\n",
       "  </tbody>\n",
       "</table>\n",
       "<p>505115 rows × 3 columns</p>\n",
       "</div>"
      ],
      "text/plain": [
       "                                    Descripcion Comercial  \\\n",
       "541490  UVAS FRESCAS EN CAJAS VARIEDAD: IFG ELEVEN COL...   \n",
       "102488  CEBOLLAS FRESCASEN SACOS DE 46 KGPARA SU COMER...   \n",
       "201853  ESPARRAGOS  FRESCOS    CODIGO Nº13 RESTITUCION...   \n",
       "215653  ESPARRAGOS   FRESCOS EN CAJAS DRAWBACK ESPARRA...   \n",
       "312016  MANDARINAS FRESCAS TANGO  COLD TREATMENT EXPOR...   \n",
       "...                                                   ...   \n",
       "558088  UVAS FRESCAS,VARIEDAD: SWEET GLOBE,CONDICION: ...   \n",
       "124605  CEBOLLA FRESCA ROJAEMBALADA EN SACOS(653 SACOS...   \n",
       "544751  UVAS FRESCAS EN CAJAS VARIEDAD SUGRAONE COLD T...   \n",
       "18638     ARANDANO FRESCO   EN CAJAS SE ACOGE AL DRAWBACK   \n",
       "297827  MANDARINA FRESCA VARIEDAD: SATSUMA EN CAJAS DE...   \n",
       "\n",
       "                                Concatenated_Descriptions  Equal?  \n",
       "541490  UVAS FRESCAS EN CAJAS VARIEDAD: IFG ELEVEN COL...    True  \n",
       "102488  CEBOLLAS FRESCASEN SACOS DE 46 KGPARA SU COMER...    True  \n",
       "201853  ESPARRAGOS  FRESCOS    CODIGO Nº13 RESTITUCION...    True  \n",
       "215653  ESPARRAGOS   FRESCOS EN CAJAS DRAWBACK ESPARRA...   False  \n",
       "312016  MANDARINAS FRESCAS TANGO  COLD TREATMENT EXPOR...    True  \n",
       "...                                                   ...     ...  \n",
       "558088  UVAS FRESCAS,VARIEDAD: SWEET GLOBE,CONDICION: ...    True  \n",
       "124605  CEBOLLA FRESCA ROJAEMBALADA EN SACOS(653 SACOS...    True  \n",
       "544751  UVAS FRESCAS EN CAJAS VARIEDAD SUGRAONE COLD T...    True  \n",
       "18638     ARANDANO FRESCO   EN CAJAS SE ACOGE AL DRAWBACK    True  \n",
       "297827  MANDARINA FRESCA VARIEDAD: SATSUMA EN CAJAS DE...    True  \n",
       "\n",
       "[505115 rows x 3 columns]"
      ]
     },
     "execution_count": 5,
     "metadata": {},
     "output_type": "execute_result"
    }
   ],
   "source": [
    "# Replace NaN values with ''\n",
    "train.fillna('', inplace=True)\n",
    "\n",
    "# Concatenate Descripcion1, Descripcion2, Descripcion3, Descripcion4 and Descripcion5 and save the string in column \"train\"\n",
    "train['Concatenated_Descriptions'] = train['Descripcion1'] + ' ' + train['Descripcion2'] + ' ' + train['Descripcion3'] + ' ' + train['Descripcion4'] + ' ' + train['Descripcion5']\n",
    "\n",
    "# Remove spaces before and after the string\n",
    "train['Concatenated_Descriptions'] = train['Concatenated_Descriptions'].str.strip()\n",
    "\n",
    "# Compare \"Descripcion Comercial\" and \"train\"\n",
    "train['Equal?'] = train['Descripcion Comercial'] == train['Concatenated_Descriptions']\n",
    "\n",
    "# Print the comparison\n",
    "temp_df = train[['Descripcion Comercial', 'Concatenated_Descriptions', 'Equal?']]\n",
    "temp_df"
   ]
  },
  {
   "cell_type": "code",
   "execution_count": 6,
   "metadata": {},
   "outputs": [
    {
     "name": "stdout",
     "output_type": "stream",
     "text": [
      "From 505115 rows, *Descripcion Comercial* and the *Concatenated_Descriptions* are equal in 477143.\n"
     ]
    }
   ],
   "source": [
    "# Check if all are equal\n",
    "print(\"From \"+str(temp_df[[\"Equal?\"]].describe().values[0][0])+\" rows, *Descripcion Comercial* and the *Concatenated_Descriptions* are equal in \"+str(temp_df[[\"Equal?\"]].describe().values[3][0])+\".\")"
   ]
  },
  {
   "cell_type": "code",
   "execution_count": 7,
   "metadata": {},
   "outputs": [
    {
     "data": {
      "text/html": [
       "<div>\n",
       "<style scoped>\n",
       "    .dataframe tbody tr th:only-of-type {\n",
       "        vertical-align: middle;\n",
       "    }\n",
       "\n",
       "    .dataframe tbody tr th {\n",
       "        vertical-align: top;\n",
       "    }\n",
       "\n",
       "    .dataframe thead th {\n",
       "        text-align: right;\n",
       "    }\n",
       "</style>\n",
       "<table border=\"1\" class=\"dataframe\">\n",
       "  <thead>\n",
       "    <tr style=\"text-align: right;\">\n",
       "      <th></th>\n",
       "      <th>Descripcion Comercial</th>\n",
       "      <th>Concatenated_Descriptions</th>\n",
       "      <th>Equal?</th>\n",
       "    </tr>\n",
       "  </thead>\n",
       "  <tbody>\n",
       "    <tr>\n",
       "      <th>215653</th>\n",
       "      <td>ESPARRAGOS   FRESCOS EN CAJAS DRAWBACK ESPARRA...</td>\n",
       "      <td>ESPARRAGOS   FRESCOS EN CAJAS DRAWBACK ESPARRA...</td>\n",
       "      <td>False</td>\n",
       "    </tr>\n",
       "    <tr>\n",
       "      <th>293228</th>\n",
       "      <td>MANDARINAS FRESCAS EN CAJAS CONSUMO HUMANO / V...</td>\n",
       "      <td>MANDARINAS FRESCAS EN CAJAS CONSUMO HUMANO / V...</td>\n",
       "      <td>False</td>\n",
       "    </tr>\n",
       "    <tr>\n",
       "      <th>324782</th>\n",
       "      <td>MANDARINA SECA S. OWARI EN SACOS INDUSTRIA FAR...</td>\n",
       "      <td>MANDARINA SECA S. OWARI EN SACOS INDUSTRIA FAR...</td>\n",
       "      <td>False</td>\n",
       "    </tr>\n",
       "    <tr>\n",
       "      <th>440601</th>\n",
       "      <td>QUINUA BLANCA ORGANICA BOLSAS DE PAPEL DE 25 K...</td>\n",
       "      <td>QUINUA BLANCA ORGANICA BOLSAS DE PAPEL DE 25 K...</td>\n",
       "      <td>False</td>\n",
       "    </tr>\n",
       "    <tr>\n",
       "      <th>170210</th>\n",
       "      <td>ESPARRAGO  FRESCO EN CAJAS DRAWBACK ESPARRAGO ...</td>\n",
       "      <td>ESPARRAGO  FRESCO EN CAJAS DRAWBACK ESPARRAGO ...</td>\n",
       "      <td>False</td>\n",
       "    </tr>\n",
       "    <tr>\n",
       "      <th>...</th>\n",
       "      <td>...</td>\n",
       "      <td>...</td>\n",
       "      <td>...</td>\n",
       "    </tr>\n",
       "    <tr>\n",
       "      <th>547092</th>\n",
       "      <td>UVA DE MESA - FLAME SEEDLESS SUPERIOR CONSUMO ...</td>\n",
       "      <td>UVA DE MESA - FLAME SEEDLESS SUPERIOR CONSUMO ...</td>\n",
       "      <td>False</td>\n",
       "    </tr>\n",
       "    <tr>\n",
       "      <th>466620</th>\n",
       "      <td>UVAS FRESCAS EN CAJAS / VARIEDAD CRIMSON CONSU...</td>\n",
       "      <td>UVAS FRESCAS EN CAJAS / VARIEDAD CRIMSON CONSU...</td>\n",
       "      <td>False</td>\n",
       "    </tr>\n",
       "    <tr>\n",
       "      <th>456887</th>\n",
       "      <td>QUINUA TRICOLOR ORGANICA EN BOLSAS DE PAPEL DE...</td>\n",
       "      <td>QUINUA TRICOLOR ORGANICA EN BOLSAS DE PAPEL DE...</td>\n",
       "      <td>False</td>\n",
       "    </tr>\n",
       "    <tr>\n",
       "      <th>394051</th>\n",
       "      <td>PALTA FRESCA VARIEDAD: HASS EN CAJAS DE 4KG C/...</td>\n",
       "      <td>PALTA FRESCA VARIEDAD: HASS EN CAJAS DE 4KG C/...</td>\n",
       "      <td>False</td>\n",
       "    </tr>\n",
       "    <tr>\n",
       "      <th>586609</th>\n",
       "      <td>AJI AMARILLO ORGANICO -  SECO ENTERO 3 BOLSAS ...</td>\n",
       "      <td>AJI AMARILLO ORGANICO -  SECO ENTERO 3 BOLSAS ...</td>\n",
       "      <td>False</td>\n",
       "    </tr>\n",
       "  </tbody>\n",
       "</table>\n",
       "<p>27972 rows × 3 columns</p>\n",
       "</div>"
      ],
      "text/plain": [
       "                                    Descripcion Comercial  \\\n",
       "215653  ESPARRAGOS   FRESCOS EN CAJAS DRAWBACK ESPARRA...   \n",
       "293228  MANDARINAS FRESCAS EN CAJAS CONSUMO HUMANO / V...   \n",
       "324782  MANDARINA SECA S. OWARI EN SACOS INDUSTRIA FAR...   \n",
       "440601  QUINUA BLANCA ORGANICA BOLSAS DE PAPEL DE 25 K...   \n",
       "170210  ESPARRAGO  FRESCO EN CAJAS DRAWBACK ESPARRAGO ...   \n",
       "...                                                   ...   \n",
       "547092  UVA DE MESA - FLAME SEEDLESS SUPERIOR CONSUMO ...   \n",
       "466620  UVAS FRESCAS EN CAJAS / VARIEDAD CRIMSON CONSU...   \n",
       "456887  QUINUA TRICOLOR ORGANICA EN BOLSAS DE PAPEL DE...   \n",
       "394051  PALTA FRESCA VARIEDAD: HASS EN CAJAS DE 4KG C/...   \n",
       "586609  AJI AMARILLO ORGANICO -  SECO ENTERO 3 BOLSAS ...   \n",
       "\n",
       "                                Concatenated_Descriptions  Equal?  \n",
       "215653  ESPARRAGOS   FRESCOS EN CAJAS DRAWBACK ESPARRA...   False  \n",
       "293228  MANDARINAS FRESCAS EN CAJAS CONSUMO HUMANO / V...   False  \n",
       "324782  MANDARINA SECA S. OWARI EN SACOS INDUSTRIA FAR...   False  \n",
       "440601  QUINUA BLANCA ORGANICA BOLSAS DE PAPEL DE 25 K...   False  \n",
       "170210  ESPARRAGO  FRESCO EN CAJAS DRAWBACK ESPARRAGO ...   False  \n",
       "...                                                   ...     ...  \n",
       "547092  UVA DE MESA - FLAME SEEDLESS SUPERIOR CONSUMO ...   False  \n",
       "466620  UVAS FRESCAS EN CAJAS / VARIEDAD CRIMSON CONSU...   False  \n",
       "456887  QUINUA TRICOLOR ORGANICA EN BOLSAS DE PAPEL DE...   False  \n",
       "394051  PALTA FRESCA VARIEDAD: HASS EN CAJAS DE 4KG C/...   False  \n",
       "586609  AJI AMARILLO ORGANICO -  SECO ENTERO 3 BOLSAS ...   False  \n",
       "\n",
       "[27972 rows x 3 columns]"
      ]
     },
     "execution_count": 7,
     "metadata": {},
     "output_type": "execute_result"
    }
   ],
   "source": [
    "temp_df[temp_df['Equal?']==False]"
   ]
  },
  {
   "cell_type": "markdown",
   "metadata": {},
   "source": [
    "Let's check what happens in a row where *Equal?* is false"
   ]
  },
  {
   "cell_type": "code",
   "execution_count": 8,
   "metadata": {},
   "outputs": [
    {
     "name": "stdout",
     "output_type": "stream",
     "text": [
      "QUINUA BLANCA   EN SACOS SE ACOGE A RESTITUCION DE DERECHOS ARANCELARIOS D.S. 104-95-EF / DRAWBACK\n",
      "QUINUA BLANCA   EN SACOS SE ACOGE A RESTITUCION DE DERECHOS ARANCELARIOS D.S. 104-95-EF / DRAWBACK\n"
     ]
    }
   ],
   "source": [
    "# Descrpicion Comercial\n",
    "print(temp_df.iloc[3000]['Descripcion Comercial'])\n",
    "# Concatenated_Descriptions\n",
    "print(temp_df.iloc[3000]['Concatenated_Descriptions'])"
   ]
  },
  {
   "cell_type": "markdown",
   "metadata": {},
   "source": [
    "It seems that when trimming the column *Descripcion Comercial* into *Description* 1,2,3,4 and 5, Veritrade removed some characters, in this case some white spaces. That is why when we reconstruct the *Concatenated_Descriptions* from *Description* 1,2,3,4 and 5 we don´t get the exactly same string as in *Descripcion Comercial*."
   ]
  },
  {
   "cell_type": "markdown",
   "metadata": {},
   "source": [
    "Additionally, we can make an additional remark here: *Descripcion Comercial* has repeated sentences in it´s values, as is showed in the example above. This must be cleaned"
   ]
  },
  {
   "cell_type": "code",
   "execution_count": 9,
   "metadata": {},
   "outputs": [],
   "source": [
    "# Remove the columns used to explain this remark\n",
    "train.drop(columns=['Concatenated_Descriptions', 'Equal?'], inplace=True)"
   ]
  },
  {
   "cell_type": "markdown",
   "metadata": {},
   "source": [
    "#### **Remark 2:**"
   ]
  },
  {
   "cell_type": "markdown",
   "metadata": {},
   "source": [
    "The column *Concatenar* concatenates *Descripcion Comercial* and *Descripcion1*, *2,3,4* and *5*. Thus, it basically has a concatenation of two times the string from *Descripcion Comercial*. It seems that the consultants didn´t know that *Descripcion1*, *2,3,4* and *5* are trims of *Descripcion Comercial*. Maybe they thought this extra columns contained additional information and that is why they decided to concatenate everything in the \"Concatenar\" column to then process the information from here."
   ]
  },
  {
   "cell_type": "markdown",
   "metadata": {},
   "source": [
    "#### **Remark 3:**"
   ]
  },
  {
   "cell_type": "markdown",
   "metadata": {},
   "source": [
    "All posible categories all labeled in *Categoria macro Aurum* and all possible subcategories are labelled in *Subcategoria inicial*. Aurum grouped some of the categories in *Categoria consolidada Aurum* as \"others\" and did the same in *Subcategoría Consolidada Aurum* for the subcategories. This last two columns were very likely a requirement frem their client. He may have been interested specially in a list of categories and the rest were simply labeled as \"others\". However, what is from interest from us are the colums with all the categories and all the subcategories (*Categoria macro Aurum* and *Subcategoria inicial*)"
   ]
  },
  {
   "cell_type": "markdown",
   "metadata": {},
   "source": [
    "#### **Remark 4:**"
   ]
  },
  {
   "cell_type": "markdown",
   "metadata": {},
   "source": [
    "For each *Partida aduanera* there is only one possible *Descripcion de la partida aduanera*."
   ]
  },
  {
   "cell_type": "code",
   "execution_count": 10,
   "metadata": {},
   "outputs": [
    {
     "name": "stdout",
     "output_type": "stream",
     "text": [
      "The number of all combinations of the columns *Partida Aduanera* and *Descripcion de la Partida Aduanera* are 209\n",
      "The number of unique values of the column *Partida Aduanera* is 209\n",
      "The number of unique values of the column *Descripcion de la Partida Aduanera* is 191\n"
     ]
    },
    {
     "data": {
      "text/html": [
       "<div>\n",
       "<style scoped>\n",
       "    .dataframe tbody tr th:only-of-type {\n",
       "        vertical-align: middle;\n",
       "    }\n",
       "\n",
       "    .dataframe tbody tr th {\n",
       "        vertical-align: top;\n",
       "    }\n",
       "\n",
       "    .dataframe thead th {\n",
       "        text-align: right;\n",
       "    }\n",
       "</style>\n",
       "<table border=\"1\" class=\"dataframe\">\n",
       "  <thead>\n",
       "    <tr style=\"text-align: right;\">\n",
       "      <th></th>\n",
       "      <th>Partida Aduanera</th>\n",
       "      <th>Descripcion de la Partida Aduanera</th>\n",
       "    </tr>\n",
       "  </thead>\n",
       "  <tbody>\n",
       "    <tr>\n",
       "      <th>541490</th>\n",
       "      <td>806100000</td>\n",
       "      <td>UVAS FRESCAS</td>\n",
       "    </tr>\n",
       "    <tr>\n",
       "      <th>102488</th>\n",
       "      <td>703100000</td>\n",
       "      <td>CEBOLLAS Y CHALOTES, FRESCOS O REFRIGERADOS</td>\n",
       "    </tr>\n",
       "    <tr>\n",
       "      <th>201853</th>\n",
       "      <td>709200000</td>\n",
       "      <td>ESPARRAGOS, FRESCOS O REFRIGERADOS</td>\n",
       "    </tr>\n",
       "    <tr>\n",
       "      <th>312016</th>\n",
       "      <td>805299000</td>\n",
       "      <td>LAS DEMÁS CLEMENTINAS</td>\n",
       "    </tr>\n",
       "    <tr>\n",
       "      <th>131080</th>\n",
       "      <td>710801000</td>\n",
       "      <td>ESPÁRRAGOS</td>\n",
       "    </tr>\n",
       "    <tr>\n",
       "      <th>...</th>\n",
       "      <td>...</td>\n",
       "      <td>...</td>\n",
       "    </tr>\n",
       "    <tr>\n",
       "      <th>59089</th>\n",
       "      <td>710210000</td>\n",
       "      <td>ARVEJAS(GUISANTES,CHICHAROS)(PISUM SATIVUM),AU...</td>\n",
       "    </tr>\n",
       "    <tr>\n",
       "      <th>586617</th>\n",
       "      <td>1212920000</td>\n",
       "      <td>ALGARROBAS</td>\n",
       "    </tr>\n",
       "    <tr>\n",
       "      <th>521818</th>\n",
       "      <td>809100000</td>\n",
       "      <td>DAMASCOS (ALBARICOQUES, CHABACANOS) FRESCOS</td>\n",
       "    </tr>\n",
       "    <tr>\n",
       "      <th>340635</th>\n",
       "      <td>805400000</td>\n",
       "      <td>TORONJAS O POMELOS, FRESCOS O SECOS</td>\n",
       "    </tr>\n",
       "    <tr>\n",
       "      <th>336623</th>\n",
       "      <td>810902000</td>\n",
       "      <td>CHIRIMOYA, GUANABANA Y DEMAS ANONAS (ANNONA SP...</td>\n",
       "    </tr>\n",
       "  </tbody>\n",
       "</table>\n",
       "<p>209 rows × 2 columns</p>\n",
       "</div>"
      ],
      "text/plain": [
       "        Partida Aduanera                 Descripcion de la Partida Aduanera\n",
       "541490         806100000                                       UVAS FRESCAS\n",
       "102488         703100000        CEBOLLAS Y CHALOTES, FRESCOS O REFRIGERADOS\n",
       "201853         709200000                 ESPARRAGOS, FRESCOS O REFRIGERADOS\n",
       "312016         805299000                              LAS DEMÁS CLEMENTINAS\n",
       "131080         710801000                                         ESPÁRRAGOS\n",
       "...                  ...                                                ...\n",
       "59089          710210000  ARVEJAS(GUISANTES,CHICHAROS)(PISUM SATIVUM),AU...\n",
       "586617        1212920000                                         ALGARROBAS\n",
       "521818         809100000        DAMASCOS (ALBARICOQUES, CHABACANOS) FRESCOS\n",
       "340635         805400000                TORONJAS O POMELOS, FRESCOS O SECOS\n",
       "336623         810902000  CHIRIMOYA, GUANABANA Y DEMAS ANONAS (ANNONA SP...\n",
       "\n",
       "[209 rows x 2 columns]"
      ]
     },
     "execution_count": 10,
     "metadata": {},
     "output_type": "execute_result"
    }
   ],
   "source": [
    "# Create a temporal dataframe \n",
    "temp_df = train[[\"Partida Aduanera\", \"Descripcion de la Partida Aduanera\"]].copy()\n",
    "# Remove duplicated rows\n",
    "temp_df.drop_duplicates(inplace=True)\n",
    "# Get the number of rows\n",
    "print(\"The number of all combinations of the columns *Partida Aduanera* and *Descripcion de la Partida Aduanera* are \"+str(temp_df.shape[0]))\n",
    "# Get the number of unique values of *Partida Aduanera*\n",
    "print(\"The number of unique values of the column *Partida Aduanera* is \"+str(temp_df['Partida Aduanera'].nunique()))\n",
    "# Get the number of unique values of *Descripcion de la Partida Aduanera*\n",
    "print(\"The number of unique values of the column *Descripcion de la Partida Aduanera* is \"+str(temp_df['Descripcion de la Partida Aduanera'].nunique()))\n",
    "temp_df"
   ]
  },
  {
   "cell_type": "markdown",
   "metadata": {},
   "source": [
    "There are some values of *Descripcion de la partida aduanera* that correspond to multiple values of *Partida Aduanera*"
   ]
  },
  {
   "cell_type": "code",
   "execution_count": 11,
   "metadata": {},
   "outputs": [
    {
     "data": {
      "text/html": [
       "<div>\n",
       "<style scoped>\n",
       "    .dataframe tbody tr th:only-of-type {\n",
       "        vertical-align: middle;\n",
       "    }\n",
       "\n",
       "    .dataframe tbody tr th {\n",
       "        vertical-align: top;\n",
       "    }\n",
       "\n",
       "    .dataframe thead th {\n",
       "        text-align: right;\n",
       "    }\n",
       "</style>\n",
       "<table border=\"1\" class=\"dataframe\">\n",
       "  <thead>\n",
       "    <tr style=\"text-align: right;\">\n",
       "      <th></th>\n",
       "      <th>Partida Aduanera</th>\n",
       "      <th>Descripcion de la Partida Aduanera</th>\n",
       "    </tr>\n",
       "  </thead>\n",
       "  <tbody>\n",
       "    <tr>\n",
       "      <th>584225</th>\n",
       "      <td>603199000</td>\n",
       "      <td>LAS DEMÁS FLORES Y CAPULLOS, CORTADOS PARA RAM...</td>\n",
       "    </tr>\n",
       "    <tr>\n",
       "      <th>127768</th>\n",
       "      <td>603129000</td>\n",
       "      <td>LAS DEMÁS FLORES Y CAPULLOS, CORTADOS PARA RAM...</td>\n",
       "    </tr>\n",
       "    <tr>\n",
       "      <th>128235</th>\n",
       "      <td>603149000</td>\n",
       "      <td>LAS DEMÁS FLORES Y CAPULLOS, CORTADOS PARA RAM...</td>\n",
       "    </tr>\n",
       "    <tr>\n",
       "      <th>600061</th>\n",
       "      <td>713359000</td>\n",
       "      <td>LAS DEMÁS HORTALIZAS (INCLUSO SILVESTRES) DE V...</td>\n",
       "    </tr>\n",
       "    <tr>\n",
       "      <th>601236</th>\n",
       "      <td>713349000</td>\n",
       "      <td>LAS DEMÁS HORTALIZAS (INCLUSO SILVESTRES) DE V...</td>\n",
       "    </tr>\n",
       "    <tr>\n",
       "      <th>601225</th>\n",
       "      <td>713609000</td>\n",
       "      <td>LAS DEMÁS HORTALIZAS (INCLUSO SILVESTRES) DE V...</td>\n",
       "    </tr>\n",
       "    <tr>\n",
       "      <th>623905</th>\n",
       "      <td>904211090</td>\n",
       "      <td>LAS DEMÁS PIMIENTA DEL GÉNERO PIPER; FRUTOS DE...</td>\n",
       "    </tr>\n",
       "    <tr>\n",
       "      <th>589941</th>\n",
       "      <td>904219000</td>\n",
       "      <td>LAS DEMÁS PIMIENTA DEL GÉNERO PIPER; FRUTOS DE...</td>\n",
       "    </tr>\n",
       "    <tr>\n",
       "      <th>591649</th>\n",
       "      <td>904229000</td>\n",
       "      <td>LAS DEMÁS PIMIENTA DEL GÉNERO PIPER; FRUTOS DE...</td>\n",
       "    </tr>\n",
       "    <tr>\n",
       "      <th>440601</th>\n",
       "      <td>1008509000</td>\n",
       "      <td>LOS DEMÁS ALFORFÓN, MIJO Y ALPISTE; LOS DEMÁS ...</td>\n",
       "    </tr>\n",
       "    <tr>\n",
       "      <th>286910</th>\n",
       "      <td>1008109000</td>\n",
       "      <td>LOS DEMÁS ALFORFÓN, MIJO Y ALPISTE; LOS DEMÁS ...</td>\n",
       "    </tr>\n",
       "    <tr>\n",
       "      <th>286689</th>\n",
       "      <td>1008902900</td>\n",
       "      <td>LOS DEMÁS CEREALES</td>\n",
       "    </tr>\n",
       "    <tr>\n",
       "      <th>447082</th>\n",
       "      <td>1008909100</td>\n",
       "      <td>LOS DEMÁS CEREALES</td>\n",
       "    </tr>\n",
       "    <tr>\n",
       "      <th>433466</th>\n",
       "      <td>1008909900</td>\n",
       "      <td>LOS DEMÁS CEREALES</td>\n",
       "    </tr>\n",
       "    <tr>\n",
       "      <th>628167</th>\n",
       "      <td>1001910090</td>\n",
       "      <td>LOS DEMÁS TRIGO Y MORCAJO (TRANQUILLÓN)</td>\n",
       "    </tr>\n",
       "    <tr>\n",
       "      <th>628595</th>\n",
       "      <td>1001190000</td>\n",
       "      <td>LOS DEMÁS TRIGO Y MORCAJO (TRANQUILLÓN)</td>\n",
       "    </tr>\n",
       "    <tr>\n",
       "      <th>598404</th>\n",
       "      <td>713339100</td>\n",
       "      <td>NEGRO</td>\n",
       "    </tr>\n",
       "    <tr>\n",
       "      <th>602706</th>\n",
       "      <td>713331100</td>\n",
       "      <td>NEGRO</td>\n",
       "    </tr>\n",
       "    <tr>\n",
       "      <th>628271</th>\n",
       "      <td>1001110000</td>\n",
       "      <td>PARA SIEMBRA</td>\n",
       "    </tr>\n",
       "    <tr>\n",
       "      <th>67874</th>\n",
       "      <td>901111000</td>\n",
       "      <td>PARA SIEMBRA</td>\n",
       "    </tr>\n",
       "    <tr>\n",
       "      <th>449832</th>\n",
       "      <td>1008501000</td>\n",
       "      <td>PARA SIEMBRA</td>\n",
       "    </tr>\n",
       "    <tr>\n",
       "      <th>593082</th>\n",
       "      <td>703201000</td>\n",
       "      <td>PARA SIEMBRA</td>\n",
       "    </tr>\n",
       "    <tr>\n",
       "      <th>458598</th>\n",
       "      <td>1207991000</td>\n",
       "      <td>PARA SIEMBRA</td>\n",
       "    </tr>\n",
       "    <tr>\n",
       "      <th>602468</th>\n",
       "      <td>905100000</td>\n",
       "      <td>SIN TRITURAR NI PULVERIZAR</td>\n",
       "    </tr>\n",
       "    <tr>\n",
       "      <th>622754</th>\n",
       "      <td>907100000</td>\n",
       "      <td>SIN TRITURAR NI PULVERIZAR</td>\n",
       "    </tr>\n",
       "    <tr>\n",
       "      <th>591538</th>\n",
       "      <td>910110000</td>\n",
       "      <td>SIN TRITURAR NI PULVERIZAR</td>\n",
       "    </tr>\n",
       "    <tr>\n",
       "      <th>592291</th>\n",
       "      <td>908320000</td>\n",
       "      <td>TRITURADOS O PULVERIZADOS</td>\n",
       "    </tr>\n",
       "    <tr>\n",
       "      <th>211167</th>\n",
       "      <td>907200000</td>\n",
       "      <td>TRITURADOS O PULVERIZADOS</td>\n",
       "    </tr>\n",
       "  </tbody>\n",
       "</table>\n",
       "</div>"
      ],
      "text/plain": [
       "        Partida Aduanera                 Descripcion de la Partida Aduanera\n",
       "584225         603199000  LAS DEMÁS FLORES Y CAPULLOS, CORTADOS PARA RAM...\n",
       "127768         603129000  LAS DEMÁS FLORES Y CAPULLOS, CORTADOS PARA RAM...\n",
       "128235         603149000  LAS DEMÁS FLORES Y CAPULLOS, CORTADOS PARA RAM...\n",
       "600061         713359000  LAS DEMÁS HORTALIZAS (INCLUSO SILVESTRES) DE V...\n",
       "601236         713349000  LAS DEMÁS HORTALIZAS (INCLUSO SILVESTRES) DE V...\n",
       "601225         713609000  LAS DEMÁS HORTALIZAS (INCLUSO SILVESTRES) DE V...\n",
       "623905         904211090  LAS DEMÁS PIMIENTA DEL GÉNERO PIPER; FRUTOS DE...\n",
       "589941         904219000  LAS DEMÁS PIMIENTA DEL GÉNERO PIPER; FRUTOS DE...\n",
       "591649         904229000  LAS DEMÁS PIMIENTA DEL GÉNERO PIPER; FRUTOS DE...\n",
       "440601        1008509000  LOS DEMÁS ALFORFÓN, MIJO Y ALPISTE; LOS DEMÁS ...\n",
       "286910        1008109000  LOS DEMÁS ALFORFÓN, MIJO Y ALPISTE; LOS DEMÁS ...\n",
       "286689        1008902900                                 LOS DEMÁS CEREALES\n",
       "447082        1008909100                                 LOS DEMÁS CEREALES\n",
       "433466        1008909900                                 LOS DEMÁS CEREALES\n",
       "628167        1001910090            LOS DEMÁS TRIGO Y MORCAJO (TRANQUILLÓN)\n",
       "628595        1001190000            LOS DEMÁS TRIGO Y MORCAJO (TRANQUILLÓN)\n",
       "598404         713339100                                              NEGRO\n",
       "602706         713331100                                              NEGRO\n",
       "628271        1001110000                                       PARA SIEMBRA\n",
       "67874          901111000                                       PARA SIEMBRA\n",
       "449832        1008501000                                       PARA SIEMBRA\n",
       "593082         703201000                                       PARA SIEMBRA\n",
       "458598        1207991000                                       PARA SIEMBRA\n",
       "602468         905100000                         SIN TRITURAR NI PULVERIZAR\n",
       "622754         907100000                         SIN TRITURAR NI PULVERIZAR\n",
       "591538         910110000                         SIN TRITURAR NI PULVERIZAR\n",
       "592291         908320000                          TRITURADOS O PULVERIZADOS\n",
       "211167         907200000                          TRITURADOS O PULVERIZADOS"
      ]
     },
     "execution_count": 11,
     "metadata": {},
     "output_type": "execute_result"
    }
   ],
   "source": [
    "# Get the values of *Partida Aduanera* that correspond to the same values of *Descripcion de la Partida Aduanera*\n",
    "temp_df[temp_df.duplicated(['Descripcion de la Partida Aduanera'], keep=False)].sort_values(by=['Descripcion de la Partida Aduanera'])\n"
   ]
  },
  {
   "cell_type": "markdown",
   "metadata": {},
   "source": [
    "This is very likely an error in the customs agency systems, we will have to deal with it"
   ]
  },
  {
   "cell_type": "markdown",
   "metadata": {},
   "source": [
    "#### **Remark 5:**"
   ]
  },
  {
   "cell_type": "markdown",
   "metadata": {},
   "source": [
    "Since we are dealing with agricultural items, we can presume that there is an seasonal influence in the dates in which they are exported. Let's test this assumption"
   ]
  },
  {
   "cell_type": "markdown",
   "metadata": {},
   "source": [
    "We will compare the *Partida aduanera* with the date column names *Fecha*"
   ]
  },
  {
   "cell_type": "code",
   "execution_count": 12,
   "metadata": {},
   "outputs": [
    {
     "data": {
      "text/html": [
       "<div>\n",
       "<style scoped>\n",
       "    .dataframe tbody tr th:only-of-type {\n",
       "        vertical-align: middle;\n",
       "    }\n",
       "\n",
       "    .dataframe tbody tr th {\n",
       "        vertical-align: top;\n",
       "    }\n",
       "\n",
       "    .dataframe thead th {\n",
       "        text-align: right;\n",
       "    }\n",
       "</style>\n",
       "<table border=\"1\" class=\"dataframe\">\n",
       "  <thead>\n",
       "    <tr style=\"text-align: right;\">\n",
       "      <th></th>\n",
       "      <th>Partida Aduanera</th>\n",
       "      <th>Fecha</th>\n",
       "      <th>Count of exports</th>\n",
       "    </tr>\n",
       "  </thead>\n",
       "  <tbody>\n",
       "    <tr>\n",
       "      <th>457891</th>\n",
       "      <td>603110000</td>\n",
       "      <td>2017-01-03</td>\n",
       "      <td>2</td>\n",
       "    </tr>\n",
       "    <tr>\n",
       "      <th>458366</th>\n",
       "      <td>603110000</td>\n",
       "      <td>2017-01-04</td>\n",
       "      <td>2</td>\n",
       "    </tr>\n",
       "    <tr>\n",
       "      <th>458374</th>\n",
       "      <td>603110000</td>\n",
       "      <td>2017-01-06</td>\n",
       "      <td>1</td>\n",
       "    </tr>\n",
       "    <tr>\n",
       "      <th>457824</th>\n",
       "      <td>603110000</td>\n",
       "      <td>2017-01-10</td>\n",
       "      <td>1</td>\n",
       "    </tr>\n",
       "    <tr>\n",
       "      <th>458367</th>\n",
       "      <td>603110000</td>\n",
       "      <td>2017-01-17</td>\n",
       "      <td>2</td>\n",
       "    </tr>\n",
       "    <tr>\n",
       "      <th>...</th>\n",
       "      <td>...</td>\n",
       "      <td>...</td>\n",
       "      <td>...</td>\n",
       "    </tr>\n",
       "    <tr>\n",
       "      <th>61077</th>\n",
       "      <td>2101300000</td>\n",
       "      <td>2020-01-22</td>\n",
       "      <td>1</td>\n",
       "    </tr>\n",
       "    <tr>\n",
       "      <th>65633</th>\n",
       "      <td>2101300000</td>\n",
       "      <td>2020-08-18</td>\n",
       "      <td>1</td>\n",
       "    </tr>\n",
       "    <tr>\n",
       "      <th>61056</th>\n",
       "      <td>2101300000</td>\n",
       "      <td>2020-11-11</td>\n",
       "      <td>1</td>\n",
       "    </tr>\n",
       "    <tr>\n",
       "      <th>60064</th>\n",
       "      <td>2101300000</td>\n",
       "      <td>2021-02-11</td>\n",
       "      <td>1</td>\n",
       "    </tr>\n",
       "    <tr>\n",
       "      <th>60063</th>\n",
       "      <td>2101300000</td>\n",
       "      <td>2021-07-16</td>\n",
       "      <td>1</td>\n",
       "    </tr>\n",
       "  </tbody>\n",
       "</table>\n",
       "<p>41960 rows × 3 columns</p>\n",
       "</div>"
      ],
      "text/plain": [
       "        Partida Aduanera      Fecha  Count of exports\n",
       "457891         603110000 2017-01-03                 2\n",
       "458366         603110000 2017-01-04                 2\n",
       "458374         603110000 2017-01-06                 1\n",
       "457824         603110000 2017-01-10                 1\n",
       "458367         603110000 2017-01-17                 2\n",
       "...                  ...        ...               ...\n",
       "61077         2101300000 2020-01-22                 1\n",
       "65633         2101300000 2020-08-18                 1\n",
       "61056         2101300000 2020-11-11                 1\n",
       "60064         2101300000 2021-02-11                 1\n",
       "60063         2101300000 2021-07-16                 1\n",
       "\n",
       "[41960 rows x 3 columns]"
      ]
     },
     "execution_count": 12,
     "metadata": {},
     "output_type": "execute_result"
    }
   ],
   "source": [
    "# Get the columns *Partida Aduanera* and *Fecha*\n",
    "temp_df = train[[\"Partida Aduanera\", \"Fecha\"]].copy()\n",
    "# Cast the column of date (*Fecha*) to datetime\n",
    "temp_df['Fecha'] = pd.to_datetime(temp_df['Fecha'], format='%m/%d/%Y')\n",
    "# Count the exports by date\n",
    "temp_df['Count of exports'] = temp_df.groupby(['Partida Aduanera','Fecha'])['Fecha'].transform('count')\n",
    "temp_df.drop_duplicates(inplace=True)\n",
    "# Sort the dataframe\n",
    "temp_df.sort_values(by=['Partida Aduanera', 'Fecha'])"
   ]
  },
  {
   "cell_type": "markdown",
   "metadata": {},
   "source": [
    "Sample randomly some values of \"Partida Aduanera\" to plot"
   ]
  },
  {
   "cell_type": "code",
   "execution_count": 13,
   "metadata": {},
   "outputs": [
    {
     "name": "stdout",
     "output_type": "stream",
     "text": [
      "The random selected values from *Partida Aduanera* are: \n",
      "[805900000, 805291000, 703201000, 713339100, 1008909900, 810100000]\n"
     ]
    }
   ],
   "source": [
    "# Import random library\n",
    "import random\n",
    "\n",
    "# Number of samples\n",
    "samples_qty = 6\n",
    "# Get samples from *Partida Aduanera* (without repetitions)\n",
    "samples = random.sample(list(dict.fromkeys(temp_df['Partida Aduanera'].tolist())), samples_qty)\n",
    "print(\"The random selected values from *Partida Aduanera* are: \")\n",
    "print(samples)\n",
    "# Create a list with the dataframes of each sample\n",
    "samples_dfs = []\n",
    "for sample in samples:\n",
    "    samples_dfs.append(temp_df[temp_df['Partida Aduanera'] == sample ].sort_values(by=[\"Partida Aduanera\", \"Fecha\"])[['Fecha', 'Count of exports']])\n",
    "# For each dataframe, populate the missing dates (imputing values of 0 for Count of exports)\n",
    "populated_samples_dfs =[]\n",
    "for sample_df in samples_dfs:\n",
    "    dates = pd.date_range(sample_df['Fecha'].min(),sample_df['Fecha'].max())\n",
    "    sample_df.set_index('Fecha', inplace=True)\n",
    "    sample_df = sample_df.reindex(dates, fill_value=0) #this cant be done inplace\n",
    "    populated_samples_dfs.append(sample_df) \n"
   ]
  },
  {
   "cell_type": "markdown",
   "metadata": {},
   "source": [
    "Let's plot all the selected samples"
   ]
  },
  {
   "cell_type": "code",
   "execution_count": 14,
   "metadata": {},
   "outputs": [
    {
     "data": {
      "image/png": "[encoded data removed]",
      "text/plain": [
       "<Figure size 2160x216 with 1 Axes>"
      ]
     },
     "metadata": {
      "needs_background": "light"
     },
     "output_type": "display_data"
    },
    {
     "data": {
      "image/png": "[encoded data removed]",
      "text/plain": [
       "<Figure size 2160x216 with 1 Axes>"
      ]
     },
     "metadata": {
      "needs_background": "light"
     },
     "output_type": "display_data"
    },
    {
     "data": {
      "image/png": "[encoded data removed]",
      "text/plain": [
       "<Figure size 2160x216 with 1 Axes>"
      ]
     },
     "metadata": {
      "needs_background": "light"
     },
     "output_type": "display_data"
    },
    {
     "data": {
      "image/png": "[encoded data removed]",
      "text/plain": [
       "<Figure size 2160x216 with 1 Axes>"
      ]
     },
     "metadata": {
      "needs_background": "light"
     },
     "output_type": "display_data"
    },
    {
     "data": {
      "image/png": "[encoded data removed]",
      "text/plain": [
       "<Figure size 2160x216 with 1 Axes>"
      ]
     },
     "metadata": {
      "needs_background": "light"
     },
     "output_type": "display_data"
    }
   ],
   "source": [
    "# Import matplotlib\n",
    "import matplotlib.pyplot as plt\n",
    "import datetime as dt\n",
    "import numpy as np\n",
    "\n",
    "\n",
    "for i in range(0,len(populated_samples_dfs)-1):\n",
    "    #----------------------------------------------------------------\n",
    "    # GRAPH\n",
    "    #----------------------------------------------------------------\n",
    "\n",
    "    # size:\n",
    "    plt.figure(figsize=(30,3))\n",
    "\n",
    "    # title:\n",
    "    plt.title('Shipments of '+ str(samples[i])+' by day', fontsize=20)\n",
    "\n",
    "    # x axis:\n",
    "    # x values\n",
    "    x = range(0,len(populated_samples_dfs[i].index.date.tolist()))\n",
    "    # x ticks\n",
    "    my_xticks = populated_samples_dfs[i].index.date.tolist()\n",
    "    for c in range(0, len(my_xticks)):\n",
    "        my_xticks[c] = my_xticks[c].strftime('%h-%Y')\n",
    "    plt.xticks(x[::30], my_xticks[::30], rotation='vertical')\n",
    "    # # x label\n",
    "    plt.xlabel(\"date\", fontsize=16)\n",
    "\n",
    "    # y axis:\n",
    "    # y values\n",
    "    y = populated_samples_dfs[i][\"Count of exports\"].tolist()\n",
    "    # y ticks\n",
    "    #plt.yticks(np.arange(populated_samples_dfs[i][\"Count of exports\"].min(), populated_samples_dfs[i][\"Count of exports\"].max()+1, 1))\n",
    "\n",
    "    # y label\n",
    "    plt.ylabel(\"# shipments\", fontsize=16)\n",
    "\n",
    "    # create plot\n",
    "    plt.plot(x, y, marker='o')\n",
    "\n",
    "    plt.grid()\n",
    "\n",
    "    # show plot\n",
    "    plt.show()\n",
    "\n",
    "    #----------------------------------------------------------------"
   ]
  },
  {
   "cell_type": "markdown",
   "metadata": {},
   "source": [
    "As we can see, some products (represented by its *Partida Aduanera* number) present a seasonal pattern (as expected) but others not."
   ]
  },
  {
   "cell_type": "markdown",
   "metadata": {},
   "source": [
    "#### **Remark 6**"
   ]
  },
  {
   "cell_type": "markdown",
   "metadata": {},
   "source": [
    "The custom agents in Peru fill the columns of *Importador Extranjero*. Thus, we presume that there may be inconsistencies in the naming of the same company in different rows. Let's check this"
   ]
  },
  {
   "cell_type": "markdown",
   "metadata": {},
   "source": [
    "We take as an example the *Importador Extranjero* value of \"Comercial Agricola Montoliva Ltda.\". Let's check the rows have a similar name (more than 90% similarity using Levenshtein Algorithm)"
   ]
  },
  {
   "cell_type": "code",
   "execution_count": 15,
   "metadata": {},
   "outputs": [
    {
     "data": {
      "text/html": [
       "<div>\n",
       "<style scoped>\n",
       "    .dataframe tbody tr th:only-of-type {\n",
       "        vertical-align: middle;\n",
       "    }\n",
       "\n",
       "    .dataframe tbody tr th {\n",
       "        vertical-align: top;\n",
       "    }\n",
       "\n",
       "    .dataframe thead th {\n",
       "        text-align: right;\n",
       "    }\n",
       "</style>\n",
       "<table border=\"1\" class=\"dataframe\">\n",
       "  <thead>\n",
       "    <tr style=\"text-align: right;\">\n",
       "      <th></th>\n",
       "      <th>Importador Extranjero</th>\n",
       "      <th>Similarity</th>\n",
       "    </tr>\n",
       "  </thead>\n",
       "  <tbody>\n",
       "    <tr>\n",
       "      <th>4</th>\n",
       "      <td>Comercial Agricola Montoliva Ltda.</td>\n",
       "      <td>1.000000</td>\n",
       "    </tr>\n",
       "    <tr>\n",
       "      <th>157</th>\n",
       "      <td>Comercial Agricola Montoliva Ltda.</td>\n",
       "      <td>1.000000</td>\n",
       "    </tr>\n",
       "    <tr>\n",
       "      <th>162</th>\n",
       "      <td>Comercial Agricola Montoliva Ltda</td>\n",
       "      <td>0.985075</td>\n",
       "    </tr>\n",
       "    <tr>\n",
       "      <th>158</th>\n",
       "      <td>Comercial Agricola Montoliva Ltda.</td>\n",
       "      <td>1.000000</td>\n",
       "    </tr>\n",
       "  </tbody>\n",
       "</table>\n",
       "</div>"
      ],
      "text/plain": [
       "                  Importador Extranjero  Similarity\n",
       "4    Comercial Agricola Montoliva Ltda.    1.000000\n",
       "157  Comercial Agricola Montoliva Ltda.    1.000000\n",
       "162   Comercial Agricola Montoliva Ltda    0.985075\n",
       "158  Comercial Agricola Montoliva Ltda.    1.000000"
      ]
     },
     "execution_count": 15,
     "metadata": {},
     "output_type": "execute_result"
    }
   ],
   "source": [
    "# Import Levenshtein\n",
    "import Levenshtein\n",
    "\n",
    "# Get the colum *Importador Extranjero*\n",
    "df=pd.DataFrame(train, columns=['Importador Extranjero'])\n",
    "# Add a column with the similarity magnitude according to Levenshtein Algorithm\n",
    "df[\"Similarity\"]=df.apply(lambda x: Levenshtein.ratio(x['Importador Extranjero'],  \"Comercial Agricola Montoliva Ltda.\"), axis=1)\n",
    "# Filter rows with more than 90% similarity\n",
    "df.iloc[(df[\"Similarity\"]>=0.90).values]\n"
   ]
  },
  {
   "cell_type": "markdown",
   "metadata": {},
   "source": [
    "As seen, rows refering to the same company in the *Importador Extranjero* column, have slightly different values. This must be cleaned in the next section."
   ]
  },
  {
   "cell_type": "markdown",
   "metadata": {},
   "source": [
    "Let's check now for *Exportador en Peru*. We will use a random company as an example"
   ]
  },
  {
   "cell_type": "code",
   "execution_count": 16,
   "metadata": {},
   "outputs": [
    {
     "name": "stdout",
     "output_type": "stream",
     "text": [
      "The company to be analyzed is: Mecainnova Sociedad Anonima Cerrada - Mecainnova S.A.C.\n"
     ]
    },
    {
     "data": {
      "text/html": [
       "<div>\n",
       "<style scoped>\n",
       "    .dataframe tbody tr th:only-of-type {\n",
       "        vertical-align: middle;\n",
       "    }\n",
       "\n",
       "    .dataframe tbody tr th {\n",
       "        vertical-align: top;\n",
       "    }\n",
       "\n",
       "    .dataframe thead th {\n",
       "        text-align: right;\n",
       "    }\n",
       "</style>\n",
       "<table border=\"1\" class=\"dataframe\">\n",
       "  <thead>\n",
       "    <tr style=\"text-align: right;\">\n",
       "      <th></th>\n",
       "      <th>Exportador en Perú</th>\n",
       "      <th>Similarity</th>\n",
       "    </tr>\n",
       "  </thead>\n",
       "  <tbody>\n",
       "    <tr>\n",
       "      <th>620592</th>\n",
       "      <td>Mecainnova Sociedad Anonima Cerrada - Mecainno...</td>\n",
       "      <td>1.0</td>\n",
       "    </tr>\n",
       "    <tr>\n",
       "      <th>620386</th>\n",
       "      <td>Mecainnova Sociedad Anonima Cerrada - Mecainno...</td>\n",
       "      <td>1.0</td>\n",
       "    </tr>\n",
       "    <tr>\n",
       "      <th>592268</th>\n",
       "      <td>Mecainnova Sociedad Anonima Cerrada - Mecainno...</td>\n",
       "      <td>1.0</td>\n",
       "    </tr>\n",
       "    <tr>\n",
       "      <th>620617</th>\n",
       "      <td>Mecainnova Sociedad Anonima Cerrada - Mecainno...</td>\n",
       "      <td>1.0</td>\n",
       "    </tr>\n",
       "    <tr>\n",
       "      <th>620766</th>\n",
       "      <td>Mecainnova Sociedad Anonima Cerrada - Mecainno...</td>\n",
       "      <td>1.0</td>\n",
       "    </tr>\n",
       "    <tr>\n",
       "      <th>618495</th>\n",
       "      <td>Mecainnova Sociedad Anonima Cerrada - Mecainno...</td>\n",
       "      <td>1.0</td>\n",
       "    </tr>\n",
       "    <tr>\n",
       "      <th>620596</th>\n",
       "      <td>Mecainnova Sociedad Anonima Cerrada - Mecainno...</td>\n",
       "      <td>1.0</td>\n",
       "    </tr>\n",
       "    <tr>\n",
       "      <th>592269</th>\n",
       "      <td>Mecainnova Sociedad Anonima Cerrada - Mecainno...</td>\n",
       "      <td>1.0</td>\n",
       "    </tr>\n",
       "    <tr>\n",
       "      <th>620083</th>\n",
       "      <td>Mecainnova Sociedad Anonima Cerrada - Mecainno...</td>\n",
       "      <td>1.0</td>\n",
       "    </tr>\n",
       "    <tr>\n",
       "      <th>591387</th>\n",
       "      <td>Mecainnova Sociedad Anonima Cerrada - Mecainno...</td>\n",
       "      <td>1.0</td>\n",
       "    </tr>\n",
       "    <tr>\n",
       "      <th>620620</th>\n",
       "      <td>Mecainnova Sociedad Anonima Cerrada - Mecainno...</td>\n",
       "      <td>1.0</td>\n",
       "    </tr>\n",
       "    <tr>\n",
       "      <th>620043</th>\n",
       "      <td>Mecainnova Sociedad Anonima Cerrada - Mecainno...</td>\n",
       "      <td>1.0</td>\n",
       "    </tr>\n",
       "    <tr>\n",
       "      <th>620155</th>\n",
       "      <td>Mecainnova Sociedad Anonima Cerrada - Mecainno...</td>\n",
       "      <td>1.0</td>\n",
       "    </tr>\n",
       "    <tr>\n",
       "      <th>618941</th>\n",
       "      <td>Mecainnova Sociedad Anonima Cerrada - Mecainno...</td>\n",
       "      <td>1.0</td>\n",
       "    </tr>\n",
       "    <tr>\n",
       "      <th>592265</th>\n",
       "      <td>Mecainnova Sociedad Anonima Cerrada - Mecainno...</td>\n",
       "      <td>1.0</td>\n",
       "    </tr>\n",
       "    <tr>\n",
       "      <th>620764</th>\n",
       "      <td>Mecainnova Sociedad Anonima Cerrada - Mecainno...</td>\n",
       "      <td>1.0</td>\n",
       "    </tr>\n",
       "    <tr>\n",
       "      <th>621062</th>\n",
       "      <td>Mecainnova Sociedad Anonima Cerrada - Mecainno...</td>\n",
       "      <td>1.0</td>\n",
       "    </tr>\n",
       "    <tr>\n",
       "      <th>620044</th>\n",
       "      <td>Mecainnova Sociedad Anonima Cerrada - Mecainno...</td>\n",
       "      <td>1.0</td>\n",
       "    </tr>\n",
       "    <tr>\n",
       "      <th>619520</th>\n",
       "      <td>Mecainnova Sociedad Anonima Cerrada - Mecainno...</td>\n",
       "      <td>1.0</td>\n",
       "    </tr>\n",
       "    <tr>\n",
       "      <th>624738</th>\n",
       "      <td>Mecainnova Sociedad Anonima Cerrada - Mecainno...</td>\n",
       "      <td>1.0</td>\n",
       "    </tr>\n",
       "    <tr>\n",
       "      <th>624785</th>\n",
       "      <td>Mecainnova Sociedad Anonima Cerrada - Mecainno...</td>\n",
       "      <td>1.0</td>\n",
       "    </tr>\n",
       "    <tr>\n",
       "      <th>620387</th>\n",
       "      <td>Mecainnova Sociedad Anonima Cerrada - Mecainno...</td>\n",
       "      <td>1.0</td>\n",
       "    </tr>\n",
       "    <tr>\n",
       "      <th>620101</th>\n",
       "      <td>Mecainnova Sociedad Anonima Cerrada - Mecainno...</td>\n",
       "      <td>1.0</td>\n",
       "    </tr>\n",
       "    <tr>\n",
       "      <th>621285</th>\n",
       "      <td>Mecainnova Sociedad Anonima Cerrada - Mecainno...</td>\n",
       "      <td>1.0</td>\n",
       "    </tr>\n",
       "    <tr>\n",
       "      <th>589050</th>\n",
       "      <td>Mecainnova Sociedad Anonima Cerrada - Mecainno...</td>\n",
       "      <td>1.0</td>\n",
       "    </tr>\n",
       "    <tr>\n",
       "      <th>618913</th>\n",
       "      <td>Mecainnova Sociedad Anonima Cerrada - Mecainno...</td>\n",
       "      <td>1.0</td>\n",
       "    </tr>\n",
       "    <tr>\n",
       "      <th>620765</th>\n",
       "      <td>Mecainnova Sociedad Anonima Cerrada - Mecainno...</td>\n",
       "      <td>1.0</td>\n",
       "    </tr>\n",
       "    <tr>\n",
       "      <th>620079</th>\n",
       "      <td>Mecainnova Sociedad Anonima Cerrada - Mecainno...</td>\n",
       "      <td>1.0</td>\n",
       "    </tr>\n",
       "    <tr>\n",
       "      <th>591389</th>\n",
       "      <td>Mecainnova Sociedad Anonima Cerrada - Mecainno...</td>\n",
       "      <td>1.0</td>\n",
       "    </tr>\n",
       "    <tr>\n",
       "      <th>620963</th>\n",
       "      <td>Mecainnova Sociedad Anonima Cerrada - Mecainno...</td>\n",
       "      <td>1.0</td>\n",
       "    </tr>\n",
       "    <tr>\n",
       "      <th>620618</th>\n",
       "      <td>Mecainnova Sociedad Anonima Cerrada - Mecainno...</td>\n",
       "      <td>1.0</td>\n",
       "    </tr>\n",
       "    <tr>\n",
       "      <th>618520</th>\n",
       "      <td>Mecainnova Sociedad Anonima Cerrada - Mecainno...</td>\n",
       "      <td>1.0</td>\n",
       "    </tr>\n",
       "    <tr>\n",
       "      <th>621071</th>\n",
       "      <td>Mecainnova Sociedad Anonima Cerrada - Mecainno...</td>\n",
       "      <td>1.0</td>\n",
       "    </tr>\n",
       "    <tr>\n",
       "      <th>619535</th>\n",
       "      <td>Mecainnova Sociedad Anonima Cerrada - Mecainno...</td>\n",
       "      <td>1.0</td>\n",
       "    </tr>\n",
       "    <tr>\n",
       "      <th>591388</th>\n",
       "      <td>Mecainnova Sociedad Anonima Cerrada - Mecainno...</td>\n",
       "      <td>1.0</td>\n",
       "    </tr>\n",
       "    <tr>\n",
       "      <th>619522</th>\n",
       "      <td>Mecainnova Sociedad Anonima Cerrada - Mecainno...</td>\n",
       "      <td>1.0</td>\n",
       "    </tr>\n",
       "    <tr>\n",
       "      <th>620763</th>\n",
       "      <td>Mecainnova Sociedad Anonima Cerrada - Mecainno...</td>\n",
       "      <td>1.0</td>\n",
       "    </tr>\n",
       "    <tr>\n",
       "      <th>592267</th>\n",
       "      <td>Mecainnova Sociedad Anonima Cerrada - Mecainno...</td>\n",
       "      <td>1.0</td>\n",
       "    </tr>\n",
       "    <tr>\n",
       "      <th>621072</th>\n",
       "      <td>Mecainnova Sociedad Anonima Cerrada - Mecainno...</td>\n",
       "      <td>1.0</td>\n",
       "    </tr>\n",
       "    <tr>\n",
       "      <th>620597</th>\n",
       "      <td>Mecainnova Sociedad Anonima Cerrada - Mecainno...</td>\n",
       "      <td>1.0</td>\n",
       "    </tr>\n",
       "    <tr>\n",
       "      <th>624740</th>\n",
       "      <td>Mecainnova Sociedad Anonima Cerrada - Mecainno...</td>\n",
       "      <td>1.0</td>\n",
       "    </tr>\n",
       "    <tr>\n",
       "      <th>591386</th>\n",
       "      <td>Mecainnova Sociedad Anonima Cerrada - Mecainno...</td>\n",
       "      <td>1.0</td>\n",
       "    </tr>\n",
       "    <tr>\n",
       "      <th>620080</th>\n",
       "      <td>Mecainnova Sociedad Anonima Cerrada - Mecainno...</td>\n",
       "      <td>1.0</td>\n",
       "    </tr>\n",
       "    <tr>\n",
       "      <th>620595</th>\n",
       "      <td>Mecainnova Sociedad Anonima Cerrada - Mecainno...</td>\n",
       "      <td>1.0</td>\n",
       "    </tr>\n",
       "    <tr>\n",
       "      <th>589051</th>\n",
       "      <td>Mecainnova Sociedad Anonima Cerrada - Mecainno...</td>\n",
       "      <td>1.0</td>\n",
       "    </tr>\n",
       "    <tr>\n",
       "      <th>624741</th>\n",
       "      <td>Mecainnova Sociedad Anonima Cerrada - Mecainno...</td>\n",
       "      <td>1.0</td>\n",
       "    </tr>\n",
       "    <tr>\n",
       "      <th>603818</th>\n",
       "      <td>Mecainnova Sociedad Anonima Cerrada - Mecainno...</td>\n",
       "      <td>1.0</td>\n",
       "    </tr>\n",
       "    <tr>\n",
       "      <th>618521</th>\n",
       "      <td>Mecainnova Sociedad Anonima Cerrada - Mecainno...</td>\n",
       "      <td>1.0</td>\n",
       "    </tr>\n",
       "    <tr>\n",
       "      <th>624786</th>\n",
       "      <td>Mecainnova Sociedad Anonima Cerrada - Mecainno...</td>\n",
       "      <td>1.0</td>\n",
       "    </tr>\n",
       "    <tr>\n",
       "      <th>620619</th>\n",
       "      <td>Mecainnova Sociedad Anonima Cerrada - Mecainno...</td>\n",
       "      <td>1.0</td>\n",
       "    </tr>\n",
       "  </tbody>\n",
       "</table>\n",
       "</div>"
      ],
      "text/plain": [
       "                                       Exportador en Perú  Similarity\n",
       "620592  Mecainnova Sociedad Anonima Cerrada - Mecainno...         1.0\n",
       "620386  Mecainnova Sociedad Anonima Cerrada - Mecainno...         1.0\n",
       "592268  Mecainnova Sociedad Anonima Cerrada - Mecainno...         1.0\n",
       "620617  Mecainnova Sociedad Anonima Cerrada - Mecainno...         1.0\n",
       "620766  Mecainnova Sociedad Anonima Cerrada - Mecainno...         1.0\n",
       "618495  Mecainnova Sociedad Anonima Cerrada - Mecainno...         1.0\n",
       "620596  Mecainnova Sociedad Anonima Cerrada - Mecainno...         1.0\n",
       "592269  Mecainnova Sociedad Anonima Cerrada - Mecainno...         1.0\n",
       "620083  Mecainnova Sociedad Anonima Cerrada - Mecainno...         1.0\n",
       "591387  Mecainnova Sociedad Anonima Cerrada - Mecainno...         1.0\n",
       "620620  Mecainnova Sociedad Anonima Cerrada - Mecainno...         1.0\n",
       "620043  Mecainnova Sociedad Anonima Cerrada - Mecainno...         1.0\n",
       "620155  Mecainnova Sociedad Anonima Cerrada - Mecainno...         1.0\n",
       "618941  Mecainnova Sociedad Anonima Cerrada - Mecainno...         1.0\n",
       "592265  Mecainnova Sociedad Anonima Cerrada - Mecainno...         1.0\n",
       "620764  Mecainnova Sociedad Anonima Cerrada - Mecainno...         1.0\n",
       "621062  Mecainnova Sociedad Anonima Cerrada - Mecainno...         1.0\n",
       "620044  Mecainnova Sociedad Anonima Cerrada - Mecainno...         1.0\n",
       "619520  Mecainnova Sociedad Anonima Cerrada - Mecainno...         1.0\n",
       "624738  Mecainnova Sociedad Anonima Cerrada - Mecainno...         1.0\n",
       "624785  Mecainnova Sociedad Anonima Cerrada - Mecainno...         1.0\n",
       "620387  Mecainnova Sociedad Anonima Cerrada - Mecainno...         1.0\n",
       "620101  Mecainnova Sociedad Anonima Cerrada - Mecainno...         1.0\n",
       "621285  Mecainnova Sociedad Anonima Cerrada - Mecainno...         1.0\n",
       "589050  Mecainnova Sociedad Anonima Cerrada - Mecainno...         1.0\n",
       "618913  Mecainnova Sociedad Anonima Cerrada - Mecainno...         1.0\n",
       "620765  Mecainnova Sociedad Anonima Cerrada - Mecainno...         1.0\n",
       "620079  Mecainnova Sociedad Anonima Cerrada - Mecainno...         1.0\n",
       "591389  Mecainnova Sociedad Anonima Cerrada - Mecainno...         1.0\n",
       "620963  Mecainnova Sociedad Anonima Cerrada - Mecainno...         1.0\n",
       "620618  Mecainnova Sociedad Anonima Cerrada - Mecainno...         1.0\n",
       "618520  Mecainnova Sociedad Anonima Cerrada - Mecainno...         1.0\n",
       "621071  Mecainnova Sociedad Anonima Cerrada - Mecainno...         1.0\n",
       "619535  Mecainnova Sociedad Anonima Cerrada - Mecainno...         1.0\n",
       "591388  Mecainnova Sociedad Anonima Cerrada - Mecainno...         1.0\n",
       "619522  Mecainnova Sociedad Anonima Cerrada - Mecainno...         1.0\n",
       "620763  Mecainnova Sociedad Anonima Cerrada - Mecainno...         1.0\n",
       "592267  Mecainnova Sociedad Anonima Cerrada - Mecainno...         1.0\n",
       "621072  Mecainnova Sociedad Anonima Cerrada - Mecainno...         1.0\n",
       "620597  Mecainnova Sociedad Anonima Cerrada - Mecainno...         1.0\n",
       "624740  Mecainnova Sociedad Anonima Cerrada - Mecainno...         1.0\n",
       "591386  Mecainnova Sociedad Anonima Cerrada - Mecainno...         1.0\n",
       "620080  Mecainnova Sociedad Anonima Cerrada - Mecainno...         1.0\n",
       "620595  Mecainnova Sociedad Anonima Cerrada - Mecainno...         1.0\n",
       "589051  Mecainnova Sociedad Anonima Cerrada - Mecainno...         1.0\n",
       "624741  Mecainnova Sociedad Anonima Cerrada - Mecainno...         1.0\n",
       "603818  Mecainnova Sociedad Anonima Cerrada - Mecainno...         1.0\n",
       "618521  Mecainnova Sociedad Anonima Cerrada - Mecainno...         1.0\n",
       "624786  Mecainnova Sociedad Anonima Cerrada - Mecainno...         1.0\n",
       "620619  Mecainnova Sociedad Anonima Cerrada - Mecainno...         1.0"
      ]
     },
     "execution_count": 16,
     "metadata": {},
     "output_type": "execute_result"
    }
   ],
   "source": [
    "# Get the colum *Importador Extranjero*\n",
    "df=pd.DataFrame(train, columns=['Exportador en Perú'])\n",
    "# Random company\n",
    "company = df.sample()['Exportador en Perú'].values[0]\n",
    "print(\"The company to be analyzed is: \"+company)\n",
    "# Add a column with the similarity magnitude according to Levenshtein Algorithm\n",
    "df[\"Similarity\"]=df.apply(lambda x: Levenshtein.ratio(x['Exportador en Perú'],  company), axis=1)\n",
    "# Filter rows with more than 90% similarity\n",
    "df.iloc[(df[\"Similarity\"]>=0.9).values]"
   ]
  },
  {
   "cell_type": "markdown",
   "metadata": {},
   "source": [
    "Check how many unique values are in each column:"
   ]
  },
  {
   "cell_type": "code",
   "execution_count": 17,
   "metadata": {},
   "outputs": [
    {
     "data": {
      "text/plain": [
       "Exportador en Perú    2\n",
       "Similarity            2\n",
       "dtype: int64"
      ]
     },
     "execution_count": 17,
     "metadata": {},
     "output_type": "execute_result"
    }
   ],
   "source": [
    "df.iloc[(df[\"Similarity\"]>=0.8).values].nunique()"
   ]
  },
  {
   "cell_type": "markdown",
   "metadata": {},
   "source": [
    "We know from Aurum that the column *Exportador en Perú* is filled from a dropdown menu. So, since it's not \"typed\" there are no inconsistencies. This is alligned with the results we are getting above regarding this column. As such, there is no need to clean this column."
   ]
  },
  {
   "cell_type": "markdown",
   "metadata": {},
   "source": []
  },
  {
   "cell_type": "markdown",
   "metadata": {},
   "source": [
    "#### **Remark 7:**"
   ]
  },
  {
   "cell_type": "markdown",
   "metadata": {},
   "source": [
    "The column *Descripcion de la Partida Aduanera* gives general information about the asociated product code of *Partida aduanera*, while the column \"Descripcion Comercial\" contains more detailed information. Let's study this colums"
   ]
  },
  {
   "cell_type": "code",
   "execution_count": 18,
   "metadata": {},
   "outputs": [
    {
     "name": "stdout",
     "output_type": "stream",
     "text": [
      "There are 209 different codes of Partida Aduanera in total\n",
      "There are 191 different values of Descripcion de la Partida Aduanera in total\n",
      "There are 84171 different values of Descripcion Comercial in total\n"
     ]
    }
   ],
   "source": [
    "# Select the three columns of interest\n",
    "df = train[[\"Partida Aduanera\", \"Descripcion de la Partida Aduanera\", \"Descripcion Comercial\"]]\n",
    "# Get the cardinality of *Partida aduanera*\n",
    "print(\"There are \"+ str(len(df['Partida Aduanera'].unique()))+ \" different codes of Partida Aduanera in total\")\n",
    "# Get the cardinality of *Descripcion de la Partida Aduanera*\n",
    "print(\"There are \"+ str(len(df['Descripcion de la Partida Aduanera'].unique()))+ \" different values of Descripcion de la Partida Aduanera in total\")\n",
    "# Get the cardinality of *Partida aduanera*\n",
    "print(\"There are \"+ str(len(df['Descripcion Comercial'].unique()))+ \" different values of Descripcion Comercial in total\")\n"
   ]
  },
  {
   "cell_type": "markdown",
   "metadata": {},
   "source": []
  },
  {
   "cell_type": "markdown",
   "metadata": {},
   "source": [
    "## **4. Data Cleaning**"
   ]
  },
  {
   "cell_type": "markdown",
   "metadata": {},
   "source": [
    "In this stage we will clean the data and specifically the columns that we will use in the model(s) in the next section. Of course, we don´t need to clean all the columns, since many of them are not relevant to label the rows. So, let's first determine the columns to be used and justify why"
   ]
  },
  {
   "cell_type": "markdown",
   "metadata": {},
   "source": [
    "| COLUMN | USEFUL | JUSTIFICATION |\n",
    "| --- | --- | --- |\n",
    "| Partida Aduanera | NO | For each customs code there is one description in *Descripcion de la Partida Aduanera*. This last carries more information about the product. So, we won´t take this attribute and consider the next one. |\n",
    "| Descripcion de la Partida Aduanera | **YES** | This is a general description about the product, so this carries valuable information for the labeling |\n",
    "| Aduana | **YES** | Usually, the products are exported from the nearest ports. For example, an orange cultivated in the north of Peru is more likely to be exported from a port in the north of the country. So this can be insightful for our model. |\n",
    "| DUA | NO | This is a random generated code associated with the shipping, it does not carry information that can be captured |\n",
    "| Fecha | **YES** | Associating the date of shipping to a category is insightfull. As we saw, some products are exported in specific seasons of the year |\n",
    "| Año | NO | Already included in the previous attribute |\n",
    "| Cod. Tributario | **YES** | There is one tax code for each company. A company can be associated to specific groups of products. Since this attribute is already numerical, it is more convenient to use it instead of the company name.  |\n",
    "| Exportador en Perú | NO | This information is already captured in the previous attribute |\n",
    "| Importador Extranjero | **YES** | An importer abroad can be related to a group of products, so this attribute is insightfull |\n",
    "| Kg Bruto | NO | See next attribute |\n",
    "| Kg Neto | **YES** | The weight of the shipments is insightfull, but is highly variable among same products, so initially we won´t use this feature. However we will use it to calculate the price by kg, which is actually insightfull |\n",
    "| Toneladas Netas | NO  | See previous attribute |\n",
    "| Qty 1 | NO | Same as before |\n",
    "| Und 1 | NO | Same as before |\n",
    "| Qty 2 | NO | Same as before |\n",
    "| Und 2 | NO | Same as before |\n",
    "| U$ FOB Tot | **YES** | The cost of the shipment will be use to calulate the cost by kg of the product |\n",
    "| Miles de USD Fob TOTAL | NO | It is just a repetition of the previous attribute |\n",
    "| U$ FOB Und 1 | NO | |\n",
    "| U$ FOB Und 2 | NO  |  |\n",
    "| Pais de Destino | **YES** | The country were this products are beeing imported can be related to groups of products |\n",
    "| Puerto de destino | NO | The previous attribute indirectly captures this information already |\n",
    "| Último Puerto Embarque | NO | |\n",
    "| Via | NO |  |\n",
    "| Agente Portuario | NO |  |\n",
    "| Agente de Aduana | NO  |  |\n",
    "| Descripcion Comercial | **YES** | The comercial description also carries valuable information for the labeling |\n",
    "| Descripcion1 | NO | Alredy captured in *Descripcion Comercial* |\n",
    "| Descripcion2 | NO | Alredy captured in *Descripcion Comercial* |\n",
    "| Descripcion3 | NO | Alredy captured in *Descripcion Comercial* |\n",
    "| Descripcion4 | NO | Alredy captured in *Descripcion Comercial* |\n",
    "| Descripcion5 | NO | Alredy captured in *Descripcion Comercial* |\n",
    "| Naviera | NO |  |\n",
    "| Agente Carga(Origen) | NO |  |\n",
    "| Agente Carga(Destino) | NO |  |\n",
    "| Canal | NO |  |\n",
    "| Concatenar | NO |  |\n",
    "| Categoría macro Aurum | **YES** | **LABEL** |\n",
    "| Subcategoría inicial | **YES** | **LABEL** |\n",
    "| Subcategoría Consolidada Aurum | NO |  |\n",
    "| Categoría Consolidada Aurum | NO |  |"
   ]
  },
  {
   "cell_type": "code",
   "execution_count": 19,
   "metadata": {},
   "outputs": [
    {
     "data": {
      "text/html": [
       "<div>\n",
       "<style scoped>\n",
       "    .dataframe tbody tr th:only-of-type {\n",
       "        vertical-align: middle;\n",
       "    }\n",
       "\n",
       "    .dataframe tbody tr th {\n",
       "        vertical-align: top;\n",
       "    }\n",
       "\n",
       "    .dataframe thead th {\n",
       "        text-align: right;\n",
       "    }\n",
       "</style>\n",
       "<table border=\"1\" class=\"dataframe\">\n",
       "  <thead>\n",
       "    <tr style=\"text-align: right;\">\n",
       "      <th></th>\n",
       "      <th>Descripcion de la Partida Aduanera</th>\n",
       "      <th>Aduana</th>\n",
       "      <th>Fecha</th>\n",
       "      <th>Cod. Tributario</th>\n",
       "      <th>Importador Extranjero</th>\n",
       "      <th>Kg Neto</th>\n",
       "      <th>U$ FOB Tot</th>\n",
       "      <th>Pais de Destino</th>\n",
       "      <th>Descripcion Comercial</th>\n",
       "      <th>Categoría macro Aurum</th>\n",
       "      <th>Subcategoría inicial</th>\n",
       "    </tr>\n",
       "  </thead>\n",
       "  <tbody>\n",
       "    <tr>\n",
       "      <th>541490</th>\n",
       "      <td>UVAS FRESCAS</td>\n",
       "      <td>PAITA</td>\n",
       "      <td>1/24/2021</td>\n",
       "      <td>20100227542</td>\n",
       "      <td>No identificado</td>\n",
       "      <td>492.0</td>\n",
       "      <td>1200.0</td>\n",
       "      <td>Estados Unidos</td>\n",
       "      <td>UVAS FRESCAS EN CAJAS VARIEDAD: IFG ELEVEN COL...</td>\n",
       "      <td>Uva</td>\n",
       "      <td>Uvas Sugar Crisp</td>\n",
       "    </tr>\n",
       "    <tr>\n",
       "      <th>102488</th>\n",
       "      <td>CEBOLLAS Y CHALOTES, FRESCOS O REFRIGERADOS</td>\n",
       "      <td>TUMBES</td>\n",
       "      <td>10/19/2020</td>\n",
       "      <td>20409444866</td>\n",
       "      <td>No identificado</td>\n",
       "      <td>30038.0</td>\n",
       "      <td>4506.0</td>\n",
       "      <td>Colombia</td>\n",
       "      <td>CEBOLLAS FRESCASEN SACOS DE 46 KGPARA SU COMER...</td>\n",
       "      <td>Cebolla</td>\n",
       "      <td>Cebolla Fresca</td>\n",
       "    </tr>\n",
       "    <tr>\n",
       "      <th>201853</th>\n",
       "      <td>ESPARRAGOS, FRESCOS O REFRIGERADOS</td>\n",
       "      <td>AEREA DEL CALLAO</td>\n",
       "      <td>1/29/2019</td>\n",
       "      <td>20279143222</td>\n",
       "      <td>Consolidated Farms Inc Dba Crystal Valley Foods</td>\n",
       "      <td>919.6</td>\n",
       "      <td>3924.0</td>\n",
       "      <td>Estados Unidos</td>\n",
       "      <td>ESPARRAGOS  FRESCOS    CODIGO Nº13 RESTITUCION...</td>\n",
       "      <td>Espárrago</td>\n",
       "      <td>Espárrago Fresco</td>\n",
       "    </tr>\n",
       "    <tr>\n",
       "      <th>215653</th>\n",
       "      <td>ESPARRAGOS, FRESCOS O REFRIGERADOS</td>\n",
       "      <td>AEREA DEL CALLAO</td>\n",
       "      <td>12/14/2020</td>\n",
       "      <td>20297939131</td>\n",
       "      <td>Alpine Fresh</td>\n",
       "      <td>1925.0</td>\n",
       "      <td>2098.0</td>\n",
       "      <td>Estados Unidos</td>\n",
       "      <td>ESPARRAGOS   FRESCOS EN CAJAS DRAWBACK ESPARRA...</td>\n",
       "      <td>Espárrago</td>\n",
       "      <td>Espárrago Fresco</td>\n",
       "    </tr>\n",
       "    <tr>\n",
       "      <th>312016</th>\n",
       "      <td>LAS DEMÁS CLEMENTINAS</td>\n",
       "      <td>MARITIMA DEL CALLAO</td>\n",
       "      <td>8/5/2019</td>\n",
       "      <td>20501923428</td>\n",
       "      <td>No identificado</td>\n",
       "      <td>880.0</td>\n",
       "      <td>1346.0</td>\n",
       "      <td>Estados Unidos</td>\n",
       "      <td>MANDARINAS FRESCAS TANGO  COLD TREATMENT EXPOR...</td>\n",
       "      <td>Mandarina</td>\n",
       "      <td>Mandarinas Frescas Tango</td>\n",
       "    </tr>\n",
       "    <tr>\n",
       "      <th>...</th>\n",
       "      <td>...</td>\n",
       "      <td>...</td>\n",
       "      <td>...</td>\n",
       "      <td>...</td>\n",
       "      <td>...</td>\n",
       "      <td>...</td>\n",
       "      <td>...</td>\n",
       "      <td>...</td>\n",
       "      <td>...</td>\n",
       "      <td>...</td>\n",
       "      <td>...</td>\n",
       "    </tr>\n",
       "    <tr>\n",
       "      <th>558088</th>\n",
       "      <td>UVAS FRESCAS</td>\n",
       "      <td>PISCO</td>\n",
       "      <td>12/21/2020</td>\n",
       "      <td>20602872760</td>\n",
       "      <td>Vanguard Direct. Llc5080 California Avenue. Su...</td>\n",
       "      <td>738.0</td>\n",
       "      <td>63.0</td>\n",
       "      <td>Estados Unidos</td>\n",
       "      <td>UVAS FRESCAS,VARIEDAD: SWEET GLOBE,CONDICION: ...</td>\n",
       "      <td>Uva</td>\n",
       "      <td>Uvas Sweet Globe</td>\n",
       "    </tr>\n",
       "    <tr>\n",
       "      <th>124605</th>\n",
       "      <td>CEBOLLAS Y CHALOTES, FRESCOS O REFRIGERADOS</td>\n",
       "      <td>TUMBES</td>\n",
       "      <td>4/1/2021</td>\n",
       "      <td>20606258535</td>\n",
       "      <td>No identificado</td>\n",
       "      <td>30038.0</td>\n",
       "      <td>8510.0</td>\n",
       "      <td>Colombia</td>\n",
       "      <td>CEBOLLA FRESCA ROJAEMBALADA EN SACOS(653 SACOS...</td>\n",
       "      <td>Cebolla</td>\n",
       "      <td>Cebolla Fresca Roja</td>\n",
       "    </tr>\n",
       "    <tr>\n",
       "      <th>544751</th>\n",
       "      <td>UVAS FRESCAS</td>\n",
       "      <td>PISCO</td>\n",
       "      <td>1/10/2019</td>\n",
       "      <td>20562740814</td>\n",
       "      <td>Masterfruits - Comercio De Frutas.</td>\n",
       "      <td>5608.8</td>\n",
       "      <td>5472.0</td>\n",
       "      <td>Portugal</td>\n",
       "      <td>UVAS FRESCAS EN CAJAS VARIEDAD SUGRAONE COLD T...</td>\n",
       "      <td>Uva</td>\n",
       "      <td>Uvas Sugraone</td>\n",
       "    </tr>\n",
       "    <tr>\n",
       "      <th>18638</th>\n",
       "      <td>ARANDANOS O MURTONES Y DEMAS FRUTOS DEL GENERO...</td>\n",
       "      <td>SALAVERRY</td>\n",
       "      <td>10/29/2019</td>\n",
       "      <td>20559912353</td>\n",
       "      <td>Natures Pride B.V.</td>\n",
       "      <td>10443.0</td>\n",
       "      <td>50062.0</td>\n",
       "      <td>Países Bajos</td>\n",
       "      <td>ARANDANO FRESCO   EN CAJAS SE ACOGE AL DRAWBACK</td>\n",
       "      <td>Arándano</td>\n",
       "      <td>Arándanos Frescos Sin Variedad</td>\n",
       "    </tr>\n",
       "    <tr>\n",
       "      <th>297827</th>\n",
       "      <td>MANDARINAS (INCLUIDAS LAS TANGERINAS Y SATSUMA...</td>\n",
       "      <td>MARITIMA DEL CALLAO</td>\n",
       "      <td>6/3/2020</td>\n",
       "      <td>20522308880</td>\n",
       "      <td>Pacific Produce Ltdthe Threshing Barn North We...</td>\n",
       "      <td>21840.0</td>\n",
       "      <td>26466.0</td>\n",
       "      <td>Reino Unido</td>\n",
       "      <td>MANDARINA FRESCA VARIEDAD: SATSUMA EN CAJAS DE...</td>\n",
       "      <td>Mandarina</td>\n",
       "      <td>Mandarinas Frescas Satsuma</td>\n",
       "    </tr>\n",
       "  </tbody>\n",
       "</table>\n",
       "<p>505115 rows × 11 columns</p>\n",
       "</div>"
      ],
      "text/plain": [
       "                       Descripcion de la Partida Aduanera  \\\n",
       "541490                                       UVAS FRESCAS   \n",
       "102488        CEBOLLAS Y CHALOTES, FRESCOS O REFRIGERADOS   \n",
       "201853                 ESPARRAGOS, FRESCOS O REFRIGERADOS   \n",
       "215653                 ESPARRAGOS, FRESCOS O REFRIGERADOS   \n",
       "312016                              LAS DEMÁS CLEMENTINAS   \n",
       "...                                                   ...   \n",
       "558088                                       UVAS FRESCAS   \n",
       "124605        CEBOLLAS Y CHALOTES, FRESCOS O REFRIGERADOS   \n",
       "544751                                       UVAS FRESCAS   \n",
       "18638   ARANDANOS O MURTONES Y DEMAS FRUTOS DEL GENERO...   \n",
       "297827  MANDARINAS (INCLUIDAS LAS TANGERINAS Y SATSUMA...   \n",
       "\n",
       "                     Aduana       Fecha Cod. Tributario  \\\n",
       "541490                PAITA   1/24/2021     20100227542   \n",
       "102488               TUMBES  10/19/2020     20409444866   \n",
       "201853     AEREA DEL CALLAO   1/29/2019     20279143222   \n",
       "215653     AEREA DEL CALLAO  12/14/2020     20297939131   \n",
       "312016  MARITIMA DEL CALLAO    8/5/2019     20501923428   \n",
       "...                     ...         ...             ...   \n",
       "558088                PISCO  12/21/2020     20602872760   \n",
       "124605               TUMBES    4/1/2021     20606258535   \n",
       "544751                PISCO   1/10/2019     20562740814   \n",
       "18638             SALAVERRY  10/29/2019     20559912353   \n",
       "297827  MARITIMA DEL CALLAO    6/3/2020     20522308880   \n",
       "\n",
       "                                    Importador Extranjero  Kg Neto  \\\n",
       "541490                                    No identificado    492.0   \n",
       "102488                                    No identificado  30038.0   \n",
       "201853    Consolidated Farms Inc Dba Crystal Valley Foods    919.6   \n",
       "215653                                       Alpine Fresh   1925.0   \n",
       "312016                                    No identificado    880.0   \n",
       "...                                                   ...      ...   \n",
       "558088  Vanguard Direct. Llc5080 California Avenue. Su...    738.0   \n",
       "124605                                    No identificado  30038.0   \n",
       "544751                 Masterfruits - Comercio De Frutas.   5608.8   \n",
       "18638                                  Natures Pride B.V.  10443.0   \n",
       "297827  Pacific Produce Ltdthe Threshing Barn North We...  21840.0   \n",
       "\n",
       "        U$ FOB Tot Pais de Destino  \\\n",
       "541490      1200.0  Estados Unidos   \n",
       "102488      4506.0        Colombia   \n",
       "201853      3924.0  Estados Unidos   \n",
       "215653      2098.0  Estados Unidos   \n",
       "312016      1346.0  Estados Unidos   \n",
       "...            ...             ...   \n",
       "558088        63.0  Estados Unidos   \n",
       "124605      8510.0        Colombia   \n",
       "544751      5472.0        Portugal   \n",
       "18638      50062.0    Países Bajos   \n",
       "297827     26466.0     Reino Unido   \n",
       "\n",
       "                                    Descripcion Comercial  \\\n",
       "541490  UVAS FRESCAS EN CAJAS VARIEDAD: IFG ELEVEN COL...   \n",
       "102488  CEBOLLAS FRESCASEN SACOS DE 46 KGPARA SU COMER...   \n",
       "201853  ESPARRAGOS  FRESCOS    CODIGO Nº13 RESTITUCION...   \n",
       "215653  ESPARRAGOS   FRESCOS EN CAJAS DRAWBACK ESPARRA...   \n",
       "312016  MANDARINAS FRESCAS TANGO  COLD TREATMENT EXPOR...   \n",
       "...                                                   ...   \n",
       "558088  UVAS FRESCAS,VARIEDAD: SWEET GLOBE,CONDICION: ...   \n",
       "124605  CEBOLLA FRESCA ROJAEMBALADA EN SACOS(653 SACOS...   \n",
       "544751  UVAS FRESCAS EN CAJAS VARIEDAD SUGRAONE COLD T...   \n",
       "18638     ARANDANO FRESCO   EN CAJAS SE ACOGE AL DRAWBACK   \n",
       "297827  MANDARINA FRESCA VARIEDAD: SATSUMA EN CAJAS DE...   \n",
       "\n",
       "       Categoría macro Aurum            Subcategoría inicial  \n",
       "541490                   Uva                Uvas Sugar Crisp  \n",
       "102488               Cebolla                  Cebolla Fresca  \n",
       "201853             Espárrago                Espárrago Fresco  \n",
       "215653             Espárrago                Espárrago Fresco  \n",
       "312016             Mandarina        Mandarinas Frescas Tango  \n",
       "...                      ...                             ...  \n",
       "558088                   Uva                Uvas Sweet Globe  \n",
       "124605               Cebolla             Cebolla Fresca Roja  \n",
       "544751                   Uva                   Uvas Sugraone  \n",
       "18638               Arándano  Arándanos Frescos Sin Variedad  \n",
       "297827             Mandarina      Mandarinas Frescas Satsuma  \n",
       "\n",
       "[505115 rows x 11 columns]"
      ]
     },
     "execution_count": 19,
     "metadata": {},
     "output_type": "execute_result"
    }
   ],
   "source": [
    "train_data = train[[\"Descripcion de la Partida Aduanera\", \"Aduana\", \"Fecha\", \"Cod. Tributario\", \"Importador Extranjero\", \"Kg Neto\", \"U$ FOB Tot\", \"Pais de Destino\", \"Descripcion Comercial\", \"Categoría macro Aurum\", \"Subcategoría inicial\" ]]\n",
    "train_data"
   ]
  },
  {
   "cell_type": "markdown",
   "metadata": {},
   "source": [
    "From now on we will focus on each of the selected columns"
   ]
  },
  {
   "cell_type": "markdown",
   "metadata": {},
   "source": [
    "#### **Descripcion de la Partida Aduanera (description of the customs code)**"
   ]
  },
  {
   "cell_type": "code",
   "execution_count": 20,
   "metadata": {},
   "outputs": [
    {
     "data": {
      "text/html": [
       "<div>\n",
       "<style scoped>\n",
       "    .dataframe tbody tr th:only-of-type {\n",
       "        vertical-align: middle;\n",
       "    }\n",
       "\n",
       "    .dataframe tbody tr th {\n",
       "        vertical-align: top;\n",
       "    }\n",
       "\n",
       "    .dataframe thead th {\n",
       "        text-align: right;\n",
       "    }\n",
       "</style>\n",
       "<table border=\"1\" class=\"dataframe\">\n",
       "  <thead>\n",
       "    <tr style=\"text-align: right;\">\n",
       "      <th></th>\n",
       "      <th>Descripcion de la Partida Aduanera</th>\n",
       "    </tr>\n",
       "  </thead>\n",
       "  <tbody>\n",
       "    <tr>\n",
       "      <th>541490</th>\n",
       "      <td>UVAS FRESCAS</td>\n",
       "    </tr>\n",
       "    <tr>\n",
       "      <th>102488</th>\n",
       "      <td>CEBOLLAS Y CHALOTES, FRESCOS O REFRIGERADOS</td>\n",
       "    </tr>\n",
       "    <tr>\n",
       "      <th>201853</th>\n",
       "      <td>ESPARRAGOS, FRESCOS O REFRIGERADOS</td>\n",
       "    </tr>\n",
       "    <tr>\n",
       "      <th>215653</th>\n",
       "      <td>ESPARRAGOS, FRESCOS O REFRIGERADOS</td>\n",
       "    </tr>\n",
       "    <tr>\n",
       "      <th>312016</th>\n",
       "      <td>LAS DEMÁS CLEMENTINAS</td>\n",
       "    </tr>\n",
       "    <tr>\n",
       "      <th>...</th>\n",
       "      <td>...</td>\n",
       "    </tr>\n",
       "    <tr>\n",
       "      <th>558088</th>\n",
       "      <td>UVAS FRESCAS</td>\n",
       "    </tr>\n",
       "    <tr>\n",
       "      <th>124605</th>\n",
       "      <td>CEBOLLAS Y CHALOTES, FRESCOS O REFRIGERADOS</td>\n",
       "    </tr>\n",
       "    <tr>\n",
       "      <th>544751</th>\n",
       "      <td>UVAS FRESCAS</td>\n",
       "    </tr>\n",
       "    <tr>\n",
       "      <th>18638</th>\n",
       "      <td>ARANDANOS O MURTONES Y DEMAS FRUTOS DEL GENERO...</td>\n",
       "    </tr>\n",
       "    <tr>\n",
       "      <th>297827</th>\n",
       "      <td>MANDARINAS (INCLUIDAS LAS TANGERINAS Y SATSUMA...</td>\n",
       "    </tr>\n",
       "  </tbody>\n",
       "</table>\n",
       "<p>505115 rows × 1 columns</p>\n",
       "</div>"
      ],
      "text/plain": [
       "                       Descripcion de la Partida Aduanera\n",
       "541490                                       UVAS FRESCAS\n",
       "102488        CEBOLLAS Y CHALOTES, FRESCOS O REFRIGERADOS\n",
       "201853                 ESPARRAGOS, FRESCOS O REFRIGERADOS\n",
       "215653                 ESPARRAGOS, FRESCOS O REFRIGERADOS\n",
       "312016                              LAS DEMÁS CLEMENTINAS\n",
       "...                                                   ...\n",
       "558088                                       UVAS FRESCAS\n",
       "124605        CEBOLLAS Y CHALOTES, FRESCOS O REFRIGERADOS\n",
       "544751                                       UVAS FRESCAS\n",
       "18638   ARANDANOS O MURTONES Y DEMAS FRUTOS DEL GENERO...\n",
       "297827  MANDARINAS (INCLUIDAS LAS TANGERINAS Y SATSUMA...\n",
       "\n",
       "[505115 rows x 1 columns]"
      ]
     },
     "execution_count": 20,
     "metadata": {},
     "output_type": "execute_result"
    }
   ],
   "source": [
    "train_data[[\"Descripcion de la Partida Aduanera\"]]"
   ]
  },
  {
   "cell_type": "markdown",
   "metadata": {},
   "source": [
    "Since in this column we are dealing with textual descriptions of the product, we will use Natural Language Processing techniques. A first important step that we will perform is to remove the so called *stop words* from each cell, so that we get rid of the low-level information. For example, we see that the second row in the above table has the word 'Y' (and) or 'O' (or). This words should not be considered in our future model."
   ]
  },
  {
   "cell_type": "markdown",
   "metadata": {},
   "source": [
    "To do this we will use the Natural Language Toolkit (NLTK)."
   ]
  },
  {
   "cell_type": "code",
   "execution_count": 21,
   "metadata": {},
   "outputs": [
    {
     "name": "stdout",
     "output_type": "stream",
     "text": [
      "The words considered stopwords in spanish are: \n",
      "['de', 'la', 'que', 'el', 'en', 'y', 'a', 'los', 'del', 'se', 'las', 'por', 'un', 'para', 'con', 'no', 'una', 'su', 'al', 'lo', 'como', 'más', 'pero', 'sus', 'le', 'ya', 'o', 'este', 'sí', 'porque', 'esta', 'entre', 'cuando', 'muy', 'sin', 'sobre', 'también', 'me', 'hasta', 'hay', 'donde', 'quien', 'desde', 'todo', 'nos', 'durante', 'todos', 'uno', 'les', 'ni', 'contra', 'otros', 'ese', 'eso', 'ante', 'ellos', 'e', 'esto', 'mí', 'antes', 'algunos', 'qué', 'unos', 'yo', 'otro', 'otras', 'otra', 'él', 'tanto', 'esa', 'estos', 'mucho', 'quienes', 'nada', 'muchos', 'cual', 'poco', 'ella', 'estar', 'estas', 'algunas', 'algo', 'nosotros', 'mi', 'mis', 'tú', 'te', 'ti', 'tu', 'tus', 'ellas', 'nosotras', 'vosotros', 'vosotras', 'os', 'mío', 'mía', 'míos', 'mías', 'tuyo', 'tuya', 'tuyos', 'tuyas', 'suyo', 'suya', 'suyos', 'suyas', 'nuestro', 'nuestra', 'nuestros', 'nuestras', 'vuestro', 'vuestra', 'vuestros', 'vuestras', 'esos', 'esas', 'estoy', 'estás', 'está', 'estamos', 'estáis', 'están', 'esté', 'estés', 'estemos', 'estéis', 'estén', 'estaré', 'estarás', 'estará', 'estaremos', 'estaréis', 'estarán', 'estaría', 'estarías', 'estaríamos', 'estaríais', 'estarían', 'estaba', 'estabas', 'estábamos', 'estabais', 'estaban', 'estuve', 'estuviste', 'estuvo', 'estuvimos', 'estuvisteis', 'estuvieron', 'estuviera', 'estuvieras', 'estuviéramos', 'estuvierais', 'estuvieran', 'estuviese', 'estuvieses', 'estuviésemos', 'estuvieseis', 'estuviesen', 'estando', 'estado', 'estada', 'estados', 'estadas', 'estad', 'he', 'has', 'ha', 'hemos', 'habéis', 'han', 'haya', 'hayas', 'hayamos', 'hayáis', 'hayan', 'habré', 'habrás', 'habrá', 'habremos', 'habréis', 'habrán', 'habría', 'habrías', 'habríamos', 'habríais', 'habrían', 'había', 'habías', 'habíamos', 'habíais', 'habían', 'hube', 'hubiste', 'hubo', 'hubimos', 'hubisteis', 'hubieron', 'hubiera', 'hubieras', 'hubiéramos', 'hubierais', 'hubieran', 'hubiese', 'hubieses', 'hubiésemos', 'hubieseis', 'hubiesen', 'habiendo', 'habido', 'habida', 'habidos', 'habidas', 'soy', 'eres', 'es', 'somos', 'sois', 'son', 'sea', 'seas', 'seamos', 'seáis', 'sean', 'seré', 'serás', 'será', 'seremos', 'seréis', 'serán', 'sería', 'serías', 'seríamos', 'seríais', 'serían', 'era', 'eras', 'éramos', 'erais', 'eran', 'fui', 'fuiste', 'fue', 'fuimos', 'fuisteis', 'fueron', 'fuera', 'fueras', 'fuéramos', 'fuerais', 'fueran', 'fuese', 'fueses', 'fuésemos', 'fueseis', 'fuesen', 'sintiendo', 'sentido', 'sentida', 'sentidos', 'sentidas', 'siente', 'sentid', 'tengo', 'tienes', 'tiene', 'tenemos', 'tenéis', 'tienen', 'tenga', 'tengas', 'tengamos', 'tengáis', 'tengan', 'tendré', 'tendrás', 'tendrá', 'tendremos', 'tendréis', 'tendrán', 'tendría', 'tendrías', 'tendríamos', 'tendríais', 'tendrían', 'tenía', 'tenías', 'teníamos', 'teníais', 'tenían', 'tuve', 'tuviste', 'tuvo', 'tuvimos', 'tuvisteis', 'tuvieron', 'tuviera', 'tuvieras', 'tuviéramos', 'tuvierais', 'tuvieran', 'tuviese', 'tuvieses', 'tuviésemos', 'tuvieseis', 'tuviesen', 'teniendo', 'tenido', 'tenida', 'tenidos', 'tenidas', 'tened']\n"
     ]
    }
   ],
   "source": [
    "# Import the library\n",
    "import nltk\n",
    "# Download the stopwords feature\n",
    "#nltk.download('stopwords')\n",
    "# Import the stopwords\n",
    "from nltk.corpus import stopwords\n",
    "\n",
    "# Get the stopword in Spanish\n",
    "sw_nltk = stopwords.words('spanish')\n",
    "print(\"The words considered stopwords in spanish are: \")\n",
    "print(sw_nltk)"
   ]
  },
  {
   "cell_type": "markdown",
   "metadata": {},
   "source": [
    "Now let's remove the stopwords and punctuations from the column"
   ]
  },
  {
   "cell_type": "code",
   "execution_count": 22,
   "metadata": {},
   "outputs": [
    {
     "name": "stderr",
     "output_type": "stream",
     "text": [
      "C:\\Users\\spost\\AppData\\Local\\Temp\\ipykernel_22248\\3163164256.py:21: SettingWithCopyWarning: \n",
      "A value is trying to be set on a copy of a slice from a DataFrame.\n",
      "Try using .loc[row_indexer,col_indexer] = value instead\n",
      "\n",
      "See the caveats in the documentation: https://pandas.pydata.org/pandas-docs/stable/user_guide/indexing.html#returning-a-view-versus-a-copy\n",
      "  train_data[\"Descripcion de la Partida Aduanera\"] = new_descriptions\n"
     ]
    },
    {
     "data": {
      "text/html": [
       "<div>\n",
       "<style scoped>\n",
       "    .dataframe tbody tr th:only-of-type {\n",
       "        vertical-align: middle;\n",
       "    }\n",
       "\n",
       "    .dataframe tbody tr th {\n",
       "        vertical-align: top;\n",
       "    }\n",
       "\n",
       "    .dataframe thead th {\n",
       "        text-align: right;\n",
       "    }\n",
       "</style>\n",
       "<table border=\"1\" class=\"dataframe\">\n",
       "  <thead>\n",
       "    <tr style=\"text-align: right;\">\n",
       "      <th></th>\n",
       "      <th>Descripcion de la Partida Aduanera</th>\n",
       "    </tr>\n",
       "  </thead>\n",
       "  <tbody>\n",
       "    <tr>\n",
       "      <th>541490</th>\n",
       "      <td>UVAS FRESCAS</td>\n",
       "    </tr>\n",
       "    <tr>\n",
       "      <th>102488</th>\n",
       "      <td>CEBOLLAS CHALOTES FRESCOS REFRIGERADOS</td>\n",
       "    </tr>\n",
       "    <tr>\n",
       "      <th>201853</th>\n",
       "      <td>ESPARRAGOS FRESCOS REFRIGERADOS</td>\n",
       "    </tr>\n",
       "    <tr>\n",
       "      <th>215653</th>\n",
       "      <td>ESPARRAGOS FRESCOS REFRIGERADOS</td>\n",
       "    </tr>\n",
       "    <tr>\n",
       "      <th>312016</th>\n",
       "      <td>DEMÁS CLEMENTINAS</td>\n",
       "    </tr>\n",
       "    <tr>\n",
       "      <th>...</th>\n",
       "      <td>...</td>\n",
       "    </tr>\n",
       "    <tr>\n",
       "      <th>558088</th>\n",
       "      <td>UVAS FRESCAS</td>\n",
       "    </tr>\n",
       "    <tr>\n",
       "      <th>124605</th>\n",
       "      <td>CEBOLLAS CHALOTES FRESCOS REFRIGERADOS</td>\n",
       "    </tr>\n",
       "    <tr>\n",
       "      <th>544751</th>\n",
       "      <td>UVAS FRESCAS</td>\n",
       "    </tr>\n",
       "    <tr>\n",
       "      <th>18638</th>\n",
       "      <td>ARANDANOS MURTONES DEMAS FRUTOS GENERO VACCINI...</td>\n",
       "    </tr>\n",
       "    <tr>\n",
       "      <th>297827</th>\n",
       "      <td>MANDARINAS INCLUIDAS TANGERINAS SATSUMAS FRESC...</td>\n",
       "    </tr>\n",
       "  </tbody>\n",
       "</table>\n",
       "<p>505115 rows × 1 columns</p>\n",
       "</div>"
      ],
      "text/plain": [
       "                       Descripcion de la Partida Aduanera\n",
       "541490                                       UVAS FRESCAS\n",
       "102488             CEBOLLAS CHALOTES FRESCOS REFRIGERADOS\n",
       "201853                    ESPARRAGOS FRESCOS REFRIGERADOS\n",
       "215653                    ESPARRAGOS FRESCOS REFRIGERADOS\n",
       "312016                                  DEMÁS CLEMENTINAS\n",
       "...                                                   ...\n",
       "558088                                       UVAS FRESCAS\n",
       "124605             CEBOLLAS CHALOTES FRESCOS REFRIGERADOS\n",
       "544751                                       UVAS FRESCAS\n",
       "18638   ARANDANOS MURTONES DEMAS FRUTOS GENERO VACCINI...\n",
       "297827  MANDARINAS INCLUIDAS TANGERINAS SATSUMAS FRESC...\n",
       "\n",
       "[505115 rows x 1 columns]"
      ]
     },
     "execution_count": 22,
     "metadata": {},
     "output_type": "execute_result"
    }
   ],
   "source": [
    "# Create an array with the column values\n",
    "old_descriptions = train_data[\"Descripcion de la Partida Aduanera\"].tolist()\n",
    "\n",
    "# Array to store cleaned values\n",
    "new_descriptions = []\n",
    "\n",
    "# Remove the stopwords from each old cell and populate the new array\n",
    "for sentence in old_descriptions:\n",
    "    # Remove stopwords\n",
    "    words = [word for word in sentence.split() if word.lower() not in sw_nltk ]\n",
    "    new_text = \" \".join(words)\n",
    "    # Additionally remove punctuations\n",
    "    tokenizer = nltk.RegexpTokenizer(r\"\\w+\")\n",
    "    words = tokenizer.tokenize(new_text)\n",
    "    new_text = \" \".join(words)\n",
    "    # Append to the array\n",
    "    new_descriptions.append(new_text)\n",
    "new_descriptions\n",
    "\n",
    "# Add the cleaned data to the training dataframe\n",
    "train_data[\"Descripcion de la Partida Aduanera\"] = new_descriptions\n",
    "train_data[[\"Descripcion de la Partida Aduanera\"]]"
   ]
  },
  {
   "cell_type": "markdown",
   "metadata": {},
   "source": [
    "#### **Aduana (customs office name)**"
   ]
  },
  {
   "cell_type": "code",
   "execution_count": 23,
   "metadata": {},
   "outputs": [
    {
     "data": {
      "text/plain": [
       "array(['PAITA', 'TUMBES', 'AEREA DEL CALLAO', 'MARITIMA DEL CALLAO',\n",
       "       'SALAVERRY', 'PISCO', 'PIMENTEL', 'TACNA', 'CHIMBOTE',\n",
       "       'MOLLENDO - MATARANI', 'PUERTO MALDONADO', 'AREQUIPA',\n",
       "       'DESAGUADERO', 'ILO', 'LA TINA'], dtype=object)"
      ]
     },
     "execution_count": 23,
     "metadata": {},
     "output_type": "execute_result"
    }
   ],
   "source": [
    "train_data[\"Aduana\"].unique()"
   ]
  },
  {
   "cell_type": "markdown",
   "metadata": {},
   "source": [
    "As we see there are no duplications by typos. This column is clean."
   ]
  },
  {
   "cell_type": "markdown",
   "metadata": {},
   "source": [
    "#### **Fecha (date)**"
   ]
  },
  {
   "cell_type": "markdown",
   "metadata": {},
   "source": [
    "For this column we will map the month of shipment"
   ]
  },
  {
   "cell_type": "code",
   "execution_count": 24,
   "metadata": {},
   "outputs": [
    {
     "name": "stderr",
     "output_type": "stream",
     "text": [
      "C:\\Users\\spost\\AppData\\Local\\Temp\\ipykernel_22248\\734820030.py:5: SettingWithCopyWarning: \n",
      "A value is trying to be set on a copy of a slice from a DataFrame.\n",
      "Try using .loc[row_indexer,col_indexer] = value instead\n",
      "\n",
      "See the caveats in the documentation: https://pandas.pydata.org/pandas-docs/stable/user_guide/indexing.html#returning-a-view-versus-a-copy\n",
      "  train_data['Fecha'] = date\n"
     ]
    },
    {
     "data": {
      "text/plain": [
       "541490     1\n",
       "102488    10\n",
       "201853     1\n",
       "215653    12\n",
       "312016     8\n",
       "          ..\n",
       "558088    12\n",
       "124605     4\n",
       "544751     1\n",
       "18638     10\n",
       "297827     6\n",
       "Name: Fecha, Length: 505115, dtype: int64"
      ]
     },
     "execution_count": 24,
     "metadata": {},
     "output_type": "execute_result"
    }
   ],
   "source": [
    "import datetime as dt\n",
    "\n",
    "date = train_data['Fecha'].tolist()\n",
    "date = pd.to_datetime(date).month\n",
    "train_data['Fecha'] = date\n",
    "train_data['Fecha']"
   ]
  },
  {
   "cell_type": "markdown",
   "metadata": {},
   "source": [
    "#### **Cod. Tributario (tax code from exporter company)**"
   ]
  },
  {
   "cell_type": "code",
   "execution_count": 25,
   "metadata": {},
   "outputs": [
    {
     "data": {
      "text/plain": [
       "False"
      ]
     },
     "execution_count": 25,
     "metadata": {},
     "output_type": "execute_result"
    }
   ],
   "source": [
    "train_data['Cod. Tributario'].isnull().values.any()"
   ]
  },
  {
   "cell_type": "markdown",
   "metadata": {},
   "source": [
    "There are non NaN values, the data is clean"
   ]
  },
  {
   "cell_type": "markdown",
   "metadata": {},
   "source": [
    "#### **Importador extranjero (company name of importer abroad)**"
   ]
  },
  {
   "cell_type": "markdown",
   "metadata": {},
   "source": [
    "As we saw previously, there are cells in this column refering to the same company but have slightly different values. We will clean this. <br>\n",
    "First, we will create a dictionary whose keys will be the first appearance of the companies in the column and the value will be an array with the all the different name variations of the respective company"
   ]
  },
  {
   "cell_type": "code",
   "execution_count": 26,
   "metadata": {},
   "outputs": [
    {
     "data": {
      "text/plain": [
       "' # Import tqdm to see a progress bar\\nfrom tqdm import tqdm\\n\\n# Get the column as a list\\nimporter_abroad = train_data[\"Importador Extranjero\"].tolist()\\n# Remove duplicates\\nimporter_abroad = list(dict.fromkeys(importer_abroad))\\n# Print number of different strings in the array\\nprint(len(importer_abroad))\\n# Create the dictionary \\nimporter_abroad_map = {}\\n\\nfor i,x in enumerate( tqdm(importer_abroad) ):\\n    # If the importer is already inside a map, discard it, if not, proceed\\n    if not(importer_abroad[i] in list(importer_abroad_map.values())):\\n        # Create a key and and an array map including the key\\'s value\\n        importer_abroad_map[importer_abroad[i]] = [importer_abroad[i]]\\n        # Iterate from the next row to the end\\n        for c in range(i+1, len(importer_abroad)):\\n            # Check the similarity between the values\\n            similarity = Levenshtein.ratio(importer_abroad[i],importer_abroad[c])\\n            # If similarity is more than 90% add the value to the map\\n            if similarity>=0.9:\\n                importer_abroad_map[importer_abroad[i]].append(importer_abroad[c]) '"
      ]
     },
     "execution_count": 26,
     "metadata": {},
     "output_type": "execute_result"
    }
   ],
   "source": [
    "# ONCE THE DICTIONARY IS CREATED AND SAVED IN A CSV FILE, WE WON´T NEED TO RUN THIS CELL AGAIN\n",
    "\n",
    "\"\"\" # Import tqdm to see a progress bar\n",
    "from tqdm import tqdm\n",
    "\n",
    "# Get the column as a list\n",
    "importer_abroad = train_data[\"Importador Extranjero\"].tolist()\n",
    "# Remove duplicates\n",
    "importer_abroad = list(dict.fromkeys(importer_abroad))\n",
    "# Print number of different strings in the array\n",
    "print(len(importer_abroad))\n",
    "# Create the dictionary \n",
    "importer_abroad_map = {}\n",
    "\n",
    "for i,x in enumerate( tqdm(importer_abroad) ):\n",
    "    # If the importer is already inside a map, discard it, if not, proceed\n",
    "    if not(importer_abroad[i] in list(importer_abroad_map.values())):\n",
    "        # Create a key and and an array map including the key's value\n",
    "        importer_abroad_map[importer_abroad[i]] = [importer_abroad[i]]\n",
    "        # Iterate from the next row to the end\n",
    "        for c in range(i+1, len(importer_abroad)):\n",
    "            # Check the similarity between the values\n",
    "            similarity = Levenshtein.ratio(importer_abroad[i],importer_abroad[c])\n",
    "            # If similarity is more than 90% add the value to the map\n",
    "            if similarity>=0.9:\n",
    "                importer_abroad_map[importer_abroad[i]].append(importer_abroad[c]) \"\"\""
   ]
  },
  {
   "cell_type": "markdown",
   "metadata": {},
   "source": [
    "Save the created dictionary locally"
   ]
  },
  {
   "cell_type": "code",
   "execution_count": 27,
   "metadata": {},
   "outputs": [
    {
     "data": {
      "text/plain": [
       "\" map_csv = pd.DataFrame(columns = ['company_name', 'company_name_alternatives'])\\nmap_csv['company_name'] = list(importer_abroad_map.keys())\\nmap_csv['company_name_alternatives'] = list(importer_abroad_map.values())\\nmap_csv.to_csv('../data/importers_abroad_names_dictionary.csv', index=False)   \""
      ]
     },
     "execution_count": 27,
     "metadata": {},
     "output_type": "execute_result"
    }
   ],
   "source": [
    "# ONCE THE DICTIONARY IS CREATED AND SAVED IN A CSV FILE, WE WON´T NEED TO RUN THIS CELL AGAIN\n",
    "\n",
    "\"\"\" map_csv = pd.DataFrame(columns = ['company_name', 'company_name_alternatives'])\n",
    "map_csv['company_name'] = list(importer_abroad_map.keys())\n",
    "map_csv['company_name_alternatives'] = list(importer_abroad_map.values())\n",
    "map_csv.to_csv('../data/importers_abroad_names_dictionary.csv', index=False)   \"\"\""
   ]
  },
  {
   "cell_type": "markdown",
   "metadata": {},
   "source": [
    "Get the saved dictionary in the csv file into a dictionary in python"
   ]
  },
  {
   "cell_type": "code",
   "execution_count": 28,
   "metadata": {},
   "outputs": [
    {
     "data": {
      "text/plain": [
       "35324"
      ]
     },
     "execution_count": 28,
     "metadata": {},
     "output_type": "execute_result"
    }
   ],
   "source": [
    "from ast import literal_eval\n",
    "\n",
    "# Import the file\n",
    "temp = pd.read_csv(\"../data/importers_abroad_names_dictionary.csv\")\n",
    "# Create the dictionary\n",
    "importer_abroad_map = dict(zip(temp['company_name'].tolist(), temp['company_name_alternatives'].tolist()))\n",
    "# Transform the values to arrays (as they are imported as strings)\n",
    "for key, value in importer_abroad_map.items():\n",
    "    importer_abroad_map[key] = literal_eval(value)\n",
    "len(importer_abroad_map)"
   ]
  },
  {
   "cell_type": "markdown",
   "metadata": {},
   "source": [
    "Now clean the column by maping the values to the keys"
   ]
  },
  {
   "cell_type": "code",
   "execution_count": 29,
   "metadata": {},
   "outputs": [
    {
     "name": "stderr",
     "output_type": "stream",
     "text": [
      "100%|██████████| 505115/505115 [04:15<00:00, 1974.77it/s]\n"
     ]
    }
   ],
   "source": [
    "from tqdm import tqdm\n",
    "\n",
    "# Get the old importer abroad colum\n",
    "old_importer_abroad = train_data[\"Importador Extranjero\"].tolist()\n",
    "# Create a list to store \n",
    "new_importer_abroad = []\n",
    "for importer in tqdm(old_importer_abroad):\n",
    "    for key, value in importer_abroad_map.items():\n",
    "        if importer in value:\n",
    "            new_importer_abroad.append(key)\n",
    "            break\n"
   ]
  },
  {
   "cell_type": "code",
   "execution_count": 30,
   "metadata": {},
   "outputs": [
    {
     "name": "stderr",
     "output_type": "stream",
     "text": [
      "C:\\Users\\spost\\AppData\\Local\\Temp\\ipykernel_22248\\3532579991.py:1: SettingWithCopyWarning: \n",
      "A value is trying to be set on a copy of a slice from a DataFrame.\n",
      "Try using .loc[row_indexer,col_indexer] = value instead\n",
      "\n",
      "See the caveats in the documentation: https://pandas.pydata.org/pandas-docs/stable/user_guide/indexing.html#returning-a-view-versus-a-copy\n",
      "  train_data[\"Importador Extranjero\"] = new_importer_abroad\n"
     ]
    }
   ],
   "source": [
    "train_data[\"Importador Extranjero\"] = new_importer_abroad"
   ]
  },
  {
   "cell_type": "markdown",
   "metadata": {},
   "source": [
    "#### **Kg Neto (net weight in of good KG) and U$ FOB Tot (total price of good)**"
   ]
  },
  {
   "cell_type": "markdown",
   "metadata": {},
   "source": [
    "As we said before, here we will get the price by kg of the good. To do this we will use both columns and transform them into one."
   ]
  },
  {
   "cell_type": "code",
   "execution_count": 31,
   "metadata": {},
   "outputs": [
    {
     "name": "stdout",
     "output_type": "stream",
     "text": [
      "From 505115 rows there are 46 with weight = 0\n"
     ]
    },
    {
     "name": "stderr",
     "output_type": "stream",
     "text": [
      "C:\\Users\\spost\\AppData\\Local\\Temp\\ipykernel_22248\\585616846.py:3: SettingWithCopyWarning: \n",
      "A value is trying to be set on a copy of a slice from a DataFrame\n",
      "\n",
      "See the caveats in the documentation: https://pandas.pydata.org/pandas-docs/stable/user_guide/indexing.html#returning-a-view-versus-a-copy\n",
      "  train_data.drop(train_data[train_data[\"Kg Neto\"] == 0].index, inplace=True)\n",
      "C:\\Users\\spost\\AppData\\Local\\Temp\\ipykernel_22248\\585616846.py:11: SettingWithCopyWarning: \n",
      "A value is trying to be set on a copy of a slice from a DataFrame\n",
      "\n",
      "See the caveats in the documentation: https://pandas.pydata.org/pandas-docs/stable/user_guide/indexing.html#returning-a-view-versus-a-copy\n",
      "  train_data.drop(columns=[\"Kg Neto\", \"U$ FOB Tot\"], inplace=True)\n",
      "C:\\Users\\spost\\AppData\\Local\\Temp\\ipykernel_22248\\585616846.py:14: SettingWithCopyWarning: \n",
      "A value is trying to be set on a copy of a slice from a DataFrame.\n",
      "Try using .loc[row_indexer,col_indexer] = value instead\n",
      "\n",
      "See the caveats in the documentation: https://pandas.pydata.org/pandas-docs/stable/user_guide/indexing.html#returning-a-view-versus-a-copy\n",
      "  train_data[\"usd_kg\"]=price_by_kg\n"
     ]
    }
   ],
   "source": [
    "# First, drop rows were weight is 0\n",
    "print(\"From \"+ str(len(train_data)) + \" rows there are \"+str(len(train_data[train_data['Kg Neto']==0]))+\" with weight = 0\")\n",
    "train_data.drop(train_data[train_data[\"Kg Neto\"] == 0].index, inplace=True)\n",
    "\n",
    "# Then divide the price over weight\n",
    "weight = train_data['Kg Neto'].tolist()\n",
    "price = train_data['U$ FOB Tot'].tolist()\n",
    "price_by_kg = np.divide(price, weight)\n",
    "\n",
    "# Drop the used columns\n",
    "train_data.drop(columns=[\"Kg Neto\", \"U$ FOB Tot\"], inplace=True)\n",
    "\n",
    "# Add the new column and name it usd_kg\n",
    "train_data[\"usd_kg\"]=price_by_kg"
   ]
  },
  {
   "cell_type": "markdown",
   "metadata": {},
   "source": [
    "#### **País de destino (country of destiny)**"
   ]
  },
  {
   "cell_type": "code",
   "execution_count": 33,
   "metadata": {},
   "outputs": [
    {
     "data": {
      "text/plain": [
       "array(['Aguas Internacionales', 'Albania', 'Alemania', 'Arabia Saudita',\n",
       "       'Argelia', 'Argentina', 'Aruba', 'Australia', 'Austria', 'Bahamas',\n",
       "       'Bahréin', 'Barbados', 'Bielorrusia', 'Bolivia',\n",
       "       'Bosnia Y Herzegovina', 'Brasil', 'Bulgaria', 'Bélgica',\n",
       "       'Cabo Verde', 'Camboya', 'Camerún', 'Canadá', 'Chile', 'China',\n",
       "       'Chipre', 'Colombia', 'Corea Del Norte', 'Corea Del Sur',\n",
       "       'Costa De Marfil', 'Costa Rica', 'Croacia', 'Cuba', 'Curazao',\n",
       "       'Dinamarca', 'Ecuador', 'Egipto', 'El Salvador',\n",
       "       'Emiratos Árabes Unidos', 'Eslovenia', 'España', 'Estados Unidos',\n",
       "       'Estonia', 'Federación Rusa', 'Filipinas', 'Finlandia', 'Francia',\n",
       "       'Gabón', 'Georgia', 'Ghana', 'Grecia', 'Groenlandia', 'Guadalupe',\n",
       "       'Guatemala', 'Guayana Francesa', 'Haití', 'Honduras', 'Hong Kong',\n",
       "       'Hungría', 'India', 'Indonesia', 'Irak', 'Irlanda',\n",
       "       'Irán (República Islámica De)',\n",
       "       'Islas Ultramarinas Menores De Estados Unidos', 'Israel', 'Italia',\n",
       "       'Jamaica', 'Japón', 'Jordania', 'Kenia', 'Kiribati', 'Kuwait',\n",
       "       'Letonia', 'Libia', 'Lituania', 'Líbano', 'Macao', 'Malasia',\n",
       "       'Maldivas', 'Malta', 'Marruecos', 'Martinica', 'Mauricio',\n",
       "       'Montenegro', 'Mozambique', 'Myanmar', 'México', 'Nicaragua',\n",
       "       'Nigeria', 'Noruega', 'Nueva Caledonia', 'Nueva Zelanda', 'Omán',\n",
       "       'Pakistán', 'Panamá', 'Paraguay', 'Países Bajos', 'Polonia',\n",
       "       'Portugal', 'Puerto Rico', 'Qatar', 'Reino Unido',\n",
       "       'República Checa', 'República Dominicana', 'Reunión', 'Rumanía',\n",
       "       'Senegal', 'Serbia', 'Singapur', 'Sudáfrica', 'Sudán', 'Suecia',\n",
       "       'Suiza', 'Tailandia', 'Taiwán, Provincia De China', 'Togo',\n",
       "       'Tokelau', 'Trinidad Y Tobago', 'Turquía', 'Túnez', 'Ucrania',\n",
       "       'Uruguay', 'Venezuela', 'Vietnam', 'Zambia', 'Zona Franca Perú'],\n",
       "      dtype=object)"
      ]
     },
     "execution_count": 33,
     "metadata": {},
     "output_type": "execute_result"
    }
   ],
   "source": [
    "countries = train_data[\"Pais de Destino\"].unique()\n",
    "countries.sort()\n",
    "countries"
   ]
  },
  {
   "cell_type": "markdown",
   "metadata": {},
   "source": [
    "The column is correct, there is no need to clean it."
   ]
  },
  {
   "cell_type": "markdown",
   "metadata": {},
   "source": [
    "#### **Descripcion Comercial (comercial description)**"
   ]
  },
  {
   "cell_type": "markdown",
   "metadata": {},
   "source": [
    "As it will be shown below, there are values in this columns with repeated sentences inside"
   ]
  },
  {
   "cell_type": "code",
   "execution_count": 34,
   "metadata": {},
   "outputs": [
    {
     "data": {
      "text/plain": [
       "'UVAS FRESCAS EN CAJAS VARIEDAD: IFG ELEVEN COLD TREATMEN UVAS FRESCAS EN CAJAS VARIEDAD: IFG ELEVEN COLD TREATMEN UVAS FRESCAS EN CAJAS VARIEDAD: IFG ELEVEN COLD TREATMEN UVAS FRESCAS EN CAJAS VARIEDAD: IFG ELEVEN COLD TREATMEN UVAS FRESCAS EN CAJAS VARIEDAD: IFG ELEVEN COLD TREATMEN'"
      ]
     },
     "execution_count": 34,
     "metadata": {},
     "output_type": "execute_result"
    }
   ],
   "source": [
    "comercial_description = train_data[\"Descripcion Comercial\"].tolist()\n",
    "comercial_description[0]"
   ]
  },
  {
   "cell_type": "markdown",
   "metadata": {},
   "source": [
    "Let's clean this and more issues"
   ]
  },
  {
   "cell_type": "code",
   "execution_count": 66,
   "metadata": {},
   "outputs": [
    {
     "name": "stderr",
     "output_type": "stream",
     "text": [
      "100%|██████████| 505069/505069 [00:50<00:00, 9984.42it/s] \n",
      "C:\\Users\\spost\\AppData\\Local\\Temp\\ipykernel_22248\\4264741136.py:29: SettingWithCopyWarning: \n",
      "A value is trying to be set on a copy of a slice from a DataFrame.\n",
      "Try using .loc[row_indexer,col_indexer] = value instead\n",
      "\n",
      "See the caveats in the documentation: https://pandas.pydata.org/pandas-docs/stable/user_guide/indexing.html#returning-a-view-versus-a-copy\n",
      "  train_data[\"Descripcion Comercial\"] = new_comercial_description\n"
     ]
    },
    {
     "data": {
      "text/plain": [
       "'UVAS FRESCAS CAJAS VARIEDAD IFG ELEVEN COLD TREATMEN'"
      ]
     },
     "execution_count": 66,
     "metadata": {},
     "output_type": "execute_result"
    }
   ],
   "source": [
    "import re\n",
    "import unidecode\n",
    "\n",
    "\n",
    "# Function to remove repeated sentences inside a same string\n",
    "def get_unrepeated_string(source: str) -> str:\n",
    "    return re.match(r'^\\s*([\\w\\s!\"#$%&\\'()*+,-./:;<=>?@{|}~º°«»\\[\\]§y¨`¦´¤¿]+?)(?:\\s*\\1)*\\s*$', source)[1]\n",
    "\n",
    "new_comercial_description = []\n",
    "\n",
    "for description in tqdm(comercial_description):\n",
    "    # First remove all accents\n",
    "    new_description = unidecode.unidecode(description)\n",
    "    # Remove two or more consecutive spaces and set one\n",
    "    new_description= ' '.join(new_description.split())\n",
    "    # Remove stopwords\n",
    "    words = [word for word in new_description.split() if word.lower() not in sw_nltk ]\n",
    "    new_description = \" \".join(words)\n",
    "    # Additionally remove punctuations\n",
    "    tokenizer = nltk.RegexpTokenizer(r\"\\w+\")\n",
    "    words = tokenizer.tokenize(new_description)\n",
    "    new_description = \" \".join(words)\n",
    "    # Then remove the duplicated sentences\n",
    "    try:\n",
    "        new_comercial_description.append(get_unrepeated_string(new_description))\n",
    "    except:\n",
    "        print(new_description)\n",
    "\n",
    "train_data[\"Descripcion Comercial\"] = new_comercial_description\n",
    "new_comercial_description[0]"
   ]
  },
  {
   "cell_type": "markdown",
   "metadata": {},
   "source": [
    "#### **Categoría macro Aurum (categories) and Subcategoría inicial (subcategories)**"
   ]
  },
  {
   "cell_type": "markdown",
   "metadata": {},
   "source": [
    "This are the columns to predict"
   ]
  },
  {
   "cell_type": "code",
   "execution_count": 67,
   "metadata": {},
   "outputs": [
    {
     "data": {
      "text/html": [
       "<div>\n",
       "<style scoped>\n",
       "    .dataframe tbody tr th:only-of-type {\n",
       "        vertical-align: middle;\n",
       "    }\n",
       "\n",
       "    .dataframe tbody tr th {\n",
       "        vertical-align: top;\n",
       "    }\n",
       "\n",
       "    .dataframe thead th {\n",
       "        text-align: right;\n",
       "    }\n",
       "</style>\n",
       "<table border=\"1\" class=\"dataframe\">\n",
       "  <thead>\n",
       "    <tr style=\"text-align: right;\">\n",
       "      <th></th>\n",
       "      <th>Descripcion de la Partida Aduanera</th>\n",
       "      <th>Aduana</th>\n",
       "      <th>Fecha</th>\n",
       "      <th>Cod. Tributario</th>\n",
       "      <th>Importador Extranjero</th>\n",
       "      <th>Pais de Destino</th>\n",
       "      <th>Descripcion Comercial</th>\n",
       "      <th>Categoría macro Aurum</th>\n",
       "      <th>Subcategoría inicial</th>\n",
       "      <th>usd_kg</th>\n",
       "    </tr>\n",
       "  </thead>\n",
       "  <tbody>\n",
       "    <tr>\n",
       "      <th>541490</th>\n",
       "      <td>UVAS FRESCAS</td>\n",
       "      <td>PAITA</td>\n",
       "      <td>1</td>\n",
       "      <td>20100227542</td>\n",
       "      <td>No identificado</td>\n",
       "      <td>Estados Unidos</td>\n",
       "      <td>UVAS FRESCAS CAJAS VARIEDAD IFG ELEVEN COLD TR...</td>\n",
       "      <td>Uva</td>\n",
       "      <td>Uvas Sugar Crisp</td>\n",
       "      <td>2.439024</td>\n",
       "    </tr>\n",
       "    <tr>\n",
       "      <th>102488</th>\n",
       "      <td>CEBOLLAS CHALOTES FRESCOS REFRIGERADOS</td>\n",
       "      <td>TUMBES</td>\n",
       "      <td>10</td>\n",
       "      <td>20409444866</td>\n",
       "      <td>No identificado</td>\n",
       "      <td>Colombia</td>\n",
       "      <td>CEBOLLAS FRESCASEN SACOS 46 KGPARA COMERCIALIZ...</td>\n",
       "      <td>Cebolla</td>\n",
       "      <td>Cebolla Fresca</td>\n",
       "      <td>0.150010</td>\n",
       "    </tr>\n",
       "    <tr>\n",
       "      <th>201853</th>\n",
       "      <td>ESPARRAGOS FRESCOS REFRIGERADOS</td>\n",
       "      <td>AEREA DEL CALLAO</td>\n",
       "      <td>1</td>\n",
       "      <td>20279143222</td>\n",
       "      <td>Consolidated Farms Inc Dba Crystal Valley Foods</td>\n",
       "      <td>Estados Unidos</td>\n",
       "      <td>ESPARRAGOS FRESCOS CODIGO No13 RESTITUCION DER...</td>\n",
       "      <td>Espárrago</td>\n",
       "      <td>Espárrago Fresco</td>\n",
       "      <td>4.267073</td>\n",
       "    </tr>\n",
       "    <tr>\n",
       "      <th>215653</th>\n",
       "      <td>ESPARRAGOS FRESCOS REFRIGERADOS</td>\n",
       "      <td>AEREA DEL CALLAO</td>\n",
       "      <td>12</td>\n",
       "      <td>20297939131</td>\n",
       "      <td>Alpine Fresh</td>\n",
       "      <td>Estados Unidos</td>\n",
       "      <td>ESPARRAGOS FRESCOS CAJAS DRAWBACK</td>\n",
       "      <td>Espárrago</td>\n",
       "      <td>Espárrago Fresco</td>\n",
       "      <td>1.089870</td>\n",
       "    </tr>\n",
       "    <tr>\n",
       "      <th>312016</th>\n",
       "      <td>DEMÁS CLEMENTINAS</td>\n",
       "      <td>MARITIMA DEL CALLAO</td>\n",
       "      <td>8</td>\n",
       "      <td>20501923428</td>\n",
       "      <td>No identificado</td>\n",
       "      <td>Estados Unidos</td>\n",
       "      <td>MANDARINAS FRESCAS TANGO COLD TREATMENT EXPORT...</td>\n",
       "      <td>Mandarina</td>\n",
       "      <td>Mandarinas Frescas Tango</td>\n",
       "      <td>1.529545</td>\n",
       "    </tr>\n",
       "    <tr>\n",
       "      <th>...</th>\n",
       "      <td>...</td>\n",
       "      <td>...</td>\n",
       "      <td>...</td>\n",
       "      <td>...</td>\n",
       "      <td>...</td>\n",
       "      <td>...</td>\n",
       "      <td>...</td>\n",
       "      <td>...</td>\n",
       "      <td>...</td>\n",
       "      <td>...</td>\n",
       "    </tr>\n",
       "    <tr>\n",
       "      <th>558088</th>\n",
       "      <td>UVAS FRESCAS</td>\n",
       "      <td>PISCO</td>\n",
       "      <td>12</td>\n",
       "      <td>20602872760</td>\n",
       "      <td>Vanguard Direct Llc5080 California Avenue. Sui...</td>\n",
       "      <td>Estados Unidos</td>\n",
       "      <td>UVAS FRESCAS VARIEDAD SWEET GLOBE CONDICION CO...</td>\n",
       "      <td>Uva</td>\n",
       "      <td>Uvas Sweet Globe</td>\n",
       "      <td>0.085366</td>\n",
       "    </tr>\n",
       "    <tr>\n",
       "      <th>124605</th>\n",
       "      <td>CEBOLLAS CHALOTES FRESCOS REFRIGERADOS</td>\n",
       "      <td>TUMBES</td>\n",
       "      <td>4</td>\n",
       "      <td>20606258535</td>\n",
       "      <td>No identificado</td>\n",
       "      <td>Colombia</td>\n",
       "      <td>CEBOLLA FRESCA ROJAEMBALADA SACOS 653 SACOS 46...</td>\n",
       "      <td>Cebolla</td>\n",
       "      <td>Cebolla Fresca Roja</td>\n",
       "      <td>0.283308</td>\n",
       "    </tr>\n",
       "    <tr>\n",
       "      <th>544751</th>\n",
       "      <td>UVAS FRESCAS</td>\n",
       "      <td>PISCO</td>\n",
       "      <td>1</td>\n",
       "      <td>20562740814</td>\n",
       "      <td>Masterfruits - Comercio De Frutas.</td>\n",
       "      <td>Portugal</td>\n",
       "      <td>UVAS FRESCAS CAJAS VARIEDAD SUGRAONE COLD TREA...</td>\n",
       "      <td>Uva</td>\n",
       "      <td>Uvas Sugraone</td>\n",
       "      <td>0.975610</td>\n",
       "    </tr>\n",
       "    <tr>\n",
       "      <th>18638</th>\n",
       "      <td>ARANDANOS MURTONES DEMAS FRUTOS GENERO VACCINI...</td>\n",
       "      <td>SALAVERRY</td>\n",
       "      <td>10</td>\n",
       "      <td>20559912353</td>\n",
       "      <td>Natures Pride B.V.</td>\n",
       "      <td>Países Bajos</td>\n",
       "      <td>ARANDANO FRESCO CAJAS ACOGE DRAWBACK</td>\n",
       "      <td>Arándano</td>\n",
       "      <td>Arándanos Frescos Sin Variedad</td>\n",
       "      <td>4.793833</td>\n",
       "    </tr>\n",
       "    <tr>\n",
       "      <th>297827</th>\n",
       "      <td>MANDARINAS INCLUIDAS TANGERINAS SATSUMAS FRESC...</td>\n",
       "      <td>MARITIMA DEL CALLAO</td>\n",
       "      <td>6</td>\n",
       "      <td>20522308880</td>\n",
       "      <td>Pacific Produce Ltd.The Threshing Barn North W...</td>\n",
       "      <td>Reino Unido</td>\n",
       "      <td>MANDARINA FRESCA VARIEDAD SATSUMA CAJAS 15 KG ...</td>\n",
       "      <td>Mandarina</td>\n",
       "      <td>Mandarinas Frescas Satsuma</td>\n",
       "      <td>1.211813</td>\n",
       "    </tr>\n",
       "  </tbody>\n",
       "</table>\n",
       "<p>505069 rows × 10 columns</p>\n",
       "</div>"
      ],
      "text/plain": [
       "                       Descripcion de la Partida Aduanera  \\\n",
       "541490                                       UVAS FRESCAS   \n",
       "102488             CEBOLLAS CHALOTES FRESCOS REFRIGERADOS   \n",
       "201853                    ESPARRAGOS FRESCOS REFRIGERADOS   \n",
       "215653                    ESPARRAGOS FRESCOS REFRIGERADOS   \n",
       "312016                                  DEMÁS CLEMENTINAS   \n",
       "...                                                   ...   \n",
       "558088                                       UVAS FRESCAS   \n",
       "124605             CEBOLLAS CHALOTES FRESCOS REFRIGERADOS   \n",
       "544751                                       UVAS FRESCAS   \n",
       "18638   ARANDANOS MURTONES DEMAS FRUTOS GENERO VACCINI...   \n",
       "297827  MANDARINAS INCLUIDAS TANGERINAS SATSUMAS FRESC...   \n",
       "\n",
       "                     Aduana  Fecha Cod. Tributario  \\\n",
       "541490                PAITA      1     20100227542   \n",
       "102488               TUMBES     10     20409444866   \n",
       "201853     AEREA DEL CALLAO      1     20279143222   \n",
       "215653     AEREA DEL CALLAO     12     20297939131   \n",
       "312016  MARITIMA DEL CALLAO      8     20501923428   \n",
       "...                     ...    ...             ...   \n",
       "558088                PISCO     12     20602872760   \n",
       "124605               TUMBES      4     20606258535   \n",
       "544751                PISCO      1     20562740814   \n",
       "18638             SALAVERRY     10     20559912353   \n",
       "297827  MARITIMA DEL CALLAO      6     20522308880   \n",
       "\n",
       "                                    Importador Extranjero Pais de Destino  \\\n",
       "541490                                    No identificado  Estados Unidos   \n",
       "102488                                    No identificado        Colombia   \n",
       "201853    Consolidated Farms Inc Dba Crystal Valley Foods  Estados Unidos   \n",
       "215653                                       Alpine Fresh  Estados Unidos   \n",
       "312016                                    No identificado  Estados Unidos   \n",
       "...                                                   ...             ...   \n",
       "558088  Vanguard Direct Llc5080 California Avenue. Sui...  Estados Unidos   \n",
       "124605                                    No identificado        Colombia   \n",
       "544751                 Masterfruits - Comercio De Frutas.        Portugal   \n",
       "18638                                  Natures Pride B.V.    Países Bajos   \n",
       "297827  Pacific Produce Ltd.The Threshing Barn North W...     Reino Unido   \n",
       "\n",
       "                                    Descripcion Comercial  \\\n",
       "541490  UVAS FRESCAS CAJAS VARIEDAD IFG ELEVEN COLD TR...   \n",
       "102488  CEBOLLAS FRESCASEN SACOS 46 KGPARA COMERCIALIZ...   \n",
       "201853  ESPARRAGOS FRESCOS CODIGO No13 RESTITUCION DER...   \n",
       "215653                  ESPARRAGOS FRESCOS CAJAS DRAWBACK   \n",
       "312016  MANDARINAS FRESCAS TANGO COLD TREATMENT EXPORT...   \n",
       "...                                                   ...   \n",
       "558088  UVAS FRESCAS VARIEDAD SWEET GLOBE CONDICION CO...   \n",
       "124605  CEBOLLA FRESCA ROJAEMBALADA SACOS 653 SACOS 46...   \n",
       "544751  UVAS FRESCAS CAJAS VARIEDAD SUGRAONE COLD TREA...   \n",
       "18638                ARANDANO FRESCO CAJAS ACOGE DRAWBACK   \n",
       "297827  MANDARINA FRESCA VARIEDAD SATSUMA CAJAS 15 KG ...   \n",
       "\n",
       "       Categoría macro Aurum            Subcategoría inicial    usd_kg  \n",
       "541490                   Uva                Uvas Sugar Crisp  2.439024  \n",
       "102488               Cebolla                  Cebolla Fresca  0.150010  \n",
       "201853             Espárrago                Espárrago Fresco  4.267073  \n",
       "215653             Espárrago                Espárrago Fresco  1.089870  \n",
       "312016             Mandarina        Mandarinas Frescas Tango  1.529545  \n",
       "...                      ...                             ...       ...  \n",
       "558088                   Uva                Uvas Sweet Globe  0.085366  \n",
       "124605               Cebolla             Cebolla Fresca Roja  0.283308  \n",
       "544751                   Uva                   Uvas Sugraone  0.975610  \n",
       "18638               Arándano  Arándanos Frescos Sin Variedad  4.793833  \n",
       "297827             Mandarina      Mandarinas Frescas Satsuma  1.211813  \n",
       "\n",
       "[505069 rows x 10 columns]"
      ]
     },
     "execution_count": 67,
     "metadata": {},
     "output_type": "execute_result"
    }
   ],
   "source": [
    "train_data"
   ]
  },
  {
   "cell_type": "markdown",
   "metadata": {},
   "source": [
    "## **5. Data Preprocessing**"
   ]
  },
  {
   "cell_type": "markdown",
   "metadata": {},
   "source": [
    "In this stage we will preprocess the data to be used in a classification model. As seen in the table below, we are dealing with a Multi-Class Text Classification problem, since we have may columns including strings. "
   ]
  }
 ],
 "metadata": {
  "kernelspec": {
   "display_name": "Python 3.10.0 ('ml_project')",
   "language": "python",
   "name": "python3"
  },
  "language_info": {
   "codemirror_mode": {
    "name": "ipython",
    "version": 3
   },
   "file_extension": ".py",
   "mimetype": "text/x-python",
   "name": "python",
   "nbconvert_exporter": "python",
   "pygments_lexer": "ipython3",
   "version": "3.10.0"
  },
  "orig_nbformat": 4,
  "vscode": {
   "interpreter": {
    "hash": "7741a1131fbe9bf5a0f5d7457e8f9d1e7d381e789d9a050b2713f6d313501fbc"
   }
  }
 },
 "nbformat": 4,
 "nbformat_minor": 2
}
