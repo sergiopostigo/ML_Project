{
 "cells": [
  {
   "cell_type": "markdown",
   "metadata": {
    "pycharm": {
     "name": "#%% md\n"
    }
   },
   "source": [
    "# **Agricultural Exports Categories Analysis**\n",
    "*by Sergio Postigo and Víctor Diví*"
   ]
  },
  {
   "cell_type": "markdown",
   "metadata": {
    "pycharm": {
     "name": "#%% md\n"
    }
   },
   "source": [
    "## **1. Introduction**\n",
    "Many countries base a big portion of their economies in foreign trade. Therefore, the customs agencies around the world collect data about every imported/exported good that passed across their ports, airports, borders, etc. In some countries, this data is open, and anyone can access to it to analyze it and make more informed decisions while importing or exporting goods. However, this data demands some challenges before its use. One of them is the labelling. For example, in Peru every time a good is imported/exported, a customs agent fills a form with the information of the product(s), where they include descriptions about it. Nonetheless, there isn´t a proper labelling, for instance in case we wanted to aggregate amounts imported/exported by category.\n",
    "\n",
    "The labelling for goods is done manually mainly by consultancy agencies, who get this data to generate analytics reports for companies and institutions interested in foreign trade information of specific products. They usually use MS Excel spreadsheets to perform the labeling, which is not efficient and takes much time. We want to address this pain by automatizing the labelling process using Machine Learning."
   ]
  },
  {
   "cell_type": "markdown",
   "metadata": {
    "pycharm": {
     "name": "#%% md\n"
    }
   },
   "source": [
    "## **2. Data Wrangling**\n",
    "The data was provided from a consultancy company in Peru called RTM. They were hired by an agricultural export company who were interested in knowing which categories of products were exported from Peru from 2017 till 2021. RTM acquired the data from the company Veritrade, who consolidate foreign trade databases from many countries in South America.\n",
    "\n",
    "RTM provided us the data in .xlsx format. We converted it into CSV (using Excel) and then proceed to import it into this notebook as DataFrame with the Pandas library. "
   ]
  },
  {
   "cell_type": "code",
   "execution_count": null,
   "metadata": {
    "pycharm": {
     "name": "#%%\n"
    }
   },
   "outputs": [],
   "source": [
    "import pandas as pd"
   ]
  },
  {
   "cell_type": "code",
   "execution_count": null,
   "metadata": {
    "pycharm": {
     "name": "#%%\n"
    }
   },
   "outputs": [],
   "source": [
    "data = pd.read_csv(\"../data/raw_data/data.csv\", encoding='latin-1', sep=';')\n",
    "data.head()"
   ]
  },
  {
   "cell_type": "markdown",
   "metadata": {
    "pycharm": {
     "name": "#%% md\n"
    }
   },
   "source": [
    "## **3. Exploratory Data Analysis**"
   ]
  },
  {
   "cell_type": "markdown",
   "metadata": {
    "pycharm": {
     "name": "#%% md\n"
    }
   },
   "source": [
    "Let's first describe the columns of the table"
   ]
  },
  {
   "cell_type": "code",
   "execution_count": null,
   "outputs": [],
   "source": [
    "# Get all the columns\n",
    "data.columns"
   ],
   "metadata": {
    "collapsed": false,
    "pycharm": {
     "name": "#%%\n"
    }
   }
  },
  {
   "cell_type": "markdown",
   "source": [
    "1. Partida Aduanera: Specific code of a product included in the Harmonized System of the World Customs Organization (WCO)\n",
    "\n",
    "2. Descripcion de la Partida Aduanera: Description about the product associated with the customs code\n",
    "\n",
    "3. Aduana: Customs office from which the export was performed\n",
    "\n",
    "4. DUA:  Single Administrative Document, it is a document that gathers information about the shipping\n",
    "\n",
    "5. Fecha: Shipping date\n",
    "\n",
    "6. Año: Shipping year\n",
    "\n",
    "7. Cod. Tributario: Tax code of the company exporting the good\n",
    "\n",
    "8. Exportador en Perú: Company or entity exporting the good\n",
    "\n",
    "9. Importador Extranjero: Company or entity importing the good\n",
    "\n",
    "10. Kg Bruto: Weight of the good in kg, including the weight of the container or box\n",
    "\n",
    "11. Kg Neto: Weight of good in kg, excluding the weight of the container or box\n",
    "\n",
    "12. Toneladas Netas: Weight of good in tons, excluding the weight of the container or box\n",
    "\n",
    "13. Qty 1: Quantity of the good in terms of a specific measurement unit (1)\n",
    "\n",
    "14. Und 1: Unit of measurement (1)\n",
    "\n",
    "15. Qty 2: Quantity of the good in terms of a specific measurement unit (2)\n",
    "\n",
    "16. Und 2:  Unit of measurement (2)\n",
    "\n",
    "17. US FOB Tot: The value of the goods at the exporter's customs frontier in USD\n",
    "\n",
    "18. Miles de USD Fob TOTAL: The value of the goods at the exporter's customs frontier in thousands of USD\n",
    "\n",
    "19. US FOB Und 1: The value of the goods by unity (1)\n",
    "\n",
    "20. US FOB Und 2: The value of the goods by unity (2)\n",
    "\n",
    "21. Pais de Destino: Country of destiny\n",
    "\n",
    "22. Puerto de destino: Port of destiny\n",
    "\n",
    "23. Último Puerto Embarque: Last port of shipment\n",
    "\n",
    "24. Via: Via (air, see, maritime)\n",
    "\n",
    "25. Agente Portuario: Port agent\n",
    "\n",
    "26. Agente de Aduana: Customs agent\n",
    "\n",
    "27. Descripcion Comercial: Commercial description of the good\n",
    "\n",
    "28. Descripcion1: Commercial description portion 1\n",
    "\n",
    "29. Descripcion2: Commercial description portion 2\n",
    "\n",
    "30. Descripcion3: Commercial description portion 3\n",
    "\n",
    "31. Descripcion4: Commercial description portion 4\n",
    "\n",
    "32. Descripcion5: Commercial description portion 5\n",
    "\n",
    "33. Naviera: Shipping company\n",
    "\n",
    "34. Agente Carga(Origen): Load Agent (origin)\n",
    "\n",
    "35. Agente Carga(Destino): Load Agent (destiny)\n",
    "\n",
    "36. Canal: Selectivity channel. Type of control that the Customs Service will carry out on the merchandise to be exported. There are three channels: Green, Orange and Red\n",
    "\n",
    "37. Concatenar: Column that concatenates 27, 28, 29, 30, 31, 32\n",
    "\n",
    "38. Categoría macro Aurum: Designated category/label\n",
    "\n",
    "39. Subcategoría inicial: Designated subcategories/sub-labels\n",
    "\n",
    "40. Subcategoría Consolidada Aurum:  Designated subcategories/sub-labels (with less granularity, it groups some sub-categories in \"others\")\n",
    "\n",
    "41. Categoría Consolidada Aurum: Designated category/label (with less granularity, it groups some categories in \"others\")"
   ],
   "metadata": {
    "collapsed": false,
    "pycharm": {
     "name": "#%% md\n"
    }
   }
  },
  {
   "cell_type": "markdown",
   "source": [
    "#### **Remark 1:**"
   ],
   "metadata": {
    "collapsed": false,
    "pycharm": {
     "name": "#%% md\n"
    }
   }
  },
  {
   "cell_type": "markdown",
   "source": [
    "All posible categories all labeled in *Categoria macro Aurum* and all possible subcategories are labelled in *Subcategoria inicial*. Aurum grouped some categories in *Categoria consolidada Aurum* as \"others\" and did the same in *Subcategoría Consolidada Aurum* for the subcategories. This last two columns were very likely a requirement from their client. He may have been interested specially in a list of categories and the rest were simply labeled as \"others\". However, what is from interest from us are the columns with all the categories and all the subcategories (*Categoria macro Aurum* and *Subcategoria inicial*). <br>"
   ],
   "metadata": {
    "collapsed": false,
    "pycharm": {
     "name": "#%% md\n"
    }
   }
  },
  {
   "cell_type": "markdown",
   "source": [
    "Let's analyze the distribution of the label columns: *Categoria macro Aurum* and *Subcategria inicial*"
   ],
   "metadata": {
    "collapsed": false,
    "pycharm": {
     "name": "#%% md\n"
    }
   }
  },
  {
   "cell_type": "markdown",
   "source": [
    "Check count of appearances of each class"
   ],
   "metadata": {
    "collapsed": false,
    "pycharm": {
     "name": "#%% md\n"
    }
   }
  },
  {
   "cell_type": "code",
   "execution_count": null,
   "outputs": [],
   "source": [
    "data['Categoría macro Aurum'].value_counts()"
   ],
   "metadata": {
    "collapsed": false,
    "pycharm": {
     "name": "#%%\n"
    }
   }
  },
  {
   "cell_type": "code",
   "execution_count": null,
   "outputs": [],
   "source": [
    "data['Subcategoría inicial'].value_counts()"
   ],
   "metadata": {
    "collapsed": false,
    "pycharm": {
     "name": "#%%\n"
    }
   }
  },
  {
   "cell_type": "markdown",
   "source": [
    "As seen, there is an important class imbalance. Let's show this as a histogram"
   ],
   "metadata": {
    "collapsed": false,
    "pycharm": {
     "name": "#%% md\n"
    }
   }
  },
  {
   "cell_type": "code",
   "execution_count": null,
   "outputs": [],
   "source": [
    "data['Categoría macro Aurum'].value_counts().plot(kind='bar')"
   ],
   "metadata": {
    "collapsed": false,
    "pycharm": {
     "name": "#%%\n"
    }
   }
  },
  {
   "cell_type": "code",
   "execution_count": null,
   "outputs": [],
   "source": [
    "data['Subcategoría inicial'].value_counts().plot(kind='bar')"
   ],
   "metadata": {
    "collapsed": false,
    "pycharm": {
     "name": "#%%\n"
    }
   }
  },
  {
   "cell_type": "markdown",
   "source": [
    "We can see that both columns have a big imbalance, and that the subcategory column has a lot of labels with very few rows. Most of these subcategories come from varieties of the same product and combinations of these varieties. For example, see the number of different subcategories that are subcategories of blueberries"
   ],
   "metadata": {
    "collapsed": false,
    "pycharm": {
     "name": "#%% md\n"
    }
   }
  },
  {
   "cell_type": "code",
   "execution_count": null,
   "outputs": [],
   "source": [
    "data[data['Subcategoría inicial'].str.contains('Arándanos')]['Subcategoría inicial'].value_counts()"
   ],
   "metadata": {
    "collapsed": false,
    "pycharm": {
     "name": "#%%\n"
    }
   }
  },
  {
   "cell_type": "markdown",
   "source": [
    "Since this is likely to happen with more categories, we will keep **Categoría macro Aurum** as the target class we want to predict.\n",
    "Besides, having 34 classes is more than enough, if we chose the subcategory, we would be dealing with more than 600 classes, and obtaining a decent classifier would be unrealistic."
   ],
   "metadata": {
    "collapsed": false,
    "pycharm": {
     "name": "#%% md\n"
    }
   }
  },
  {
   "cell_type": "markdown",
   "source": [
    "#### **Remark 2:**"
   ],
   "metadata": {
    "collapsed": false,
    "pycharm": {
     "name": "#%% md\n"
    }
   }
  },
  {
   "cell_type": "markdown",
   "source": [
    " *Descripcion1*, *Descripcion2*, *Descripcion3*, *Descripcion4* and *Descripcion5* concatenated build *Descripcion Comercial*"
   ],
   "metadata": {
    "collapsed": false,
    "pycharm": {
     "name": "#%% md\n"
    }
   }
  },
  {
   "cell_type": "code",
   "execution_count": null,
   "outputs": [],
   "source": [
    "descriptions = data[[\n",
    "    'Descripcion Comercial',\n",
    "    'Descripcion1',\n",
    "    'Descripcion2',\n",
    "    'Descripcion3',\n",
    "    'Descripcion4',\n",
    "    'Descripcion5'\n",
    "]].copy()\n",
    "descriptions"
   ],
   "metadata": {
    "collapsed": false,
    "pycharm": {
     "name": "#%%\n"
    }
   }
  },
  {
   "cell_type": "code",
   "execution_count": null,
   "outputs": [],
   "source": [
    "\n",
    "descriptions.fillna('', inplace=True)\n",
    "\n",
    "descriptions['Concatenated_Descriptions'] = descriptions['Descripcion1'] + ' ' + descriptions['Descripcion2'] + ' ' + \\\n",
    "                                            descriptions['Descripcion3'] + ' ' + descriptions['Descripcion4'] + ' ' + \\\n",
    "                                            descriptions['Descripcion5']\n",
    "\n",
    "descriptions['Concatenated_Descriptions'] = descriptions['Concatenated_Descriptions'].str.strip()\n",
    "descriptions['Equal?'] = descriptions['Descripcion Comercial'] == descriptions['Concatenated_Descriptions']\n",
    "\n",
    "descriptions[['Descripcion Comercial', 'Concatenated_Descriptions', 'Equal?']]"
   ],
   "metadata": {
    "collapsed": false,
    "pycharm": {
     "name": "#%%\n"
    }
   }
  },
  {
   "cell_type": "code",
   "execution_count": null,
   "outputs": [],
   "source": [
    "descriptions['Equal?'].value_counts()"
   ],
   "metadata": {
    "collapsed": false,
    "pycharm": {
     "name": "#%%\n"
    }
   }
  },
  {
   "cell_type": "code",
   "execution_count": null,
   "outputs": [],
   "source": [
    "descriptions[descriptions['Equal?'] == False]"
   ],
   "metadata": {
    "collapsed": false,
    "pycharm": {
     "name": "#%%\n"
    }
   }
  },
  {
   "cell_type": "markdown",
   "source": [
    "Let's check what happens in a row where *Equal?* is false"
   ],
   "metadata": {
    "collapsed": false,
    "pycharm": {
     "name": "#%% md\n"
    }
   }
  },
  {
   "cell_type": "code",
   "execution_count": null,
   "outputs": [],
   "source": [
    "index = descriptions[descriptions['Equal?'] == False].index[0]\n",
    "print(descriptions.iloc[index]['Descripcion Comercial'])\n",
    "print(descriptions.iloc[index]['Concatenated_Descriptions'])"
   ],
   "metadata": {
    "collapsed": false,
    "pycharm": {
     "name": "#%%\n"
    }
   }
  },
  {
   "cell_type": "markdown",
   "source": [
    "It seems that when trimming the column *Descripcion Comercial* into *Description* 1,2,3,4 and 5, Veritrade removed some characters, in this case some white spaces.\n",
    "That is why when we reconstruct the *Concatenated_Descriptions* from *Description* 1,2,3,4 and 5 we don't get the exactly same string as in *Descripcion Comercial*.\n",
    "In fact, let's check how many are different if we remove all whitespaces"
   ],
   "metadata": {
    "collapsed": false,
    "pycharm": {
     "name": "#%% md\n"
    }
   }
  },
  {
   "cell_type": "code",
   "execution_count": null,
   "outputs": [],
   "source": [
    "descriptions['Concatenated_Descriptions_no_ws'] = descriptions['Concatenated_Descriptions'].str.replace(' ', '')\n",
    "descriptions['Descripcion Comercial_no_ws'] = descriptions['Descripcion Comercial'].str.replace(' ', '')\n",
    "descriptions['Equal_no_ws'] = descriptions['Descripcion Comercial_no_ws'] == descriptions[\n",
    "    'Concatenated_Descriptions_no_ws']\n",
    "descriptions['Equal_no_ws'].value_counts()"
   ],
   "metadata": {
    "collapsed": false,
    "pycharm": {
     "name": "#%%\n"
    }
   }
  },
  {
   "cell_type": "code",
   "execution_count": null,
   "outputs": [],
   "source": [
    "index = descriptions[descriptions['Equal_no_ws'] == False].index[4]\n",
    "print(descriptions.iloc[index]['Descripcion Comercial'])\n",
    "print(descriptions.iloc[index]['Concatenated_Descriptions'])"
   ],
   "metadata": {
    "collapsed": false,
    "pycharm": {
     "name": "#%%\n"
    }
   }
  },
  {
   "cell_type": "markdown",
   "source": [
    "Additionally, we can make an additional remark here: *Descripcion Comercial* has repeated sentences in its values, as is showed in the example below, likely due to different description fields containing the same. This will have to be cleaned."
   ],
   "metadata": {
    "collapsed": false,
    "pycharm": {
     "name": "#%% md\n"
    }
   }
  },
  {
   "cell_type": "code",
   "execution_count": null,
   "outputs": [],
   "source": [
    "index = descriptions[descriptions['Descripcion1'] == descriptions['Descripcion2']].index[0]\n",
    "descriptions.iloc[index]"
   ],
   "metadata": {
    "collapsed": false,
    "pycharm": {
     "name": "#%%\n"
    }
   }
  },
  {
   "cell_type": "markdown",
   "source": [
    "#### **Remark 3:**"
   ],
   "metadata": {
    "collapsed": false,
    "pycharm": {
     "name": "#%% md\n"
    }
   }
  },
  {
   "cell_type": "markdown",
   "source": [
    "The column *Concatenar* concatenates *Descripcion Comercial* and *Descripcion1*, *2,3,4* and *5*. Thus, it basically has a concatenation of two times the string from *Descripcion Comercial*. It seems that the consultants didn't know that *Descripcion1*, *2,3,4* and *5* are trims of *Descripcion Comercial*. Maybe they thought this extra columns contained additional information and that is why they decided to concatenate everything in the \"Concatenar\" column to then process the information from here."
   ],
   "metadata": {
    "collapsed": false,
    "pycharm": {
     "name": "#%% md\n"
    }
   }
  },
  {
   "cell_type": "markdown",
   "source": [
    "#### **Remark 4:**"
   ],
   "metadata": {
    "collapsed": false,
    "pycharm": {
     "name": "#%% md\n"
    }
   }
  },
  {
   "cell_type": "markdown",
   "source": [
    "For each *Partida aduanera* there is only one possible *Descripcion de la partida aduanera*."
   ],
   "metadata": {
    "collapsed": false,
    "pycharm": {
     "name": "#%% md\n"
    }
   }
  },
  {
   "cell_type": "code",
   "execution_count": null,
   "outputs": [],
   "source": [
    "# Create a temporal dataframe \n",
    "descriptions = data[[\"Partida Aduanera\", \"Descripcion de la Partida Aduanera\"]].copy()\n",
    "# Remove duplicated rows\n",
    "descriptions.drop_duplicates(inplace=True)\n",
    "# Get the number of rows\n",
    "print(\n",
    "    \"The number of all combinations of the columns *Partida Aduanera* and *Descripcion de la Partida Aduanera* are \" + str(\n",
    "        descriptions.shape[0]))\n",
    "# Get the number of unique values of *Partida Aduanera*\n",
    "print(\"The number of unique values of the column *Partida Aduanera* is \" + str(\n",
    "    descriptions['Partida Aduanera'].nunique()))\n",
    "# Get the number of unique values of *Descripcion de la Partida Aduanera*\n",
    "print(\"The number of unique values of the column *Descripcion de la Partida Aduanera* is \" + str(\n",
    "    descriptions['Descripcion de la Partida Aduanera'].nunique()))\n",
    "descriptions"
   ],
   "metadata": {
    "collapsed": false,
    "pycharm": {
     "name": "#%%\n"
    }
   }
  },
  {
   "cell_type": "markdown",
   "source": [
    "There are some values of *Descripcion de la partida aduanera* that correspond to multiple values of *Partida Aduanera*"
   ],
   "metadata": {
    "collapsed": false,
    "pycharm": {
     "name": "#%% md\n"
    }
   }
  },
  {
   "cell_type": "code",
   "execution_count": null,
   "outputs": [],
   "source": [
    "# Get the values of *Descripcion de la Partida Aduanera* that are related to multiple values of *Partida Aduanera*\n",
    "descriptions[descriptions.duplicated(['Descripcion de la Partida Aduanera'], keep=False)].sort_values(\n",
    "    by=['Descripcion de la Partida Aduanera'])"
   ],
   "metadata": {
    "collapsed": false,
    "pycharm": {
     "name": "#%%\n"
    }
   }
  },
  {
   "cell_type": "markdown",
   "source": [
    "This is very likely an error in the customs agency systems, we will have to deal with it"
   ],
   "metadata": {
    "collapsed": false,
    "pycharm": {
     "name": "#%% md\n"
    }
   }
  },
  {
   "cell_type": "markdown",
   "source": [
    "#### **Remark 5:**"
   ],
   "metadata": {
    "collapsed": false,
    "pycharm": {
     "name": "#%% md\n"
    }
   }
  },
  {
   "cell_type": "markdown",
   "source": [
    "Since we are dealing with agricultural items, we can presume that there is a seasonal influence in the dates in which they are exported. Let's test this assumption"
   ],
   "metadata": {
    "collapsed": false,
    "pycharm": {
     "name": "#%% md\n"
    }
   }
  },
  {
   "cell_type": "markdown",
   "source": [
    "We will compare the *Partida aduanera* with the date column names *Fecha*"
   ],
   "metadata": {
    "collapsed": false,
    "pycharm": {
     "name": "#%% md\n"
    }
   }
  },
  {
   "cell_type": "code",
   "execution_count": null,
   "outputs": [],
   "source": [
    "# Get the columns *Partida Aduanera* and *Fecha*\n",
    "descriptions = data[[\"Partida Aduanera\", \"Fecha\"]].copy()\n",
    "# Cast the column of date (*Fecha*) to datetime\n",
    "descriptions['Fecha'] = pd.to_datetime(descriptions['Fecha'], format='%d/%m/%Y')\n",
    "# Count the exports by date\n",
    "descriptions['Count of exports'] = descriptions.groupby(['Partida Aduanera', 'Fecha'])['Fecha'].transform('count')\n",
    "descriptions.drop_duplicates(inplace=True)\n",
    "# Sort the dataframe\n",
    "descriptions.sort_values(by=['Partida Aduanera', 'Fecha'])"
   ],
   "metadata": {
    "collapsed": false,
    "pycharm": {
     "name": "#%%\n"
    }
   }
  },
  {
   "cell_type": "markdown",
   "source": [
    "Sample randomly some values of \"Partida Aduanera\" to plot"
   ],
   "metadata": {
    "collapsed": false,
    "pycharm": {
     "name": "#%% md\n"
    }
   }
  },
  {
   "cell_type": "code",
   "execution_count": null,
   "outputs": [],
   "source": [
    "# Import random library\n",
    "import random\n",
    "\n",
    "# Number of samples\n",
    "samples_qty = 6\n",
    "# Get samples from *Partida Aduanera* (without repetitions)\n",
    "samples = random.sample(list(dict.fromkeys(descriptions['Partida Aduanera'].tolist())), samples_qty)\n",
    "print(\"The random selected values from *Partida Aduanera* are: \")\n",
    "print(samples)\n",
    "# Create a list with the dataframes of each sample\n",
    "samples_dfs = []\n",
    "for sample in samples:\n",
    "    samples_dfs.append(\n",
    "        descriptions[descriptions['Partida Aduanera'] == sample].sort_values(by=[\"Partida Aduanera\", \"Fecha\"])[\n",
    "            ['Fecha', 'Count of exports']])\n",
    "# For each dataframe, populate the missing dates (imputing values of 0 for Count of exports)\n",
    "populated_samples_dfs = []\n",
    "for sample_df in samples_dfs:\n",
    "    dates = pd.date_range(sample_df['Fecha'].min(), sample_df['Fecha'].max())\n",
    "    sample_df.set_index('Fecha', inplace=True)\n",
    "    sample_df = sample_df.reindex(dates, fill_value=0)  #this can't be done inplace\n",
    "    populated_samples_dfs.append(sample_df)\n"
   ],
   "metadata": {
    "collapsed": false,
    "pycharm": {
     "name": "#%%\n"
    }
   }
  },
  {
   "cell_type": "markdown",
   "source": [
    "Let's plot all the selected samples"
   ],
   "metadata": {
    "collapsed": false,
    "pycharm": {
     "name": "#%% md\n"
    }
   }
  },
  {
   "cell_type": "code",
   "execution_count": null,
   "outputs": [],
   "source": [
    "# Import matplotlib\n",
    "import matplotlib.pyplot as plt\n",
    "\n",
    "for i in range(0, len(populated_samples_dfs) - 1):\n",
    "    #----------------------------------------------------------------\n",
    "    # GRAPH\n",
    "    #----------------------------------------------------------------\n",
    "\n",
    "    # size:\n",
    "    plt.figure(figsize=(30, 3))\n",
    "\n",
    "    # title:\n",
    "    plt.title('Shipments of ' + str(samples[i]) + ' by day', fontsize=20)\n",
    "\n",
    "    # x axis:\n",
    "    # x values\n",
    "    x = range(0, len(populated_samples_dfs[i].index.date.tolist()))\n",
    "    # x ticks\n",
    "    my_xticks = populated_samples_dfs[i].index.date.tolist()\n",
    "    for c in range(0, len(my_xticks)):\n",
    "        my_xticks[c] = my_xticks[c].strftime('%h-%Y')\n",
    "    plt.xticks(x[::30], my_xticks[::30], rotation='vertical')\n",
    "    # # x label\n",
    "    plt.xlabel(\"date\", fontsize=16)\n",
    "\n",
    "    # y axis:\n",
    "    # y values\n",
    "    y = populated_samples_dfs[i][\"Count of exports\"].tolist()\n",
    "    # y ticks\n",
    "    #plt.yticks(np.arange(populated_samples_dfs[i][\"Count of exports\"].min(), populated_samples_dfs[i][\"Count of exports\"].max()+1, 1))\n",
    "\n",
    "    # y label\n",
    "    plt.ylabel(\"# shipments\", fontsize=16)\n",
    "\n",
    "    # create plot\n",
    "    plt.plot(x, y, marker='o')\n",
    "\n",
    "    plt.grid()\n",
    "\n",
    "    # show plot\n",
    "    plt.show()\n",
    "\n",
    "    #----------------------------------------------------------------"
   ],
   "metadata": {
    "collapsed": false,
    "pycharm": {
     "name": "#%%\n"
    }
   }
  },
  {
   "cell_type": "markdown",
   "source": [
    "As we can see, some products (represented by its *Partida Aduanera* number) present a seasonal pattern (as expected) but others not."
   ],
   "metadata": {
    "collapsed": false,
    "pycharm": {
     "name": "#%% md\n"
    }
   }
  },
  {
   "cell_type": "markdown",
   "source": [
    "#### **Remark 6**"
   ],
   "metadata": {
    "collapsed": false,
    "pycharm": {
     "name": "#%% md\n"
    }
   }
  },
  {
   "cell_type": "markdown",
   "source": [
    "The custom agents in Peru fills the column *Importador Extranjero*. Thus, we presume that there may be inconsistencies in the naming of the same company in different rows. Let's check this"
   ],
   "metadata": {
    "collapsed": false,
    "pycharm": {
     "name": "#%% md\n"
    }
   }
  },
  {
   "cell_type": "markdown",
   "source": [
    "We take as an example the *Importador Extranjero* value of \"Comercial Agricola Montoliva Ltda.\". Let's check the rows have a similar name (more than 90% similarity using Levenshtein Algorithm)"
   ],
   "metadata": {
    "collapsed": false,
    "pycharm": {
     "name": "#%% md\n"
    }
   }
  },
  {
   "cell_type": "code",
   "execution_count": null,
   "outputs": [],
   "source": [
    "# Import Levenshtein\n",
    "import Levenshtein\n",
    "\n",
    "# Get the colum *Importador Extranjero*\n",
    "df = pd.DataFrame(data, columns=['Importador Extranjero'])\n",
    "# Add a column with the similarity magnitude according to Levenshtein Algorithm\n",
    "df[\"Similarity\"] = df.apply(lambda row: Levenshtein.ratio(row['Importador Extranjero'], \"Comercial Agricola Montoliva Ltda.\"), axis=1)\n",
    "# Filter rows with more than 90% similarity\n",
    "df.iloc[(df[\"Similarity\"] >= 0.90).values]\n"
   ],
   "metadata": {
    "collapsed": false,
    "pycharm": {
     "name": "#%%\n"
    }
   }
  },
  {
   "cell_type": "markdown",
   "source": [
    "As seen, rows referring to the same company in the *Importador Extranjero* column, have slightly different values. This must be cleaned in the next section."
   ],
   "metadata": {
    "collapsed": false,
    "pycharm": {
     "name": "#%% md\n"
    }
   }
  },
  {
   "cell_type": "markdown",
   "source": [
    "Let's check now for *Exportador en Peru*. We will use a random company as an example"
   ],
   "metadata": {
    "collapsed": false,
    "pycharm": {
     "name": "#%% md\n"
    }
   }
  },
  {
   "cell_type": "code",
   "execution_count": null,
   "outputs": [],
   "source": [
    "# Get the colum *Importador Extranjero*\n",
    "df = pd.DataFrame(data, columns=['Exportador en Perú'])\n",
    "# Random company\n",
    "company = df.sample()['Exportador en Perú'].values[0]\n",
    "print(\"The company to be analyzed is: \" + company)\n",
    "# Add a column with the similarity magnitude according to Levenshtein Algorithm\n",
    "df[\"Similarity\"] = df.apply(lambda row: Levenshtein.ratio(row['Exportador en Perú'], company), axis=1)\n",
    "# Filter rows with more than 90% similarity\n",
    "df.iloc[(df[\"Similarity\"] >= 0.9).values]"
   ],
   "metadata": {
    "collapsed": false,
    "pycharm": {
     "name": "#%%\n"
    }
   }
  },
  {
   "cell_type": "markdown",
   "source": [
    "Check how many unique values are in each column:"
   ],
   "metadata": {
    "collapsed": false,
    "pycharm": {
     "name": "#%% md\n"
    }
   }
  },
  {
   "cell_type": "code",
   "execution_count": null,
   "outputs": [],
   "source": [
    "df.iloc[(df[\"Similarity\"] >= 0.8).values].nunique()"
   ],
   "metadata": {
    "collapsed": false,
    "pycharm": {
     "name": "#%%\n"
    }
   }
  },
  {
   "cell_type": "markdown",
   "source": [
    "We know from Aurum that the column *Exportador en Perú* is filled from a dropdown menu. So, since it's not \"typed\" there are no inconsistencies. This is aligned with the results we are getting above regarding this column. As such, there is no need to clean this column."
   ],
   "metadata": {
    "collapsed": false,
    "pycharm": {
     "name": "#%% md\n"
    }
   }
  },
  {
   "cell_type": "markdown",
   "source": [],
   "metadata": {
    "collapsed": false,
    "pycharm": {
     "name": "#%% md\n"
    }
   }
  },
  {
   "cell_type": "markdown",
   "source": [
    "#### **Remark 7:**"
   ],
   "metadata": {
    "collapsed": false,
    "pycharm": {
     "name": "#%% md\n"
    }
   }
  },
  {
   "cell_type": "markdown",
   "source": [
    "The column *Descripcion de la Partida Aduanera* gives general information about the associated product code of *Partida aduanera*, while the column \"Descripcion Comercial\" contains more detailed information. Let's study this columns"
   ],
   "metadata": {
    "collapsed": false,
    "pycharm": {
     "name": "#%% md\n"
    }
   }
  },
  {
   "cell_type": "code",
   "execution_count": null,
   "outputs": [],
   "source": [
    "# Select the three columns of interest\n",
    "df = data[[\"Partida Aduanera\", \"Descripcion de la Partida Aduanera\", \"Descripcion Comercial\"]]\n",
    "# Get the cardinality of *Partida aduanera*\n",
    "print(\"There are \" + str(len(df['Partida Aduanera'].unique())) + \" different codes of Partida Aduanera in total\")\n",
    "# Get the cardinality of *Descripcion de la Partida Aduanera*\n",
    "print(\"There are \" + str(len(df[\n",
    "                                 'Descripcion de la Partida Aduanera'].unique())) + \" different values of Descripcion de la Partida Aduanera in total\")\n",
    "# Get the cardinality of *Partida aduanera*\n",
    "print(\"There are \" + str(\n",
    "    len(df['Descripcion Comercial'].unique())) + \" different values of Descripcion Comercial in total\")\n"
   ],
   "metadata": {
    "collapsed": false,
    "pycharm": {
     "name": "#%%\n"
    }
   }
  }
 ],
 "metadata": {
  "kernelspec": {
   "display_name": "Python 3.10.0 ('ml_project')",
   "language": "python",
   "name": "python3"
  },
  "language_info": {
   "codemirror_mode": {
    "name": "ipython",
    "version": 3
   },
   "file_extension": ".py",
   "mimetype": "text/x-python",
   "name": "python",
   "nbconvert_exporter": "python",
   "pygments_lexer": "ipython3",
   "version": "3.10.0"
  },
  "orig_nbformat": 4,
  "vscode": {
   "interpreter": {
    "hash": "7741a1131fbe9bf5a0f5d7457e8f9d1e7d381e789d9a050b2713f6d313501fbc"
   }
  }
 },
 "nbformat": 4,
 "nbformat_minor": 2
}