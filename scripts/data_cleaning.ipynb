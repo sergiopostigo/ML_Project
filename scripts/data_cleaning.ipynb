{
 "cells": [
  {
   "cell_type": "markdown",
   "metadata": {
    "pycharm": {
     "name": "#%% md\n"
    }
   },
   "source": [
    "# **Agricultural Exports Categories Analysis**\n",
    "*by Sergio Postigo and Víctor Diví*"
   ]
  },
  {
   "cell_type": "markdown",
   "source": [
    "## **4. Data cleaning**"
   ],
   "metadata": {
    "collapsed": false,
    "pycharm": {
     "name": "#%% md\n"
    }
   }
  },
  {
   "cell_type": "markdown",
   "source": [
    "In this stage we will clean the data and specifically the columns that we will use in the model(s) in the next section. Of course, we don´t need to clean all the columns, since many of them are not relevant for labeling the rows. So, let's first determine the columns to be used and justify why"
   ],
   "metadata": {
    "collapsed": false,
    "pycharm": {
     "name": "#%% md\n"
    }
   }
  },
  {
   "cell_type": "markdown",
   "source": [
    "| COLUMN                             | USEFUL  | JUSTIFICATION                                                                                                                                                                                                    |\n",
    "|------------------------------------|---------|------------------------------------------------------------------------------------------------------------------------------------------------------------------------------------------------------------------|\n",
    "| Partida Aduanera                   | NO      | For each customs code there is one description in *Descripcion de la Partida Aduanera*. This last carries more information about the product. So, we won´t take this attribute and consider the next one.        |\n",
    "| Descripcion de la Partida Aduanera | **YES** | This is a general description about the product, so this carries valuable information for the labeling                                                                                                           |\n",
    "| Aduana                             | NO      | The port from which the product is being shipped. For now, we won´t consider it for our models                                                                                                                   |\n",
    "| DUA                                | NO      | This is a random generated code associated with the shipping, it does not carry information that can be captured                                                                                                 |\n",
    "| Fecha                              | **YES** | Associating the date of shipping to a category is insightful. As we saw, some products are exported in specific seasons of the year                                                                              |\n",
    "| Año                                | NO      | Already included in the previous attribute                                                                                                                                                                       |\n",
    "| Cod. Tributario                    | NO      | There is one tax code for each company. A company can be associated to specific groups of products, however the amount of different companies can be huge.                                                       |\n",
    "| Exportador en Perú                 | NO      | Same idea as previous row                                                                                                                                                                                        |\n",
    "| Importador Extranjero              | NO      | The amount of different importers abroad may be huge and new data my carry new names not learned by the model                                                                                                    |\n",
    "| Kg Bruto                           | NO      | See next attribute                                                                                                                                                                                               |\n",
    "| Kg Neto                            | **YES** | The weight of the shipments is insightful, but is highly variable among same products, so initially we won´t use this feature. However we will use it to calculate the price by kg, which is actually insightful |\n",
    "| Toneladas Netas                    | NO      | See previous attribute                                                                                                                                                                                           |\n",
    "| Qty 1                              | NO      | Same as before                                                                                                                                                                                                   |\n",
    "| Und 1                              | NO      | Same as before                                                                                                                                                                                                   |\n",
    "| Qty 2                              | NO      | Same as before                                                                                                                                                                                                   |\n",
    "| Und 2                              | NO      | Same as before                                                                                                                                                                                                   |\n",
    "| U$ FOB Tot                         | **YES** | The cost of the shipment will be use to calculate the cost by kg of the product                                                                                                                                  |\n",
    "| Miles de USD Fob TOTAL             | NO      | It is just a repetition of the previous attribute                                                                                                                                                                |\n",
    "| U$ FOB Und 1                       | NO      |                                                                                                                                                                                                                  |\n",
    "| U$ FOB Und 2                       | NO      |                                                                                                                                                                                                                  |\n",
    "| Pais de Destino                    | **YES** | The country were this products are being imported can be related to groups of products                                                                                                                           |\n",
    "| Puerto de destino                  | NO      | The previous attribute indirectly captures this information already                                                                                                                                              |\n",
    "| Último Puerto Embarque             | NO      |                                                                                                                                                                                                                  |\n",
    "| Via                                | NO      |                                                                                                                                                                                                                  |\n",
    "| Agente Portuario                   | NO      |                                                                                                                                                                                                                  |\n",
    "| Agente de Aduana                   | NO      |                                                                                                                                                                                                                  |\n",
    "| Descripcion Comercial              | **YES** | The comercial description also carries valuable information for the labeling                                                                                                                                     |\n",
    "| Descripcion1                       | NO      | Already captured in *Descripcion Comercial*                                                                                                                                                                      |\n",
    "| Descripcion2                       | NO      | Already captured in *Descripcion Comercial*                                                                                                                                                                      |\n",
    "| Descripcion3                       | NO      | Already captured in *Descripcion Comercial*                                                                                                                                                                      |\n",
    "| Descripcion4                       | NO      | Already captured in *Descripcion Comercial*                                                                                                                                                                      |\n",
    "| Descripcion5                       | NO      | Already captured in *Descripcion Comercial*                                                                                                                                                                      |\n",
    "| Naviera                            | NO      |                                                                                                                                                                                                                  |\n",
    "| Agente Carga(Origen)               | NO      |                                                                                                                                                                                                                  |\n",
    "| Agente Carga(Destino)              | NO      |                                                                                                                                                                                                                  |\n",
    "| Canal                              | NO      |                                                                                                                                                                                                                  |\n",
    "| Concatenar                         | NO      |                                                                                                                                                                                                                  |\n",
    "| Categoría macro Aurum              | **YES** | **LABEL**                                                                                                                                                                                                        |\n",
    "| Subcategoría inicial               | NO      | While we also need this category, it can be inferred given a prediction of the subcategory                                                                                                                       |\n",
    "| Subcategoría Consolidada Aurum     | NO      |                                                                                                                                                                                                                  |\n",
    "| Categoría Consolidada Aurum        | NO      |                                                                                                                                                                                                                  |"
   ],
   "metadata": {
    "collapsed": false,
    "pycharm": {
     "name": "#%% md\n"
    }
   }
  },
  {
   "cell_type": "code",
   "execution_count": null,
   "outputs": [],
   "source": [
    "import pandas as pd\n",
    "\n",
    "full_data = pd.read_csv(\"../data/raw_data/data.csv\", encoding='latin-1', sep=';')"
   ],
   "metadata": {
    "collapsed": false,
    "pycharm": {
     "name": "#%%\n"
    }
   }
  },
  {
   "cell_type": "code",
   "execution_count": null,
   "outputs": [],
   "source": [
    "data = full_data[\n",
    "    [\"Descripcion de la Partida Aduanera\", \"Fecha\", \"Kg Neto\", \"U$ FOB Tot\", \"Pais de Destino\", \"Descripcion Comercial\",\n",
    "     \"Categoría macro Aurum\"]].copy()\n",
    "data.head()"
   ],
   "metadata": {
    "collapsed": false,
    "pycharm": {
     "name": "#%%\n"
    }
   }
  },
  {
   "cell_type": "markdown",
   "source": [
    "From now on we will focus on each of the selected columns"
   ],
   "metadata": {
    "collapsed": false,
    "pycharm": {
     "name": "#%% md\n"
    }
   }
  },
  {
   "cell_type": "markdown",
   "source": [
    "#### **Descripcion de la Partida Aduanera (description of the customs code)**"
   ],
   "metadata": {
    "collapsed": false,
    "pycharm": {
     "name": "#%% md\n"
    }
   }
  },
  {
   "cell_type": "code",
   "execution_count": null,
   "outputs": [],
   "source": [
    "data[[\"Descripcion de la Partida Aduanera\"]]"
   ],
   "metadata": {
    "collapsed": false,
    "pycharm": {
     "name": "#%%\n"
    }
   }
  },
  {
   "cell_type": "markdown",
   "source": [
    "Since in this column we are dealing with textual descriptions of the product, we will use Natural Language Processing techniques. A first important step that we will perform is to remove the so-called *stop words* from each cell, so that we get rid of the low-level information. For example, we see that the second row in the above table has the word 'Y' (and) or 'O' (or). This words should not be considered in our future model."
   ],
   "metadata": {
    "collapsed": false,
    "pycharm": {
     "name": "#%% md\n"
    }
   }
  },
  {
   "cell_type": "markdown",
   "source": [
    "To do this we will use the Natural Language Toolkit (NLTK)."
   ],
   "metadata": {
    "collapsed": false,
    "pycharm": {
     "name": "#%% md\n"
    }
   }
  },
  {
   "cell_type": "markdown",
   "source": [
    "First, let's define a function to normalize strings. Here, we don't care about accents*, punctuations and non-alphabetic characters in general, and lower/upper case, so we will get rid of that\n",
    "*while it's true that in Spanish an accent can change the meaning of a word, this doesn't usually happen with nouns, and we have to take into account that is probable that most words that have an accent are probably written with and without it inside the dataset"
   ],
   "metadata": {
    "collapsed": false,
    "pycharm": {
     "name": "#%% md\n"
    }
   }
  },
  {
   "cell_type": "code",
   "execution_count": null,
   "outputs": [],
   "source": [
    "import unidecode\n",
    "import re\n",
    "\n",
    "\n",
    "def to_alpha_lower_ascii(val: str) -> str:\n",
    "    ascii_value = unidecode.unidecode(val)\n",
    "    lower = ascii_value.lower()\n",
    "    alpha = re.sub(r'[^a-z]', ' ', lower)\n",
    "    alpha_spaces = re.sub(r'\\s+', ' ', alpha)\n",
    "    return alpha_spaces"
   ],
   "metadata": {
    "collapsed": false,
    "pycharm": {
     "name": "#%%\n"
    }
   }
  },
  {
   "cell_type": "code",
   "execution_count": null,
   "outputs": [],
   "source": [
    "import nltk\n",
    "\n",
    "nltk.download('stopwords')\n",
    "from nltk.corpus import stopwords\n",
    "\n",
    "sw_nltk = [to_alpha_lower_ascii(x) for x in stopwords.words('spanish')]\n",
    "print(\"The words considered stopwords in spanish are: \")\n",
    "print(sw_nltk)"
   ],
   "metadata": {
    "collapsed": false,
    "pycharm": {
     "name": "#%%\n"
    }
   }
  },
  {
   "cell_type": "markdown",
   "source": [
    "Now let's convert the values to simple ascii using the previous function and get rid of stopwords and other short words (1 or 2 letters)"
   ],
   "metadata": {
    "collapsed": false,
    "pycharm": {
     "name": "#%% md\n"
    }
   }
  },
  {
   "cell_type": "code",
   "execution_count": null,
   "outputs": [],
   "source": [
    "def clean_str(value: str) -> str:\n",
    "    converted_words = to_alpha_lower_ascii(value).split()\n",
    "    return ' '.join(word for word in converted_words if word not in sw_nltk and len(word) > 2)"
   ],
   "metadata": {
    "collapsed": false,
    "pycharm": {
     "name": "#%%\n"
    }
   }
  },
  {
   "cell_type": "code",
   "execution_count": null,
   "outputs": [],
   "source": [
    "data['Descripcion de la Partida Aduanera_clean'] = data['Descripcion de la Partida Aduanera'].apply(clean_str)\n",
    "data[['Descripcion de la Partida Aduanera', 'Descripcion de la Partida Aduanera_clean']]"
   ],
   "metadata": {
    "collapsed": false,
    "pycharm": {
     "name": "#%%\n"
    }
   }
  },
  {
   "cell_type": "code",
   "execution_count": null,
   "outputs": [],
   "source": [
    "data.drop('Descripcion de la Partida Aduanera', axis=1, inplace=True)\n",
    "data.rename({'Descripcion de la Partida Aduanera_clean': 'Descripcion de la Partida Aduanera'}, axis=1, inplace=True)"
   ],
   "metadata": {
    "collapsed": false,
    "pycharm": {
     "name": "#%%\n"
    }
   }
  },
  {
   "cell_type": "markdown",
   "source": [
    "#### **Fecha (date)**"
   ],
   "metadata": {
    "collapsed": false,
    "pycharm": {
     "name": "#%% md\n"
    }
   }
  },
  {
   "cell_type": "markdown",
   "source": [
    "For this column we will map the month of shipment"
   ],
   "metadata": {
    "collapsed": false,
    "pycharm": {
     "name": "#%% md\n"
    }
   }
  },
  {
   "cell_type": "code",
   "execution_count": null,
   "outputs": [],
   "source": [
    "data['Fecha'] = pd.to_datetime(data['Fecha'].values, infer_datetime_format=True).month"
   ],
   "metadata": {
    "collapsed": false,
    "pycharm": {
     "name": "#%%\n"
    }
   }
  },
  {
   "cell_type": "markdown",
   "source": [
    "#### **Kg Neto (net weight in of good KG) and U$ FOB Tot (total price of good)**"
   ],
   "metadata": {
    "collapsed": false,
    "pycharm": {
     "name": "#%% md\n"
    }
   }
  },
  {
   "cell_type": "markdown",
   "source": [
    "As we said before, here we will get the price by kg of the good. To do this we will use both columns and transform them into one."
   ],
   "metadata": {
    "collapsed": false,
    "pycharm": {
     "name": "#%% md\n"
    }
   }
  },
  {
   "cell_type": "code",
   "execution_count": null,
   "outputs": [],
   "source": [
    "import numpy as np\n",
    "\n",
    "data['Kg Neto'] = data['Kg Neto'].str.replace(',', '.').astype(float).values\n",
    "data['U$ FOB Tot'] = data['U$ FOB Tot'].str.replace(',', '.').astype(float).values"
   ],
   "metadata": {
    "collapsed": false,
    "pycharm": {
     "name": "#%%\n"
    }
   }
  },
  {
   "cell_type": "code",
   "execution_count": null,
   "outputs": [],
   "source": [
    "(data[\"Kg Neto\"] == 0).value_counts()"
   ],
   "metadata": {
    "collapsed": false,
    "pycharm": {
     "name": "#%%\n"
    }
   }
  },
  {
   "cell_type": "code",
   "execution_count": null,
   "outputs": [],
   "source": [
    "data = data.drop(data[data[\"Kg Neto\"] == 0].index)"
   ],
   "metadata": {
    "collapsed": false,
    "pycharm": {
     "name": "#%%\n"
    }
   }
  },
  {
   "cell_type": "code",
   "execution_count": null,
   "outputs": [],
   "source": [
    "data[\"usd_kg\"] = np.divide(data['Kg Neto'], data['U$ FOB Tot'])\n",
    "data['usd_kg'] = data['usd_kg'].fillna(0)\n",
    "data['usd_kg'] = data['usd_kg'].replace([[np.inf, -np.inf]], 0)\n",
    "\n",
    "data = data.drop(columns=[\"Kg Neto\", \"U$ FOB Tot\"])"
   ],
   "metadata": {
    "collapsed": false,
    "pycharm": {
     "name": "#%%\n"
    }
   }
  },
  {
   "cell_type": "code",
   "execution_count": null,
   "outputs": [],
   "source": [
    "data['usd_kg'].describe()"
   ],
   "metadata": {
    "collapsed": false,
    "pycharm": {
     "name": "#%%\n"
    }
   }
  },
  {
   "cell_type": "markdown",
   "source": [
    "#### **País de destino (country of destiny)**"
   ],
   "metadata": {
    "collapsed": false,
    "pycharm": {
     "name": "#%% md\n"
    }
   }
  },
  {
   "cell_type": "code",
   "execution_count": null,
   "outputs": [],
   "source": [
    "countries = data[\"Pais de Destino\"].unique()\n",
    "countries.sort()\n",
    "countries"
   ],
   "metadata": {
    "collapsed": false,
    "pycharm": {
     "name": "#%%\n"
    }
   }
  },
  {
   "cell_type": "markdown",
   "source": [
    "The column is correct and shows not corrupted data. We will only set the values to lowercase and remove accents."
   ],
   "metadata": {
    "collapsed": false,
    "pycharm": {
     "name": "#%% md\n"
    }
   }
  },
  {
   "cell_type": "code",
   "execution_count": null,
   "outputs": [],
   "source": [
    "data[\"Pais de Destino\"] = data[\"Pais de Destino\"].apply(lambda country: unidecode.unidecode(country).lower())"
   ],
   "metadata": {
    "collapsed": false,
    "pycharm": {
     "name": "#%%\n"
    }
   }
  },
  {
   "cell_type": "markdown",
   "source": [
    "#### **Descripcion Comercial (comercial description)**"
   ],
   "metadata": {
    "collapsed": false,
    "pycharm": {
     "name": "#%% md\n"
    }
   }
  },
  {
   "cell_type": "markdown",
   "source": [
    "As it will be shown below, there are values in these columns with repeated sentences inside"
   ],
   "metadata": {
    "collapsed": false,
    "pycharm": {
     "name": "#%% md\n"
    }
   }
  },
  {
   "cell_type": "code",
   "execution_count": null,
   "outputs": [],
   "source": [
    "comercial_description = data[\"Descripcion Comercial\"].tolist()\n",
    "comercial_description[0]"
   ],
   "metadata": {
    "collapsed": false,
    "pycharm": {
     "name": "#%%\n"
    }
   }
  },
  {
   "cell_type": "markdown",
   "source": [
    "Let's clean this and also remove accents, double or more white spaces, stopwords, punctuations and set to lowercase"
   ],
   "metadata": {
    "collapsed": false,
    "pycharm": {
     "name": "#%% md\n"
    }
   }
  },
  {
   "cell_type": "code",
   "execution_count": null,
   "outputs": [],
   "source": [
    "def remove_repetitions(source: str) -> str:\n",
    "    return re.match(r'^\\s*([\\w\\s]+?)(?:\\s*\\1)*\\s*$', source)[1]"
   ],
   "metadata": {
    "collapsed": false,
    "pycharm": {
     "name": "#%%\n"
    }
   }
  },
  {
   "cell_type": "code",
   "execution_count": null,
   "outputs": [],
   "source": [
    "data['Descripcion Comercial'] = data['Descripcion Comercial'].apply(clean_str).apply(remove_repetitions)\n",
    "data['Descripcion Comercial']"
   ],
   "metadata": {
    "collapsed": false,
    "pycharm": {
     "name": "#%%\n"
    }
   }
  },
  {
   "cell_type": "markdown",
   "source": [
    "#### **Categoria macro Aurum (subcategories)**"
   ],
   "metadata": {
    "collapsed": false,
    "pycharm": {
     "name": "#%% md\n"
    }
   }
  },
  {
   "cell_type": "markdown",
   "source": [
    "This is the column to predict"
   ],
   "metadata": {
    "collapsed": false,
    "pycharm": {
     "name": "#%% md\n"
    }
   }
  },
  {
   "cell_type": "markdown",
   "source": [
    "Finally, our data is clean and ready to be preprocessed. As a last step, we will reset the indexes."
   ],
   "metadata": {
    "collapsed": false,
    "pycharm": {
     "name": "#%% md\n"
    }
   }
  },
  {
   "cell_type": "code",
   "execution_count": null,
   "outputs": [],
   "source": [
    "data.reset_index(drop=True, inplace=True)\n",
    "data = data[[col for col in data if col != 'Categoría macro Aurum'] + ['Categoría macro Aurum']]\n",
    "data.to_csv('../data/cleaned_data/cleaned_data.csv', index=False)\n",
    "data"
   ],
   "metadata": {
    "collapsed": false,
    "pycharm": {
     "name": "#%%\n"
    }
   }
  }
 ],
 "metadata": {
  "kernelspec": {
   "display_name": "Python 3.10.0 ('ml_project')",
   "language": "python",
   "name": "python3"
  },
  "language_info": {
   "codemirror_mode": {
    "name": "ipython",
    "version": 3
   },
   "file_extension": ".py",
   "mimetype": "text/x-python",
   "name": "python",
   "nbconvert_exporter": "python",
   "pygments_lexer": "ipython3",
   "version": "3.10.0"
  },
  "orig_nbformat": 4,
  "vscode": {
   "interpreter": {
    "hash": "7741a1131fbe9bf5a0f5d7457e8f9d1e7d381e789d9a050b2713f6d313501fbc"
   }
  }
 },
 "nbformat": 4,
 "nbformat_minor": 2
}