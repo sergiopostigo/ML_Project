{
 "cells": [
  {
   "cell_type": "markdown",
   "metadata": {
    "pycharm": {
     "name": "#%% md\n"
    }
   },
   "source": [
    "# **Agricultural Exports Categories Analysis**\n",
    "*by Sergio Postigo and Víctor Diví*"
   ]
  },
  {
   "cell_type": "markdown",
   "metadata": {
    "collapsed": false,
    "pycharm": {
     "name": "#%% md\n"
    }
   },
   "source": [
    "## **4. Data cleaning**"
   ]
  },
  {
   "cell_type": "markdown",
   "metadata": {
    "collapsed": false,
    "pycharm": {
     "name": "#%% md\n"
    }
   },
   "source": [
    "In this stage we will clean the data and specifically the columns that we will use in the model(s) in the next section. Of course, we don´t need to clean all the columns, since many of them are not relevant for labeling the rows. So, let's first determine the columns to be used and justify why"
   ]
  },
  {
   "cell_type": "markdown",
   "metadata": {
    "collapsed": false,
    "pycharm": {
     "name": "#%% md\n"
    }
   },
   "source": [
    "| COLUMN                             | USEFUL  | JUSTIFICATION                                                                                                                                                                                                    |\n",
    "|------------------------------------|---------|------------------------------------------------------------------------------------------------------------------------------------------------------------------------------------------------------------------|\n",
    "| Partida Aduanera                   | NO      | For each customs code there is one description in *Descripcion de la Partida Aduanera*. This last carries more information about the product. So, we won´t take this attribute and consider the next one.        |\n",
    "| Descripcion de la Partida Aduanera | **YES** | This is a general description about the product, so this carries valuable information for the labeling                                                                                                           |\n",
    "| Aduana                             | NO      | The port from which the product is being shipped. For now, we won´t consider it for our models                                                                                                                   |\n",
    "| DUA                                | NO      | This is a random generated code associated with the shipping, it does not carry information that can be captured                                                                                                 |\n",
    "| Fecha                              | **YES** | Associating the date of shipping to a category is insightful. As we saw, some products are exported in specific seasons of the year                                                                              |\n",
    "| Año                                | NO      | Already included in the previous attribute                                                                                                                                                                       |\n",
    "| Cod. Tributario                    | NO      | There is one tax code for each company. A company can be associated to specific groups of products, however the amount of different companies can be huge.                                                       |\n",
    "| Exportador en Perú                 | NO      | Same idea as previous row                                                                                                                                                                                        |\n",
    "| Importador Extranjero              | NO      | The amount of different importers abroad may be huge and new data my carry new names not learned by the model                                                                                                    |\n",
    "| Kg Bruto                           | NO      | See next attribute                                                                                                                                                                                               |\n",
    "| Kg Neto                            | **YES** | The weight of the shipments is insightful, but is highly variable among same products, so initially we won´t use this feature. However we will use it to calculate the price by kg, which is actually insightful |\n",
    "| Toneladas Netas                    | NO      | See previous attribute                                                                                                                                                                                           |\n",
    "| Qty 1                              | NO      | Same as before                                                                                                                                                                                                   |\n",
    "| Und 1                              | NO      | Same as before                                                                                                                                                                                                   |\n",
    "| Qty 2                              | NO      | Same as before                                                                                                                                                                                                   |\n",
    "| Und 2                              | NO      | Same as before                                                                                                                                                                                                   |\n",
    "| U$ FOB Tot                         | **YES** | The cost of the shipment will be use to calculate the cost by kg of the product                                                                                                                                  |\n",
    "| Miles de USD Fob TOTAL             | NO      | It is just a repetition of the previous attribute                                                                                                                                                                |\n",
    "| U$ FOB Und 1                       | NO      |                                                                                                                                                                                                                  |\n",
    "| U$ FOB Und 2                       | NO      |                                                                                                                                                                                                                  |\n",
    "| Pais de Destino                    | **YES** | The country were this products are being exported can be related to groups of products                                                                                                                           |\n",
    "| Puerto de destino                  | NO      | The previous attribute indirectly captures this information already                                                                                                                                              |\n",
    "| Último Puerto Embarque             | NO      |                                                                                                                                                                                                                  |\n",
    "| Via                                | NO      |                                                                                                                                                                                                                  |\n",
    "| Agente Portuario                   | NO      |                                                                                                                                                                                                                  |\n",
    "| Agente de Aduana                   | NO      |                                                                                                                                                                                                                  |\n",
    "| Descripcion Comercial              | **YES** | The comercial description also carries valuable information for the labeling                                                                                                                                     |\n",
    "| Descripcion1                       | NO      | Already captured in *Descripcion Comercial*                                                                                                                                                                      |\n",
    "| Descripcion2                       | NO      | Already captured in *Descripcion Comercial*                                                                                                                                                                      |\n",
    "| Descripcion3                       | NO      | Already captured in *Descripcion Comercial*                                                                                                                                                                      |\n",
    "| Descripcion4                       | NO      | Already captured in *Descripcion Comercial*                                                                                                                                                                      |\n",
    "| Descripcion5                       | NO      | Already captured in *Descripcion Comercial*                                                                                                                                                                      |\n",
    "| Naviera                            | NO      |                                                                                                                                                                                                                  |\n",
    "| Agente Carga(Origen)               | NO      |                                                                                                                                                                                                                  |\n",
    "| Agente Carga(Destino)              | NO      |                                                                                                                                                                                                                  |\n",
    "| Canal                              | NO      |                                                                                                                                                                                                                  |\n",
    "| Concatenar                         | NO      |                                                                                                                                                                                                                  |\n",
    "| Categoría macro Aurum              | **YES** | **LABEL**                                                                                                                                                                                                        |\n",
    "| Subcategoría inicial               | NO      | While we also need this category, it can be inferred given a prediction of the subcategory                                                                                                                       |\n",
    "| Subcategoría Consolidada Aurum     | NO      |                                                                                                                                                                                                                  |\n",
    "| Categoría Consolidada Aurum        | NO      |                                                                                                                                                                                                                  |"
   ]
  },
  {
   "cell_type": "code",
   "execution_count": 21,
   "metadata": {
    "collapsed": false,
    "pycharm": {
     "name": "#%%\n"
    }
   },
   "outputs": [
    {
     "name": "stderr",
     "output_type": "stream",
     "text": [
      "C:\\Users\\spost\\AppData\\Local\\Temp\\ipykernel_14000\\713207146.py:3: DtypeWarning: Columns (6,14,16,22,33,34) have mixed types. Specify dtype option on import or set low_memory=False.\n",
      "  full_data = pd.read_csv(\"../data/raw_data/data.csv\", encoding='latin-1', sep=';')\n"
     ]
    }
   ],
   "source": [
    "import pandas as pd\n",
    "\n",
    "full_data = pd.read_csv(\"../data/raw_data/data.csv\", encoding='latin-1', sep=';')"
   ]
  },
  {
   "cell_type": "code",
   "execution_count": 22,
   "metadata": {
    "collapsed": false,
    "pycharm": {
     "name": "#%%\n"
    }
   },
   "outputs": [
    {
     "data": {
      "text/html": [
       "<div>\n",
       "<style scoped>\n",
       "    .dataframe tbody tr th:only-of-type {\n",
       "        vertical-align: middle;\n",
       "    }\n",
       "\n",
       "    .dataframe tbody tr th {\n",
       "        vertical-align: top;\n",
       "    }\n",
       "\n",
       "    .dataframe thead th {\n",
       "        text-align: right;\n",
       "    }\n",
       "</style>\n",
       "<table border=\"1\" class=\"dataframe\">\n",
       "  <thead>\n",
       "    <tr style=\"text-align: right;\">\n",
       "      <th></th>\n",
       "      <th>Descripcion de la Partida Aduanera</th>\n",
       "      <th>Fecha</th>\n",
       "      <th>Kg Neto</th>\n",
       "      <th>U$ FOB Tot</th>\n",
       "      <th>Pais de Destino</th>\n",
       "      <th>Descripcion Comercial</th>\n",
       "      <th>Categoría macro Aurum</th>\n",
       "    </tr>\n",
       "  </thead>\n",
       "  <tbody>\n",
       "    <tr>\n",
       "      <th>0</th>\n",
       "      <td>ACEITUNA CONSERVADAS PROVISIONALMENTE,TODAVIA ...</td>\n",
       "      <td>11/19/2019</td>\n",
       "      <td>8642</td>\n",
       "      <td>12291</td>\n",
       "      <td>Chile</td>\n",
       "      <td>ACEITUNAS ARAUCO PRESENTACION EN BIDONES   RES...</td>\n",
       "      <td>Aceituna</td>\n",
       "    </tr>\n",
       "    <tr>\n",
       "      <th>1</th>\n",
       "      <td>ACEITUNA CONSERVADAS PROVISIONALMENTE,TODAVIA ...</td>\n",
       "      <td>2/21/2019</td>\n",
       "      <td>10440</td>\n",
       "      <td>12362</td>\n",
       "      <td>Chile</td>\n",
       "      <td>ACEITUNAS ARAUCO PRESENTACION EN BIDONES VERDE...</td>\n",
       "      <td>Aceituna</td>\n",
       "    </tr>\n",
       "    <tr>\n",
       "      <th>2</th>\n",
       "      <td>ACEITUNA CONSERVADAS PROVISIONALMENTE,TODAVIA ...</td>\n",
       "      <td>10/16/2018</td>\n",
       "      <td>480</td>\n",
       "      <td>1728</td>\n",
       "      <td>Australia</td>\n",
       "      <td>4 BIDONES ACEITUNA DE MESA ASCOLANA VERDE DESH...</td>\n",
       "      <td>Aceituna</td>\n",
       "    </tr>\n",
       "    <tr>\n",
       "      <th>3</th>\n",
       "      <td>ACEITUNAS</td>\n",
       "      <td>7/5/2018</td>\n",
       "      <td>1740</td>\n",
       "      <td>4002</td>\n",
       "      <td>Jordania</td>\n",
       "      <td>ACEITUNA ASCOLANA ENTERA 07-09 BID80L 58KG C/B...</td>\n",
       "      <td>Aceituna</td>\n",
       "    </tr>\n",
       "    <tr>\n",
       "      <th>4</th>\n",
       "      <td>ACEITUNA CONSERVADAS PROVISIONALMENTE,TODAVIA ...</td>\n",
       "      <td>11/19/2019</td>\n",
       "      <td>2150</td>\n",
       "      <td>2826</td>\n",
       "      <td>Chile</td>\n",
       "      <td>ACEITUNA ASCOLANO PRESENTACION EN BIDONES   RE...</td>\n",
       "      <td>Aceituna</td>\n",
       "    </tr>\n",
       "  </tbody>\n",
       "</table>\n",
       "</div>"
      ],
      "text/plain": [
       "                  Descripcion de la Partida Aduanera       Fecha Kg Neto  \\\n",
       "0  ACEITUNA CONSERVADAS PROVISIONALMENTE,TODAVIA ...  11/19/2019    8642   \n",
       "1  ACEITUNA CONSERVADAS PROVISIONALMENTE,TODAVIA ...   2/21/2019   10440   \n",
       "2  ACEITUNA CONSERVADAS PROVISIONALMENTE,TODAVIA ...  10/16/2018     480   \n",
       "3                                          ACEITUNAS    7/5/2018    1740   \n",
       "4  ACEITUNA CONSERVADAS PROVISIONALMENTE,TODAVIA ...  11/19/2019    2150   \n",
       "\n",
       "  U$ FOB Tot Pais de Destino  \\\n",
       "0      12291           Chile   \n",
       "1      12362           Chile   \n",
       "2       1728       Australia   \n",
       "3       4002        Jordania   \n",
       "4       2826           Chile   \n",
       "\n",
       "                               Descripcion Comercial Categoría macro Aurum  \n",
       "0  ACEITUNAS ARAUCO PRESENTACION EN BIDONES   RES...              Aceituna  \n",
       "1  ACEITUNAS ARAUCO PRESENTACION EN BIDONES VERDE...              Aceituna  \n",
       "2  4 BIDONES ACEITUNA DE MESA ASCOLANA VERDE DESH...              Aceituna  \n",
       "3  ACEITUNA ASCOLANA ENTERA 07-09 BID80L 58KG C/B...              Aceituna  \n",
       "4  ACEITUNA ASCOLANO PRESENTACION EN BIDONES   RE...              Aceituna  "
      ]
     },
     "execution_count": 22,
     "metadata": {},
     "output_type": "execute_result"
    }
   ],
   "source": [
    "data = full_data[\n",
    "    [\"Descripcion de la Partida Aduanera\", \"Fecha\", \"Kg Neto\", \"U$ FOB Tot\", \"Pais de Destino\", \"Descripcion Comercial\",\n",
    "     \"Categoría macro Aurum\"]].copy()\n",
    "data.head()"
   ]
  },
  {
   "cell_type": "markdown",
   "metadata": {
    "collapsed": false,
    "pycharm": {
     "name": "#%% md\n"
    }
   },
   "source": [
    "From now on we will focus on each of the selected columns"
   ]
  },
  {
   "cell_type": "markdown",
   "metadata": {
    "collapsed": false,
    "pycharm": {
     "name": "#%% md\n"
    }
   },
   "source": [
    "#### **Descripcion de la Partida Aduanera (description of the customs code)**"
   ]
  },
  {
   "cell_type": "code",
   "execution_count": 23,
   "metadata": {
    "collapsed": false,
    "pycharm": {
     "name": "#%%\n"
    }
   },
   "outputs": [
    {
     "data": {
      "text/html": [
       "<div>\n",
       "<style scoped>\n",
       "    .dataframe tbody tr th:only-of-type {\n",
       "        vertical-align: middle;\n",
       "    }\n",
       "\n",
       "    .dataframe tbody tr th {\n",
       "        vertical-align: top;\n",
       "    }\n",
       "\n",
       "    .dataframe thead th {\n",
       "        text-align: right;\n",
       "    }\n",
       "</style>\n",
       "<table border=\"1\" class=\"dataframe\">\n",
       "  <thead>\n",
       "    <tr style=\"text-align: right;\">\n",
       "      <th></th>\n",
       "      <th>Descripcion de la Partida Aduanera</th>\n",
       "    </tr>\n",
       "  </thead>\n",
       "  <tbody>\n",
       "    <tr>\n",
       "      <th>0</th>\n",
       "      <td>ACEITUNA CONSERVADAS PROVISIONALMENTE,TODAVIA ...</td>\n",
       "    </tr>\n",
       "    <tr>\n",
       "      <th>1</th>\n",
       "      <td>ACEITUNA CONSERVADAS PROVISIONALMENTE,TODAVIA ...</td>\n",
       "    </tr>\n",
       "    <tr>\n",
       "      <th>2</th>\n",
       "      <td>ACEITUNA CONSERVADAS PROVISIONALMENTE,TODAVIA ...</td>\n",
       "    </tr>\n",
       "    <tr>\n",
       "      <th>3</th>\n",
       "      <td>ACEITUNAS</td>\n",
       "    </tr>\n",
       "    <tr>\n",
       "      <th>4</th>\n",
       "      <td>ACEITUNA CONSERVADAS PROVISIONALMENTE,TODAVIA ...</td>\n",
       "    </tr>\n",
       "    <tr>\n",
       "      <th>...</th>\n",
       "      <td>...</td>\n",
       "    </tr>\n",
       "    <tr>\n",
       "      <th>631389</th>\n",
       "      <td>CALABAZAS (ZAPALLOS) Y CALABACINES (CUCURBITA ...</td>\n",
       "    </tr>\n",
       "    <tr>\n",
       "      <th>631390</th>\n",
       "      <td>CALABAZAS (ZAPALLOS) Y CALABACINES (CUCURBITA ...</td>\n",
       "    </tr>\n",
       "    <tr>\n",
       "      <th>631391</th>\n",
       "      <td>CALABAZAS (ZAPALLOS) Y CALABACINES (CUCURBITA ...</td>\n",
       "    </tr>\n",
       "    <tr>\n",
       "      <th>631392</th>\n",
       "      <td>CALABAZAS (ZAPALLOS) Y CALABACINES (CUCURBITA ...</td>\n",
       "    </tr>\n",
       "    <tr>\n",
       "      <th>631393</th>\n",
       "      <td>CALABAZAS (ZAPALLOS) Y CALABACINES (CUCURBITA ...</td>\n",
       "    </tr>\n",
       "  </tbody>\n",
       "</table>\n",
       "<p>631394 rows × 1 columns</p>\n",
       "</div>"
      ],
      "text/plain": [
       "                       Descripcion de la Partida Aduanera\n",
       "0       ACEITUNA CONSERVADAS PROVISIONALMENTE,TODAVIA ...\n",
       "1       ACEITUNA CONSERVADAS PROVISIONALMENTE,TODAVIA ...\n",
       "2       ACEITUNA CONSERVADAS PROVISIONALMENTE,TODAVIA ...\n",
       "3                                               ACEITUNAS\n",
       "4       ACEITUNA CONSERVADAS PROVISIONALMENTE,TODAVIA ...\n",
       "...                                                   ...\n",
       "631389  CALABAZAS (ZAPALLOS) Y CALABACINES (CUCURBITA ...\n",
       "631390  CALABAZAS (ZAPALLOS) Y CALABACINES (CUCURBITA ...\n",
       "631391  CALABAZAS (ZAPALLOS) Y CALABACINES (CUCURBITA ...\n",
       "631392  CALABAZAS (ZAPALLOS) Y CALABACINES (CUCURBITA ...\n",
       "631393  CALABAZAS (ZAPALLOS) Y CALABACINES (CUCURBITA ...\n",
       "\n",
       "[631394 rows x 1 columns]"
      ]
     },
     "execution_count": 23,
     "metadata": {},
     "output_type": "execute_result"
    }
   ],
   "source": [
    "data[[\"Descripcion de la Partida Aduanera\"]]"
   ]
  },
  {
   "cell_type": "markdown",
   "metadata": {
    "collapsed": false,
    "pycharm": {
     "name": "#%% md\n"
    }
   },
   "source": [
    "Since in this column we are dealing with textual descriptions of the product, we will use Natural Language Processing techniques. A first important step that we will perform is to remove the so-called *stop words* from each cell, so that we get rid of the low-level information. For example, we see that the second row in the above table has the word 'Y' (and) or 'O' (or). This words should not be considered in our future model."
   ]
  },
  {
   "cell_type": "markdown",
   "metadata": {
    "collapsed": false,
    "pycharm": {
     "name": "#%% md\n"
    }
   },
   "source": [
    "To do this we will use the Natural Language Toolkit (NLTK)."
   ]
  },
  {
   "cell_type": "markdown",
   "metadata": {
    "collapsed": false,
    "pycharm": {
     "name": "#%% md\n"
    }
   },
   "source": [
    "First, let's define a function to normalize strings. Here, we don't care about accents*, punctuations and non-alphabetic characters in general, and lower/upper case, so we will get rid of that\n",
    "*while it's true that in Spanish an accent can change the meaning of a word, this doesn't usually happen with nouns, and we have to take into account that is probable that most words that have an accent are probably written with and without it inside the dataset"
   ]
  },
  {
   "cell_type": "code",
   "execution_count": 24,
   "metadata": {
    "collapsed": false,
    "pycharm": {
     "name": "#%%\n"
    }
   },
   "outputs": [],
   "source": [
    "import unidecode\n",
    "import re\n",
    "\n",
    "\n",
    "def to_alpha_lower_ascii(val: str) -> str:\n",
    "    ascii_value = unidecode.unidecode(val)\n",
    "    lower = ascii_value.lower()\n",
    "    alpha = re.sub(r'[^a-z]', ' ', lower)\n",
    "    alpha_spaces = re.sub(r'\\s+', ' ', alpha)\n",
    "    return alpha_spaces"
   ]
  },
  {
   "cell_type": "code",
   "execution_count": 25,
   "metadata": {
    "collapsed": false,
    "pycharm": {
     "name": "#%%\n"
    }
   },
   "outputs": [
    {
     "name": "stdout",
     "output_type": "stream",
     "text": [
      "The words considered stopwords in spanish are: \n",
      "['de', 'la', 'que', 'el', 'en', 'y', 'a', 'los', 'del', 'se', 'las', 'por', 'un', 'para', 'con', 'no', 'una', 'su', 'al', 'lo', 'como', 'mas', 'pero', 'sus', 'le', 'ya', 'o', 'este', 'si', 'porque', 'esta', 'entre', 'cuando', 'muy', 'sin', 'sobre', 'tambien', 'me', 'hasta', 'hay', 'donde', 'quien', 'desde', 'todo', 'nos', 'durante', 'todos', 'uno', 'les', 'ni', 'contra', 'otros', 'ese', 'eso', 'ante', 'ellos', 'e', 'esto', 'mi', 'antes', 'algunos', 'que', 'unos', 'yo', 'otro', 'otras', 'otra', 'el', 'tanto', 'esa', 'estos', 'mucho', 'quienes', 'nada', 'muchos', 'cual', 'poco', 'ella', 'estar', 'estas', 'algunas', 'algo', 'nosotros', 'mi', 'mis', 'tu', 'te', 'ti', 'tu', 'tus', 'ellas', 'nosotras', 'vosotros', 'vosotras', 'os', 'mio', 'mia', 'mios', 'mias', 'tuyo', 'tuya', 'tuyos', 'tuyas', 'suyo', 'suya', 'suyos', 'suyas', 'nuestro', 'nuestra', 'nuestros', 'nuestras', 'vuestro', 'vuestra', 'vuestros', 'vuestras', 'esos', 'esas', 'estoy', 'estas', 'esta', 'estamos', 'estais', 'estan', 'este', 'estes', 'estemos', 'esteis', 'esten', 'estare', 'estaras', 'estara', 'estaremos', 'estareis', 'estaran', 'estaria', 'estarias', 'estariamos', 'estariais', 'estarian', 'estaba', 'estabas', 'estabamos', 'estabais', 'estaban', 'estuve', 'estuviste', 'estuvo', 'estuvimos', 'estuvisteis', 'estuvieron', 'estuviera', 'estuvieras', 'estuvieramos', 'estuvierais', 'estuvieran', 'estuviese', 'estuvieses', 'estuviesemos', 'estuvieseis', 'estuviesen', 'estando', 'estado', 'estada', 'estados', 'estadas', 'estad', 'he', 'has', 'ha', 'hemos', 'habeis', 'han', 'haya', 'hayas', 'hayamos', 'hayais', 'hayan', 'habre', 'habras', 'habra', 'habremos', 'habreis', 'habran', 'habria', 'habrias', 'habriamos', 'habriais', 'habrian', 'habia', 'habias', 'habiamos', 'habiais', 'habian', 'hube', 'hubiste', 'hubo', 'hubimos', 'hubisteis', 'hubieron', 'hubiera', 'hubieras', 'hubieramos', 'hubierais', 'hubieran', 'hubiese', 'hubieses', 'hubiesemos', 'hubieseis', 'hubiesen', 'habiendo', 'habido', 'habida', 'habidos', 'habidas', 'soy', 'eres', 'es', 'somos', 'sois', 'son', 'sea', 'seas', 'seamos', 'seais', 'sean', 'sere', 'seras', 'sera', 'seremos', 'sereis', 'seran', 'seria', 'serias', 'seriamos', 'seriais', 'serian', 'era', 'eras', 'eramos', 'erais', 'eran', 'fui', 'fuiste', 'fue', 'fuimos', 'fuisteis', 'fueron', 'fuera', 'fueras', 'fueramos', 'fuerais', 'fueran', 'fuese', 'fueses', 'fuesemos', 'fueseis', 'fuesen', 'sintiendo', 'sentido', 'sentida', 'sentidos', 'sentidas', 'siente', 'sentid', 'tengo', 'tienes', 'tiene', 'tenemos', 'teneis', 'tienen', 'tenga', 'tengas', 'tengamos', 'tengais', 'tengan', 'tendre', 'tendras', 'tendra', 'tendremos', 'tendreis', 'tendran', 'tendria', 'tendrias', 'tendriamos', 'tendriais', 'tendrian', 'tenia', 'tenias', 'teniamos', 'teniais', 'tenian', 'tuve', 'tuviste', 'tuvo', 'tuvimos', 'tuvisteis', 'tuvieron', 'tuviera', 'tuvieras', 'tuvieramos', 'tuvierais', 'tuvieran', 'tuviese', 'tuvieses', 'tuviesemos', 'tuvieseis', 'tuviesen', 'teniendo', 'tenido', 'tenida', 'tenidos', 'tenidas', 'tened']\n"
     ]
    },
    {
     "name": "stderr",
     "output_type": "stream",
     "text": [
      "[nltk_data] Downloading package stopwords to\n",
      "[nltk_data]     C:\\Users\\spost\\AppData\\Roaming\\nltk_data...\n",
      "[nltk_data]   Package stopwords is already up-to-date!\n"
     ]
    }
   ],
   "source": [
    "import nltk\n",
    "\n",
    "nltk.download('stopwords')\n",
    "from nltk.corpus import stopwords\n",
    "\n",
    "sw_nltk = [to_alpha_lower_ascii(x) for x in stopwords.words('spanish')]\n",
    "print(\"The words considered stopwords in spanish are: \")\n",
    "print(sw_nltk)"
   ]
  },
  {
   "cell_type": "markdown",
   "metadata": {
    "collapsed": false,
    "pycharm": {
     "name": "#%% md\n"
    }
   },
   "source": [
    "Now let's convert the values to simple ascii using the previous function and get rid of stopwords and other short words (1 or 2 letters)"
   ]
  },
  {
   "cell_type": "code",
   "execution_count": 26,
   "metadata": {
    "collapsed": false,
    "pycharm": {
     "name": "#%%\n"
    }
   },
   "outputs": [],
   "source": [
    "def clean_str(value: str) -> str:\n",
    "    converted_words = to_alpha_lower_ascii(value).split()\n",
    "    return ' '.join(word for word in converted_words if word not in sw_nltk and len(word) > 2)"
   ]
  },
  {
   "cell_type": "code",
   "execution_count": 27,
   "metadata": {
    "collapsed": false,
    "pycharm": {
     "name": "#%%\n"
    }
   },
   "outputs": [
    {
     "data": {
      "text/html": [
       "<div>\n",
       "<style scoped>\n",
       "    .dataframe tbody tr th:only-of-type {\n",
       "        vertical-align: middle;\n",
       "    }\n",
       "\n",
       "    .dataframe tbody tr th {\n",
       "        vertical-align: top;\n",
       "    }\n",
       "\n",
       "    .dataframe thead th {\n",
       "        text-align: right;\n",
       "    }\n",
       "</style>\n",
       "<table border=\"1\" class=\"dataframe\">\n",
       "  <thead>\n",
       "    <tr style=\"text-align: right;\">\n",
       "      <th></th>\n",
       "      <th>Descripcion de la Partida Aduanera</th>\n",
       "      <th>Descripcion de la Partida Aduanera_clean</th>\n",
       "    </tr>\n",
       "  </thead>\n",
       "  <tbody>\n",
       "    <tr>\n",
       "      <th>0</th>\n",
       "      <td>ACEITUNA CONSERVADAS PROVISIONALMENTE,TODAVIA ...</td>\n",
       "      <td>aceituna conservadas provisionalmente todavia ...</td>\n",
       "    </tr>\n",
       "    <tr>\n",
       "      <th>1</th>\n",
       "      <td>ACEITUNA CONSERVADAS PROVISIONALMENTE,TODAVIA ...</td>\n",
       "      <td>aceituna conservadas provisionalmente todavia ...</td>\n",
       "    </tr>\n",
       "    <tr>\n",
       "      <th>2</th>\n",
       "      <td>ACEITUNA CONSERVADAS PROVISIONALMENTE,TODAVIA ...</td>\n",
       "      <td>aceituna conservadas provisionalmente todavia ...</td>\n",
       "    </tr>\n",
       "    <tr>\n",
       "      <th>3</th>\n",
       "      <td>ACEITUNAS</td>\n",
       "      <td>aceitunas</td>\n",
       "    </tr>\n",
       "    <tr>\n",
       "      <th>4</th>\n",
       "      <td>ACEITUNA CONSERVADAS PROVISIONALMENTE,TODAVIA ...</td>\n",
       "      <td>aceituna conservadas provisionalmente todavia ...</td>\n",
       "    </tr>\n",
       "    <tr>\n",
       "      <th>...</th>\n",
       "      <td>...</td>\n",
       "      <td>...</td>\n",
       "    </tr>\n",
       "    <tr>\n",
       "      <th>631389</th>\n",
       "      <td>CALABAZAS (ZAPALLOS) Y CALABACINES (CUCURBITA ...</td>\n",
       "      <td>calabazas zapallos calabacines cucurbita spp</td>\n",
       "    </tr>\n",
       "    <tr>\n",
       "      <th>631390</th>\n",
       "      <td>CALABAZAS (ZAPALLOS) Y CALABACINES (CUCURBITA ...</td>\n",
       "      <td>calabazas zapallos calabacines cucurbita spp</td>\n",
       "    </tr>\n",
       "    <tr>\n",
       "      <th>631391</th>\n",
       "      <td>CALABAZAS (ZAPALLOS) Y CALABACINES (CUCURBITA ...</td>\n",
       "      <td>calabazas zapallos calabacines cucurbita spp</td>\n",
       "    </tr>\n",
       "    <tr>\n",
       "      <th>631392</th>\n",
       "      <td>CALABAZAS (ZAPALLOS) Y CALABACINES (CUCURBITA ...</td>\n",
       "      <td>calabazas zapallos calabacines cucurbita spp</td>\n",
       "    </tr>\n",
       "    <tr>\n",
       "      <th>631393</th>\n",
       "      <td>CALABAZAS (ZAPALLOS) Y CALABACINES (CUCURBITA ...</td>\n",
       "      <td>calabazas zapallos calabacines cucurbita spp</td>\n",
       "    </tr>\n",
       "  </tbody>\n",
       "</table>\n",
       "<p>631394 rows × 2 columns</p>\n",
       "</div>"
      ],
      "text/plain": [
       "                       Descripcion de la Partida Aduanera  \\\n",
       "0       ACEITUNA CONSERVADAS PROVISIONALMENTE,TODAVIA ...   \n",
       "1       ACEITUNA CONSERVADAS PROVISIONALMENTE,TODAVIA ...   \n",
       "2       ACEITUNA CONSERVADAS PROVISIONALMENTE,TODAVIA ...   \n",
       "3                                               ACEITUNAS   \n",
       "4       ACEITUNA CONSERVADAS PROVISIONALMENTE,TODAVIA ...   \n",
       "...                                                   ...   \n",
       "631389  CALABAZAS (ZAPALLOS) Y CALABACINES (CUCURBITA ...   \n",
       "631390  CALABAZAS (ZAPALLOS) Y CALABACINES (CUCURBITA ...   \n",
       "631391  CALABAZAS (ZAPALLOS) Y CALABACINES (CUCURBITA ...   \n",
       "631392  CALABAZAS (ZAPALLOS) Y CALABACINES (CUCURBITA ...   \n",
       "631393  CALABAZAS (ZAPALLOS) Y CALABACINES (CUCURBITA ...   \n",
       "\n",
       "                 Descripcion de la Partida Aduanera_clean  \n",
       "0       aceituna conservadas provisionalmente todavia ...  \n",
       "1       aceituna conservadas provisionalmente todavia ...  \n",
       "2       aceituna conservadas provisionalmente todavia ...  \n",
       "3                                               aceitunas  \n",
       "4       aceituna conservadas provisionalmente todavia ...  \n",
       "...                                                   ...  \n",
       "631389       calabazas zapallos calabacines cucurbita spp  \n",
       "631390       calabazas zapallos calabacines cucurbita spp  \n",
       "631391       calabazas zapallos calabacines cucurbita spp  \n",
       "631392       calabazas zapallos calabacines cucurbita spp  \n",
       "631393       calabazas zapallos calabacines cucurbita spp  \n",
       "\n",
       "[631394 rows x 2 columns]"
      ]
     },
     "execution_count": 27,
     "metadata": {},
     "output_type": "execute_result"
    }
   ],
   "source": [
    "data['Descripcion de la Partida Aduanera_clean'] = data['Descripcion de la Partida Aduanera'].apply(clean_str)\n",
    "data[['Descripcion de la Partida Aduanera', 'Descripcion de la Partida Aduanera_clean']]"
   ]
  },
  {
   "cell_type": "code",
   "execution_count": 28,
   "metadata": {
    "collapsed": false,
    "pycharm": {
     "name": "#%%\n"
    }
   },
   "outputs": [],
   "source": [
    "data.drop('Descripcion de la Partida Aduanera', axis=1, inplace=True)\n",
    "data.rename({'Descripcion de la Partida Aduanera_clean': 'Descripcion de la Partida Aduanera'}, axis=1, inplace=True)"
   ]
  },
  {
   "cell_type": "markdown",
   "metadata": {
    "collapsed": false,
    "pycharm": {
     "name": "#%% md\n"
    }
   },
   "source": [
    "#### **Fecha (date)**"
   ]
  },
  {
   "cell_type": "markdown",
   "metadata": {
    "collapsed": false,
    "pycharm": {
     "name": "#%% md\n"
    }
   },
   "source": [
    "For this column we will map the month of shipment"
   ]
  },
  {
   "cell_type": "code",
   "execution_count": 29,
   "metadata": {
    "collapsed": false,
    "pycharm": {
     "name": "#%%\n"
    }
   },
   "outputs": [],
   "source": [
    "data['Fecha'] = pd.to_datetime(data['Fecha'].values, infer_datetime_format=True).month"
   ]
  },
  {
   "cell_type": "markdown",
   "metadata": {
    "collapsed": false,
    "pycharm": {
     "name": "#%% md\n"
    }
   },
   "source": [
    "#### **Kg Neto (net weight in of good KG) and U$ FOB Tot (total price of good)**"
   ]
  },
  {
   "cell_type": "markdown",
   "metadata": {
    "collapsed": false,
    "pycharm": {
     "name": "#%% md\n"
    }
   },
   "source": [
    "As we said before, here we will get the price by kg of the good. To do this we will use both columns and transform them into one."
   ]
  },
  {
   "cell_type": "code",
   "execution_count": 30,
   "metadata": {
    "collapsed": false,
    "pycharm": {
     "name": "#%%\n"
    }
   },
   "outputs": [],
   "source": [
    "import numpy as np\n",
    "\n",
    "data['Kg Neto'] = data['Kg Neto'].str.replace(',', '.').astype(float).values\n",
    "data['U$ FOB Tot'] = data['U$ FOB Tot'].str.replace(',', '.').astype(float).values"
   ]
  },
  {
   "cell_type": "code",
   "execution_count": 31,
   "metadata": {
    "collapsed": false,
    "pycharm": {
     "name": "#%%\n"
    }
   },
   "outputs": [
    {
     "data": {
      "text/plain": [
       "False    631332\n",
       "True         62\n",
       "Name: Kg Neto, dtype: int64"
      ]
     },
     "execution_count": 31,
     "metadata": {},
     "output_type": "execute_result"
    }
   ],
   "source": [
    "(data[\"Kg Neto\"] == 0).value_counts()"
   ]
  },
  {
   "cell_type": "code",
   "execution_count": 32,
   "metadata": {
    "collapsed": false,
    "pycharm": {
     "name": "#%%\n"
    }
   },
   "outputs": [],
   "source": [
    "data = data.drop(data[data[\"Kg Neto\"] == 0].index)"
   ]
  },
  {
   "cell_type": "code",
   "execution_count": 33,
   "metadata": {
    "collapsed": false,
    "pycharm": {
     "name": "#%%\n"
    }
   },
   "outputs": [],
   "source": [
    "data[\"usd_kg\"] = np.divide(data['Kg Neto'], data['U$ FOB Tot'])\n",
    "data['usd_kg'] = data['usd_kg'].fillna(0)\n",
    "data['usd_kg'] = data['usd_kg'].replace([[np.inf, -np.inf]], 0)\n",
    "\n",
    "data = data.drop(columns=[\"Kg Neto\", \"U$ FOB Tot\"])"
   ]
  },
  {
   "cell_type": "code",
   "execution_count": 34,
   "metadata": {
    "collapsed": false,
    "pycharm": {
     "name": "#%%\n"
    }
   },
   "outputs": [
    {
     "data": {
      "text/plain": [
       "count    631332.000000\n",
       "mean          5.460213\n",
       "std         271.044459\n",
       "min           0.000000\n",
       "25%           0.222281\n",
       "50%           0.371321\n",
       "75%           0.585714\n",
       "max       24000.000000\n",
       "Name: usd_kg, dtype: float64"
      ]
     },
     "execution_count": 34,
     "metadata": {},
     "output_type": "execute_result"
    }
   ],
   "source": [
    "data['usd_kg'].describe()"
   ]
  },
  {
   "cell_type": "markdown",
   "metadata": {
    "collapsed": false,
    "pycharm": {
     "name": "#%% md\n"
    }
   },
   "source": [
    "#### **País de destino (country of destiny)**"
   ]
  },
  {
   "cell_type": "code",
   "execution_count": 35,
   "metadata": {
    "collapsed": false,
    "pycharm": {
     "name": "#%%\n"
    }
   },
   "outputs": [
    {
     "data": {
      "text/plain": [
       "array(['Aguas Internacionales', 'Albania', 'Alemania', 'Arabia Saudita',\n",
       "       'Argelia', 'Argentina', 'Aruba', 'Australia', 'Austria', 'Bahamas',\n",
       "       'Bahréin', 'Barbados', 'Benín', 'Bielorrusia', 'Bolivia',\n",
       "       'Bosnia Y Herzegovina', 'Brasil', 'Bulgaria', 'Bélgica',\n",
       "       'Cabo Verde', 'Camboya', 'Camerún', 'Canadá', 'Chile', 'China',\n",
       "       'Chipre', 'Colombia', 'Corea Del Norte', 'Corea Del Sur',\n",
       "       'Costa De Marfil', 'Costa Rica', 'Croacia', 'Cuba', 'Curazao',\n",
       "       'Dinamarca', 'Ecuador', 'Egipto', 'El Salvador',\n",
       "       'Emiratos Árabes Unidos', 'Eslovenia', 'España', 'Estados Unidos',\n",
       "       'Estonia', 'Federación Rusa', 'Filipinas', 'Finlandia', 'Francia',\n",
       "       'Gabón', 'Georgia', 'Ghana', 'Grecia', 'Groenlandia', 'Guadalupe',\n",
       "       'Guatemala', 'Guayana Francesa', 'Haití', 'Honduras', 'Hong Kong',\n",
       "       'Hungría', 'India', 'Indonesia', 'Irak', 'Irlanda',\n",
       "       'Irán (República Islámica De)',\n",
       "       'Islas Ultramarinas Menores De Estados Unidos', 'Israel', 'Italia',\n",
       "       'Jamaica', 'Japón', 'Jordania', 'Kenia', 'Kiribati', 'Kuwait',\n",
       "       'Letonia', 'Libia', 'Lituania', 'Líbano', 'Macao', 'Malasia',\n",
       "       'Maldivas', 'Malta', 'Marruecos', 'Martinica', 'Mauricio',\n",
       "       'Montenegro', 'Mozambique', 'Myanmar', 'México', 'N/A 1B',\n",
       "       'Nicaragua', 'Nigeria', 'Noruega', 'Nueva Caledonia',\n",
       "       'Nueva Zelanda', 'Omán', 'Pakistán', 'Panamá', 'Paraguay',\n",
       "       'Países Bajos', 'Polonia', 'Portugal', 'Puerto Rico', 'Qatar',\n",
       "       'Reino Unido', 'República Checa', 'República Dominicana',\n",
       "       'Reunión', 'Rumanía', 'Senegal', 'Serbia', 'Singapur', 'Sudáfrica',\n",
       "       'Sudán', 'Suecia', 'Suiza', 'Tailandia',\n",
       "       'Taiwán, Provincia De China', 'Togo', 'Tokelau',\n",
       "       'Trinidad Y Tobago', 'Turquía', 'Túnez', 'Ucrania', 'Uruguay',\n",
       "       'Venezuela', 'Vietnam', 'Zambia', 'Zona Franca Perú'], dtype=object)"
      ]
     },
     "execution_count": 35,
     "metadata": {},
     "output_type": "execute_result"
    }
   ],
   "source": [
    "countries = data[\"Pais de Destino\"].unique()\n",
    "countries.sort()\n",
    "countries"
   ]
  },
  {
   "cell_type": "markdown",
   "metadata": {
    "collapsed": false,
    "pycharm": {
     "name": "#%% md\n"
    }
   },
   "source": [
    "The column is correct and shows not corrupted data. We will only set the values to lowercase and remove accents."
   ]
  },
  {
   "cell_type": "code",
   "execution_count": 36,
   "metadata": {
    "collapsed": false,
    "pycharm": {
     "name": "#%%\n"
    }
   },
   "outputs": [],
   "source": [
    "data[\"Pais de Destino\"] = data[\"Pais de Destino\"].apply(lambda country: unidecode.unidecode(country).lower())"
   ]
  },
  {
   "cell_type": "markdown",
   "metadata": {
    "collapsed": false,
    "pycharm": {
     "name": "#%% md\n"
    }
   },
   "source": [
    "#### **Descripcion Comercial (comercial description)**"
   ]
  },
  {
   "cell_type": "markdown",
   "metadata": {
    "collapsed": false,
    "pycharm": {
     "name": "#%% md\n"
    }
   },
   "source": [
    "As it will be shown below, there are values in these columns with repeated sentences inside"
   ]
  },
  {
   "cell_type": "code",
   "execution_count": 37,
   "metadata": {
    "collapsed": false,
    "pycharm": {
     "name": "#%%\n"
    }
   },
   "outputs": [
    {
     "data": {
      "text/plain": [
       "'ACEITUNAS ARAUCO PRESENTACION EN BIDONES   RESTITUCION DERECHOS ARANC. (COD 13)'"
      ]
     },
     "execution_count": 37,
     "metadata": {},
     "output_type": "execute_result"
    }
   ],
   "source": [
    "comercial_description = data[\"Descripcion Comercial\"].tolist()\n",
    "comercial_description[0]"
   ]
  },
  {
   "cell_type": "markdown",
   "metadata": {
    "collapsed": false,
    "pycharm": {
     "name": "#%% md\n"
    }
   },
   "source": [
    "Let's clean this and also remove accents, double or more white spaces, stopwords, punctuations and set to lowercase"
   ]
  },
  {
   "cell_type": "code",
   "execution_count": 38,
   "metadata": {
    "collapsed": false,
    "pycharm": {
     "name": "#%%\n"
    }
   },
   "outputs": [],
   "source": [
    "def remove_repetitions(source: str) -> str:\n",
    "    return re.match(r'^\\s*([\\w\\s]+?)(?:\\s*\\1)*\\s*$', source)[1]"
   ]
  },
  {
   "cell_type": "code",
   "execution_count": 39,
   "metadata": {
    "collapsed": false,
    "pycharm": {
     "name": "#%%\n"
    }
   },
   "outputs": [
    {
     "data": {
      "text/plain": [
       "0         aceitunas arauco presentacion bidones restituc...\n",
       "1         aceitunas arauco presentacion bidones verde sa...\n",
       "2         bidones aceituna mesa ascolana verde deshuesad...\n",
       "3         aceituna ascolana entera bid acoge restitucion...\n",
       "4         aceituna ascolano presentacion bidones restitu...\n",
       "                                ...                        \n",
       "631389                              zapallo calabaza fresco\n",
       "631390                                              zapallo\n",
       "631391      zapallocodigo restitucion derechos arancelarios\n",
       "631392    zapallos pumpkins zapallos frescos acta inspec...\n",
       "631393                         zapallos congelados big bags\n",
       "Name: Descripcion Comercial, Length: 631332, dtype: object"
      ]
     },
     "execution_count": 39,
     "metadata": {},
     "output_type": "execute_result"
    }
   ],
   "source": [
    "data['Descripcion Comercial'] = data['Descripcion Comercial'].apply(clean_str).apply(remove_repetitions)\n",
    "data['Descripcion Comercial']"
   ]
  },
  {
   "cell_type": "markdown",
   "metadata": {
    "collapsed": false,
    "pycharm": {
     "name": "#%% md\n"
    }
   },
   "source": [
    "#### **Categoria macro Aurum (subcategories)**"
   ]
  },
  {
   "cell_type": "markdown",
   "metadata": {
    "collapsed": false,
    "pycharm": {
     "name": "#%% md\n"
    }
   },
   "source": [
    "This is the column to predict"
   ]
  },
  {
   "cell_type": "markdown",
   "metadata": {
    "collapsed": false,
    "pycharm": {
     "name": "#%% md\n"
    }
   },
   "source": [
    "Finally, our data is clean and ready to be preprocessed. As a last step, we will reset the indexes."
   ]
  },
  {
   "cell_type": "code",
   "execution_count": 40,
   "metadata": {
    "collapsed": false,
    "pycharm": {
     "name": "#%%\n"
    }
   },
   "outputs": [
    {
     "data": {
      "text/html": [
       "<div>\n",
       "<style scoped>\n",
       "    .dataframe tbody tr th:only-of-type {\n",
       "        vertical-align: middle;\n",
       "    }\n",
       "\n",
       "    .dataframe tbody tr th {\n",
       "        vertical-align: top;\n",
       "    }\n",
       "\n",
       "    .dataframe thead th {\n",
       "        text-align: right;\n",
       "    }\n",
       "</style>\n",
       "<table border=\"1\" class=\"dataframe\">\n",
       "  <thead>\n",
       "    <tr style=\"text-align: right;\">\n",
       "      <th></th>\n",
       "      <th>Fecha</th>\n",
       "      <th>Pais de Destino</th>\n",
       "      <th>Descripcion Comercial</th>\n",
       "      <th>Descripcion de la Partida Aduanera</th>\n",
       "      <th>usd_kg</th>\n",
       "      <th>Categoría macro Aurum</th>\n",
       "    </tr>\n",
       "  </thead>\n",
       "  <tbody>\n",
       "    <tr>\n",
       "      <th>0</th>\n",
       "      <td>11</td>\n",
       "      <td>chile</td>\n",
       "      <td>aceitunas arauco presentacion bidones restituc...</td>\n",
       "      <td>aceituna conservadas provisionalmente todavia ...</td>\n",
       "      <td>0.703116</td>\n",
       "      <td>Aceituna</td>\n",
       "    </tr>\n",
       "    <tr>\n",
       "      <th>1</th>\n",
       "      <td>2</td>\n",
       "      <td>chile</td>\n",
       "      <td>aceitunas arauco presentacion bidones verde sa...</td>\n",
       "      <td>aceituna conservadas provisionalmente todavia ...</td>\n",
       "      <td>0.844524</td>\n",
       "      <td>Aceituna</td>\n",
       "    </tr>\n",
       "    <tr>\n",
       "      <th>2</th>\n",
       "      <td>10</td>\n",
       "      <td>australia</td>\n",
       "      <td>bidones aceituna mesa ascolana verde deshuesad...</td>\n",
       "      <td>aceituna conservadas provisionalmente todavia ...</td>\n",
       "      <td>0.277778</td>\n",
       "      <td>Aceituna</td>\n",
       "    </tr>\n",
       "    <tr>\n",
       "      <th>3</th>\n",
       "      <td>7</td>\n",
       "      <td>jordania</td>\n",
       "      <td>aceituna ascolana entera bid acoge restitucion...</td>\n",
       "      <td>aceitunas</td>\n",
       "      <td>0.434783</td>\n",
       "      <td>Aceituna</td>\n",
       "    </tr>\n",
       "    <tr>\n",
       "      <th>4</th>\n",
       "      <td>11</td>\n",
       "      <td>chile</td>\n",
       "      <td>aceituna ascolano presentacion bidones restitu...</td>\n",
       "      <td>aceituna conservadas provisionalmente todavia ...</td>\n",
       "      <td>0.760793</td>\n",
       "      <td>Aceituna</td>\n",
       "    </tr>\n",
       "    <tr>\n",
       "      <th>...</th>\n",
       "      <td>...</td>\n",
       "      <td>...</td>\n",
       "      <td>...</td>\n",
       "      <td>...</td>\n",
       "      <td>...</td>\n",
       "      <td>...</td>\n",
       "    </tr>\n",
       "    <tr>\n",
       "      <th>631327</th>\n",
       "      <td>5</td>\n",
       "      <td>espana</td>\n",
       "      <td>zapallo calabaza fresco</td>\n",
       "      <td>calabazas zapallos calabacines cucurbita spp</td>\n",
       "      <td>0.714286</td>\n",
       "      <td>Zapallo</td>\n",
       "    </tr>\n",
       "    <tr>\n",
       "      <th>631328</th>\n",
       "      <td>7</td>\n",
       "      <td>espana</td>\n",
       "      <td>zapallo</td>\n",
       "      <td>calabazas zapallos calabacines cucurbita spp</td>\n",
       "      <td>0.666667</td>\n",
       "      <td>Zapallo</td>\n",
       "    </tr>\n",
       "    <tr>\n",
       "      <th>631329</th>\n",
       "      <td>5</td>\n",
       "      <td>suiza</td>\n",
       "      <td>zapallocodigo restitucion derechos arancelarios</td>\n",
       "      <td>calabazas zapallos calabacines cucurbita spp</td>\n",
       "      <td>0.416667</td>\n",
       "      <td>Zapallo</td>\n",
       "    </tr>\n",
       "    <tr>\n",
       "      <th>631330</th>\n",
       "      <td>4</td>\n",
       "      <td>alemania</td>\n",
       "      <td>zapallos pumpkins zapallos frescos acta inspec...</td>\n",
       "      <td>calabazas zapallos calabacines cucurbita spp</td>\n",
       "      <td>1.000000</td>\n",
       "      <td>Zapallo</td>\n",
       "    </tr>\n",
       "    <tr>\n",
       "      <th>631331</th>\n",
       "      <td>7</td>\n",
       "      <td>paises bajos</td>\n",
       "      <td>zapallos congelados big bags</td>\n",
       "      <td>calabazas zapallos calabacines cucurbita spp</td>\n",
       "      <td>1.449040</td>\n",
       "      <td>Zapallo</td>\n",
       "    </tr>\n",
       "  </tbody>\n",
       "</table>\n",
       "<p>631332 rows × 6 columns</p>\n",
       "</div>"
      ],
      "text/plain": [
       "        Fecha Pais de Destino  \\\n",
       "0          11           chile   \n",
       "1           2           chile   \n",
       "2          10       australia   \n",
       "3           7        jordania   \n",
       "4          11           chile   \n",
       "...       ...             ...   \n",
       "631327      5          espana   \n",
       "631328      7          espana   \n",
       "631329      5           suiza   \n",
       "631330      4        alemania   \n",
       "631331      7    paises bajos   \n",
       "\n",
       "                                    Descripcion Comercial  \\\n",
       "0       aceitunas arauco presentacion bidones restituc...   \n",
       "1       aceitunas arauco presentacion bidones verde sa...   \n",
       "2       bidones aceituna mesa ascolana verde deshuesad...   \n",
       "3       aceituna ascolana entera bid acoge restitucion...   \n",
       "4       aceituna ascolano presentacion bidones restitu...   \n",
       "...                                                   ...   \n",
       "631327                            zapallo calabaza fresco   \n",
       "631328                                            zapallo   \n",
       "631329    zapallocodigo restitucion derechos arancelarios   \n",
       "631330  zapallos pumpkins zapallos frescos acta inspec...   \n",
       "631331                       zapallos congelados big bags   \n",
       "\n",
       "                       Descripcion de la Partida Aduanera    usd_kg  \\\n",
       "0       aceituna conservadas provisionalmente todavia ...  0.703116   \n",
       "1       aceituna conservadas provisionalmente todavia ...  0.844524   \n",
       "2       aceituna conservadas provisionalmente todavia ...  0.277778   \n",
       "3                                               aceitunas  0.434783   \n",
       "4       aceituna conservadas provisionalmente todavia ...  0.760793   \n",
       "...                                                   ...       ...   \n",
       "631327       calabazas zapallos calabacines cucurbita spp  0.714286   \n",
       "631328       calabazas zapallos calabacines cucurbita spp  0.666667   \n",
       "631329       calabazas zapallos calabacines cucurbita spp  0.416667   \n",
       "631330       calabazas zapallos calabacines cucurbita spp  1.000000   \n",
       "631331       calabazas zapallos calabacines cucurbita spp  1.449040   \n",
       "\n",
       "       Categoría macro Aurum  \n",
       "0                   Aceituna  \n",
       "1                   Aceituna  \n",
       "2                   Aceituna  \n",
       "3                   Aceituna  \n",
       "4                   Aceituna  \n",
       "...                      ...  \n",
       "631327               Zapallo  \n",
       "631328               Zapallo  \n",
       "631329               Zapallo  \n",
       "631330               Zapallo  \n",
       "631331               Zapallo  \n",
       "\n",
       "[631332 rows x 6 columns]"
      ]
     },
     "execution_count": 40,
     "metadata": {},
     "output_type": "execute_result"
    }
   ],
   "source": [
    "data.reset_index(drop=True, inplace=True)\n",
    "data = data[[col for col in data if col != 'Categoría macro Aurum'] + ['Categoría macro Aurum']]\n",
    "data.to_csv('../data/cleaned_data/cleaned_data.csv', index=False)\n",
    "data"
   ]
  }
 ],
 "metadata": {
  "kernelspec": {
   "display_name": "Python 3.10.0 ('ml_project')",
   "language": "python",
   "name": "python3"
  },
  "language_info": {
   "codemirror_mode": {
    "name": "ipython",
    "version": 3
   },
   "file_extension": ".py",
   "mimetype": "text/x-python",
   "name": "python",
   "nbconvert_exporter": "python",
   "pygments_lexer": "ipython3",
   "version": "3.10.0"
  },
  "orig_nbformat": 4,
  "vscode": {
   "interpreter": {
    "hash": "7741a1131fbe9bf5a0f5d7457e8f9d1e7d381e789d9a050b2713f6d313501fbc"
   }
  }
 },
 "nbformat": 4,
 "nbformat_minor": 2
}
